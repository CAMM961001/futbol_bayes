{
 "cells": [
  {
   "attachments": {},
   "cell_type": "markdown",
   "metadata": {},
   "source": [
    "# Fútbol bayesiano\n",
    "\n",
    "Carga de librerías"
   ]
  },
  {
   "cell_type": "code",
   "execution_count": 1,
   "metadata": {},
   "outputs": [],
   "source": [
    "import os\n",
    "import yaml\n",
    "import numpy as np\n",
    "import pandas as pd\n",
    "import matplotlib.pyplot as plt\n",
    "\n",
    "from cmdstanpy import CmdStanModel\n",
    "from ipywidgets import widgets"
   ]
  },
  {
   "attachments": {},
   "cell_type": "markdown",
   "metadata": {},
   "source": [
    "Se definen rutas relativas del archivo"
   ]
  },
  {
   "cell_type": "code",
   "execution_count": 2,
   "metadata": {},
   "outputs": [],
   "source": [
    "CURRENT = os.getcwd()\n",
    "ROOT = os.path.dirname(CURRENT)"
   ]
  },
  {
   "attachments": {},
   "cell_type": "markdown",
   "metadata": {},
   "source": [
    "Cargar en memoria archivo de configuración"
   ]
  },
  {
   "cell_type": "code",
   "execution_count": 3,
   "metadata": {},
   "outputs": [],
   "source": [
    "with open(os.path.join(ROOT, 'config.yml'), 'r') as file_:\n",
    "    config = yaml.safe_load(file_)\n",
    "file_.close()"
   ]
  },
  {
   "attachments": {},
   "cell_type": "markdown",
   "metadata": {},
   "source": [
    "Carga en memoria de los datos"
   ]
  },
  {
   "cell_type": "code",
   "execution_count": 4,
   "metadata": {},
   "outputs": [
    {
     "name": "stdout",
     "output_type": "stream",
     "text": [
      "<class 'pandas.core.frame.DataFrame'>\n",
      "RangeIndex: 863 entries, 0 to 862\n",
      "Data columns (total 9 columns):\n",
      " #   Column               Non-Null Count  Dtype         \n",
      "---  ------               --------------  -----         \n",
      " 0   date                 863 non-null    datetime64[ns]\n",
      " 1   tournament           863 non-null    object        \n",
      " 2   home_team            863 non-null    category      \n",
      " 3   away_team            863 non-null    category      \n",
      " 4   home_team_continent  863 non-null    category      \n",
      " 5   away_team_continent  863 non-null    category      \n",
      " 6   home_team_score      863 non-null    int64         \n",
      " 7   away_team_score      863 non-null    int64         \n",
      " 8   result               863 non-null    int64         \n",
      "dtypes: category(4), datetime64[ns](1), int64(3), object(1)\n",
      "memory usage: 58.7+ KB\n"
     ]
    }
   ],
   "source": [
    "df_ = (\n",
    "    # --------------------------------------------------- Carga de datos crudos\n",
    "    pd.read_csv(\n",
    "        os.path.join(ROOT, config['datos']['raw'])\n",
    "        ,encoding='latin1')\n",
    "    # ---------------------------------------------------- Acotar datos a scope\n",
    "    .query(\"year > 2018\")\n",
    "    .query(\"tournament == 'FIFA World Cup qualification'\")\n",
    "    .reset_index(drop=True)\n",
    "    # --------------------------------------------- Filtrar columnas de interés\n",
    "    .filter(items=[\n",
    "        'date'\n",
    "        ,'tournament'\n",
    "        ,'home_team'\n",
    "        ,'away_team'\n",
    "        ,'home_team_continent'\n",
    "        ,'away_team_continent'\n",
    "        ,'home_team_score'\n",
    "        ,'away_team_score'\n",
    "    ])\n",
    "    # ------------------------------------ Transformación a columnas existentes\n",
    "    .assign(\n",
    "        date = lambda df_: pd.to_datetime(df_.date)\n",
    "        ,home_team = lambda df_: pd.Categorical(df_.home_team)\n",
    "        ,away_team = lambda df_: pd.Categorical(df_.away_team)\n",
    "        ,home_team_continent = lambda df_: pd.Categorical(df_.home_team_continent)\n",
    "        ,away_team_continent = lambda df_: pd.Categorical(df_.away_team_continent)\n",
    "    )\n",
    "    # --------------------------------------- Asignación de columnas computadas\n",
    "    .assign(\n",
    "        result = lambda df_: \n",
    "            # -1: Away win, 0: Draw, 1: Home win\n",
    "            (df_.home_team_score - df_.away_team_score).apply(np.sign)\n",
    "    )\n",
    ")\n",
    "\n",
    "df_.info()"
   ]
  },
  {
   "attachments": {},
   "cell_type": "markdown",
   "metadata": {},
   "source": [
    "# 2. Modelo en STAN\n",
    "\n",
    "$$y^h\\sim Poisson(\\theta^h)$$\n",
    "$$y^a\\sim Poisson(\\theta^a)$$\n",
    "$$log(\\theta^h) = home_{boost} + attack_{i[h]} - defence_{i[a]} + intercept$$\n",
    "$$log(\\theta^a) = attack_{i[a]} - defence_{i[h]} + intercept$$\n",
    "\n",
    "## 2.1. Muestreo\n",
    "\n",
    "Primero se definen algunas funciones útiles para la creación y manipulación de archivos de `stan`, y se crea un proyecto nuevo para la primera iteración del modelo jerárquico."
   ]
  },
  {
   "cell_type": "code",
   "execution_count": 5,
   "metadata": {},
   "outputs": [],
   "source": [
    "import BFG3000 as bfg"
   ]
  },
  {
   "cell_type": "code",
   "execution_count": 9,
   "metadata": {},
   "outputs": [
    {
     "name": "stdout",
     "output_type": "stream",
     "text": [
      "Ya existe un proyecto con el nombre dinam_iter2\n"
     ]
    }
   ],
   "source": [
    "name = 'dinam_iter2'\n",
    "sp_ = bfg.StanProject(name)\n",
    "dir_, model_ = sp_.create_stan_project(dir='modelos')"
   ]
  },
  {
   "attachments": {},
   "cell_type": "markdown",
   "metadata": {},
   "source": [
    "Una vez creado y editado el proyecto de STAN, se declara el siguiente bloque de código para mantener estructura en la compilación del modelo y los archivos que éste genera."
   ]
  },
  {
   "cell_type": "code",
   "execution_count": 8,
   "metadata": {},
   "outputs": [
    {
     "name": "stderr",
     "output_type": "stream",
     "text": [
      "18:26:02 - cmdstanpy - INFO - ignoring compiler option: auto-format\n",
      "18:26:02 - cmdstanpy - INFO - compiling stan file /home/camm961001/Github/futbol_bayes/modelos/dinam_iter1/dinam_iter1.stan to exe file /home/camm961001/Github/futbol_bayes/modelos/dinam_iter1/dinam_iter1\n",
      "18:26:24 - cmdstanpy - INFO - compiled model executable: /home/camm961001/Github/futbol_bayes/modelos/dinam_iter1/dinam_iter1\n",
      "18:26:24 - cmdstanpy - WARNING - Stan compiler has produced 6 warnings:\n",
      "18:26:24 - cmdstanpy - WARNING - \n",
      "--- Translating Stan model to C++ code ---\n",
      "bin/stanc  --o=/home/camm961001/Github/futbol_bayes/modelos/dinam_iter1/dinam_iter1.hpp /home/camm961001/Github/futbol_bayes/modelos/dinam_iter1/dinam_iter1.stan\n",
      "Warning in '/home/camm961001/Github/futbol_bayes/modelos/dinam_iter1/dinam_iter1.stan', line 7, column 4: Declaration\n",
      "    of arrays by placing brackets after a variable name is deprecated and\n",
      "    will be removed in Stan 2.32.0. Instead use the array keyword before the\n",
      "    type. This can be changed automatically using the auto-format flag to\n",
      "    stanc\n",
      "Warning in '/home/camm961001/Github/futbol_bayes/modelos/dinam_iter1/dinam_iter1.stan', line 8, column 4: Declaration\n",
      "    of arrays by placing brackets after a variable name is deprecated and\n",
      "    will be removed in Stan 2.32.0. Instead use the array keyword before the\n",
      "    type. This can be changed automatically using the auto-format flag to\n",
      "    stanc\n",
      "Warning in '/home/camm961001/Github/futbol_bayes/modelos/dinam_iter1/dinam_iter1.stan', line 10, column 4: Declaration\n",
      "    of arrays by placing brackets after a variable name is deprecated and\n",
      "    will be removed in Stan 2.32.0. Instead use the array keyword before the\n",
      "    type. This can be changed automatically using the auto-format flag to\n",
      "    stanc\n",
      "Warning in '/home/camm961001/Github/futbol_bayes/modelos/dinam_iter1/dinam_iter1.stan', line 11, column 4: Declaration\n",
      "    of arrays by placing brackets after a variable name is deprecated and\n",
      "    will be removed in Stan 2.32.0. Instead use the array keyword before the\n",
      "    type. This can be changed automatically using the auto-format flag to\n",
      "    stanc\n",
      "Warning in '/home/camm961001/Github/futbol_bayes/modelos/dinam_iter1/dinam_iter1.stan', line 59, column 4: Declaration\n",
      "    of arrays by placing brackets after a variable name is deprecated and\n",
      "    will be removed in Stan 2.32.0. Instead use the array keyword before the\n",
      "    type. This can be changed automatically using the auto-format flag to\n",
      "    stanc\n",
      "Warning in '/home/camm961001/Github/futbol_bayes/modelos/dinam_iter1/dinam_iter1.stan', line 60, column 4: Declaration\n",
      "    of arrays by placing brackets after a variable name is deprecated and\n",
      "    will be removed in Stan 2.32.0. Instead use the array keyword before the\n",
      "    type. This can be changed automatically using the auto-format flag to\n",
      "    stanc\n",
      "\n",
      "--- Compiling, linking C++ code ---\n",
      "/home/camm961001/miniconda3/envs/stan/bin/x86_64-conda-linux-gnu-c++ -fvisibility-inlines-hidden -fmessage-length=0 -march=nocona -mtune=haswell -ftree-vectorize -fPIC -fstack-protector-strong -fno-plt -O2 -ffunction-sections -pipe -isystem /home/camm961001/miniconda3/envs/stan/include -std=c++1y -D_REENTRANT -Wno-sign-compare -Wno-ignored-attributes      -I /home/camm961001/miniconda3/envs/stan/include/    -O3 -I src -I stan/src -I stan/lib/rapidjson_1.1.0/ -I lib/CLI11-1.9.1/ -I stan/lib/stan_math/ -I stan/lib/stan_math/lib/eigen_3.3.9 -I stan/lib/stan_math/lib/boost_1.78.0 -I stan/lib/stan_math/lib/sundials_6.1.1/include -I stan/lib/stan_math/lib/sundials_6.1.1/src/sundials -DNDEBUG -D_FORTIFY_SOURCE=2 -O2 -isystem /home/camm961001/miniconda3/envs/stan/include    -DBOOST_DISABLE_ASSERTS   -DTBB_INTERFACE_NEW  -DTBB_INTERFACE_NEW     -c  -x c++ -o /home/camm961001/Github/futbol_bayes/modelos/dinam_iter1/dinam_iter1.o /home/camm961001/Github/futbol_bayes/modelos/dinam_iter1/dinam_iter1.hpp\n",
      "/home/camm961001/miniconda3/envs/stan/bin/x86_64-conda-linux-gnu-c++ -fvisibility-inlines-hidden -fmessage-length=0 -march=nocona -mtune=haswell -ftree-vectorize -fPIC -fstack-protector-strong -fno-plt -O2 -ffunction-sections -pipe -isystem /home/camm961001/miniconda3/envs/stan/include -std=c++1y -D_REENTRANT -Wno-sign-compare -Wno-ignored-attributes      -I /home/camm961001/miniconda3/envs/stan/include/    -O3 -I src -I stan/src -I stan/lib/rapidjson_1.1.0/ -I lib/CLI11-1.9.1/ -I stan/lib/stan_math/ -I stan/lib/stan_math/lib/eigen_3.3.9 -I stan/lib/stan_math/lib/boost_1.78.0 -I stan/lib/stan_math/lib/sundials_6.1.1/include -I stan/lib/stan_math/lib/sundials_6.1.1/src/sundials -DNDEBUG -D_FORTIFY_SOURCE=2 -O2 -isystem /home/camm961001/miniconda3/envs/stan/include    -DBOOST_DISABLE_ASSERTS   -DTBB_INTERFACE_NEW  -DTBB_INTERFACE_NEW    -Wl,-O2 -Wl,--sort-common -Wl,--as-needed -Wl,-z,relro -Wl,-z,now -Wl,--disable-new-dtags -Wl,--gc-sections -Wl,--allow-shlib-undefined -Wl,-rpath,/home/camm961001/miniconda3/envs/stan/lib -Wl,-rpath-link,/home/camm961001/miniconda3/envs/stan/lib -L/home/camm961001/miniconda3/envs/stan/lib        -Wl,-L,\"/home/camm961001/miniconda3/envs/stan/lib/\" -Wl,-rpath,\"/home/camm961001/miniconda3/envs/stan/lib/\" -Wl,--disable-new-dtags -ltbb    /home/camm961001/Github/futbol_bayes/modelos/dinam_iter1/dinam_iter1.o src/cmdstan/main.o        -Wl,-L,\"/home/camm961001/miniconda3/envs/stan/lib/\" -Wl,-rpath,\"/home/camm961001/miniconda3/envs/stan/lib/\" -Wl,--disable-new-dtags -ltbb stan/lib/stan_math/lib/sundials_6.1.1/lib/libsundials_nvecserial.a stan/lib/stan_math/lib/sundials_6.1.1/lib/libsundials_cvodes.a stan/lib/stan_math/lib/sundials_6.1.1/lib/libsundials_idas.a stan/lib/stan_math/lib/sundials_6.1.1/lib/libsundials_kinsol.a   -o /home/camm961001/Github/futbol_bayes/modelos/dinam_iter1/dinam_iter1\n",
      "rm -f /home/camm961001/Github/futbol_bayes/modelos/dinam_iter1/dinam_iter1.o\n",
      "\n"
     ]
    }
   ],
   "source": [
    "# Compilar el modelo\n",
    "compile_ = CmdStanModel(\n",
    "    model_name=name\n",
    "    ,stan_file=model_\n",
    "    ,compile=True\n",
    "    ,stanc_options={'auto-format':True}\n",
    ")"
   ]
  },
  {
   "attachments": {},
   "cell_type": "markdown",
   "metadata": {},
   "source": [
    "Se declara un diccionario de datos para proporcionar los datos a stan"
   ]
  },
  {
   "cell_type": "code",
   "execution_count": 8,
   "metadata": {},
   "outputs": [],
   "source": [
    "stan_data_ = {\n",
    "    'n_partidos': df_.shape[0]\n",
    "    ,'n_equipos': max(len(df_.home_team.cat.categories), len(df_.away_team.cat.categories))\n",
    "    ,'locales': df_.home_team.cat.codes.values + 1\n",
    "    ,'visitantes': df_.away_team.cat.codes.values + 1\n",
    "    ,'goles_local': df_.home_team_score.values\n",
    "    ,'goles_visita': df_.away_team_score.values\n",
    "    \n",
    "}"
   ]
  },
  {
   "attachments": {},
   "cell_type": "markdown",
   "metadata": {},
   "source": [
    "Finalmente, se ejecuta el modelo y se calibra. Este paso es recursivo y se tiene que ejecutar tantas veces sean necesarias de modo que las cadenas generadas por el muestreador tengan diagnósticos buenos."
   ]
  },
  {
   "cell_type": "code",
   "execution_count": 9,
   "metadata": {},
   "outputs": [
    {
     "name": "stderr",
     "output_type": "stream",
     "text": [
      "18:04:48 - cmdstanpy - INFO - CmdStan start processing\n"
     ]
    },
    {
     "data": {
      "application/vnd.jupyter.widget-view+json": {
       "model_id": "626a7b9b7b9d474985d3a03fe890a972",
       "version_major": 2,
       "version_minor": 0
      },
      "text/plain": [
       "chain 1 |          | 00:00 Status"
      ]
     },
     "metadata": {},
     "output_type": "display_data"
    },
    {
     "data": {
      "application/vnd.jupyter.widget-view+json": {
       "model_id": "237cae9a88f9445a995a6bc7aef79249",
       "version_major": 2,
       "version_minor": 0
      },
      "text/plain": [
       "chain 2 |          | 00:00 Status"
      ]
     },
     "metadata": {},
     "output_type": "display_data"
    },
    {
     "data": {
      "application/vnd.jupyter.widget-view+json": {
       "model_id": "1672e370f0004f588d18ea9fd3fc2a19",
       "version_major": 2,
       "version_minor": 0
      },
      "text/plain": [
       "chain 3 |          | 00:00 Status"
      ]
     },
     "metadata": {},
     "output_type": "display_data"
    },
    {
     "data": {
      "application/vnd.jupyter.widget-view+json": {
       "model_id": "f4cc95ddfab543b4abf1d2a77c2b7161",
       "version_major": 2,
       "version_minor": 0
      },
      "text/plain": [
       "chain 4 |          | 00:00 Status"
      ]
     },
     "metadata": {},
     "output_type": "display_data"
    },
    {
     "data": {
      "application/vnd.jupyter.widget-view+json": {
       "model_id": "f750af99c6cb4ff785246a10b09abb59",
       "version_major": 2,
       "version_minor": 0
      },
      "text/plain": [
       "chain 5 |          | 00:00 Status"
      ]
     },
     "metadata": {},
     "output_type": "display_data"
    },
    {
     "data": {
      "application/vnd.jupyter.widget-view+json": {
       "model_id": "5b4ea883bdf8497a92e959b080657d3a",
       "version_major": 2,
       "version_minor": 0
      },
      "text/plain": [
       "chain 6 |          | 00:00 Status"
      ]
     },
     "metadata": {},
     "output_type": "display_data"
    },
    {
     "data": {
      "application/vnd.jupyter.widget-view+json": {
       "model_id": "2a26a14461f1488c8b482f7109057c60",
       "version_major": 2,
       "version_minor": 0
      },
      "text/plain": [
       "chain 7 |          | 00:00 Status"
      ]
     },
     "metadata": {},
     "output_type": "display_data"
    },
    {
     "data": {
      "application/vnd.jupyter.widget-view+json": {
       "model_id": "a45ed19b9c014c34a8cf715bb284491f",
       "version_major": 2,
       "version_minor": 0
      },
      "text/plain": [
       "chain 8 |          | 00:00 Status"
      ]
     },
     "metadata": {},
     "output_type": "display_data"
    },
    {
     "name": "stdout",
     "output_type": "stream",
     "text": [
      "                                                                                                                                                                                                                                                                                                                                                                                                                                                                                                                                                                                                                                                                "
     ]
    },
    {
     "name": "stderr",
     "output_type": "stream",
     "text": [
      "18:05:14 - cmdstanpy - INFO - CmdStan done processing.\n",
      "18:05:14 - cmdstanpy - WARNING - Non-fatal error during sampling:\n",
      "Exception: gamma_lpdf: Random variable is inf, but must be positive finite! (in '/home/camm961001/Github/futbol_bayes/modelos/dinam_iter1/dinam_iter1.stan', line 46, column 4 to column 32)\n",
      "\tException: gamma_lpdf: Random variable is inf, but must be positive finite! (in '/home/camm961001/Github/futbol_bayes/modelos/dinam_iter1/dinam_iter1.stan', line 46, column 4 to column 32)\n",
      "\tException: normal_lpdf: Scale parameter is 0, but must be positive! (in '/home/camm961001/Github/futbol_bayes/modelos/dinam_iter1/dinam_iter1.stan', line 43, column 4 to column 42)\n",
      "\tException: gamma_lpdf: Random variable is inf, but must be positive finite! (in '/home/camm961001/Github/futbol_bayes/modelos/dinam_iter1/dinam_iter1.stan', line 46, column 4 to column 32)\n",
      "Exception: gamma_lpdf: Random variable is inf, but must be positive finite! (in '/home/camm961001/Github/futbol_bayes/modelos/dinam_iter1/dinam_iter1.stan', line 46, column 4 to column 32)\n",
      "Exception: gamma_lpdf: Random variable is inf, but must be positive finite! (in '/home/camm961001/Github/futbol_bayes/modelos/dinam_iter1/dinam_iter1.stan', line 45, column 4 to column 31)\n",
      "\tException: gamma_lpdf: Random variable is inf, but must be positive finite! (in '/home/camm961001/Github/futbol_bayes/modelos/dinam_iter1/dinam_iter1.stan', line 45, column 4 to column 31)\n",
      "\tException: gamma_lpdf: Random variable is inf, but must be positive finite! (in '/home/camm961001/Github/futbol_bayes/modelos/dinam_iter1/dinam_iter1.stan', line 45, column 4 to column 31)\n",
      "\tException: gamma_lpdf: Random variable is inf, but must be positive finite! (in '/home/camm961001/Github/futbol_bayes/modelos/dinam_iter1/dinam_iter1.stan', line 45, column 4 to column 31)\n",
      "Exception: normal_lpdf: Scale parameter is 0, but must be positive! (in '/home/camm961001/Github/futbol_bayes/modelos/dinam_iter1/dinam_iter1.stan', line 44, column 4 to column 44)\n",
      "Exception: normal_lpdf: Scale parameter is 0, but must be positive! (in '/home/camm961001/Github/futbol_bayes/modelos/dinam_iter1/dinam_iter1.stan', line 44, column 4 to column 44)\n",
      "Exception: normal_lpdf: Scale parameter is 0, but must be positive! (in '/home/camm961001/Github/futbol_bayes/modelos/dinam_iter1/dinam_iter1.stan', line 43, column 4 to column 42)\n",
      "Exception: normal_lpdf: Scale parameter is 0, but must be positive! (in '/home/camm961001/Github/futbol_bayes/modelos/dinam_iter1/dinam_iter1.stan', line 43, column 4 to column 42)\n",
      "Exception: gamma_lpdf: Random variable is inf, but must be positive finite! (in '/home/camm961001/Github/futbol_bayes/modelos/dinam_iter1/dinam_iter1.stan', line 45, column 4 to column 31)\n",
      "\tException: gamma_lpdf: Random variable is inf, but must be positive finite! (in '/home/camm961001/Github/futbol_bayes/modelos/dinam_iter1/dinam_iter1.stan', line 45, column 4 to column 31)\n",
      "\tException: normal_lpdf: Scale parameter is 0, but must be positive! (in '/home/camm961001/Github/futbol_bayes/modelos/dinam_iter1/dinam_iter1.stan', line 44, column 4 to column 44)\n",
      "Consider re-running with show_console=True if the above output is unclear!\n"
     ]
    },
    {
     "name": "stdout",
     "output_type": "stream",
     "text": [
      "\n"
     ]
    }
   ],
   "source": [
    "fit_ = compile_.sample(\n",
    "    data=stan_data_\n",
    "    ,chains=8\n",
    "    ,iter_warmup=5_000\n",
    "    ,iter_sampling=5_000\n",
    "    ,show_progress=True\n",
    "    ,save_warmup=False\n",
    ")"
   ]
  },
  {
   "cell_type": "code",
   "execution_count": 10,
   "metadata": {},
   "outputs": [],
   "source": [
    "diagnose_path = os.path.join(dir_, name + '_diagnose.txt')\n",
    "\n",
    "with open(diagnose_path, 'w') as file_:\n",
    "    file_.write(fit_.diagnose())\n",
    "file_.close()"
   ]
  },
  {
   "attachments": {},
   "cell_type": "markdown",
   "metadata": {},
   "source": [
    "## 2.2 Resumen de estimadores"
   ]
  },
  {
   "cell_type": "code",
   "execution_count": 11,
   "metadata": {},
   "outputs": [
    {
     "name": "stdout",
     "output_type": "stream",
     "text": [
      "<class 'pandas.core.frame.DataFrame'>\n",
      "Index: 2551 entries, lp__ to sims_visita[863]\n",
      "Data columns (total 9 columns):\n",
      " #   Column   Non-Null Count  Dtype  \n",
      "---  ------   --------------  -----  \n",
      " 0   Mean     2551 non-null   float64\n",
      " 1   MCSE     2551 non-null   float64\n",
      " 2   StdDev   2551 non-null   float64\n",
      " 3   5%       2551 non-null   float64\n",
      " 4   50%      2551 non-null   float64\n",
      " 5   95%      2551 non-null   float64\n",
      " 6   N_Eff    2551 non-null   float64\n",
      " 7   N_Eff/s  2551 non-null   float64\n",
      " 8   R_hat    2551 non-null   float64\n",
      "dtypes: float64(9)\n",
      "memory usage: 199.3+ KB\n"
     ]
    }
   ],
   "source": [
    "summary_ = fit_.summary()\n",
    "summary_.info()"
   ]
  },
  {
   "attachments": {},
   "cell_type": "markdown",
   "metadata": {},
   "source": [
    "Número de parámetros"
   ]
  },
  {
   "cell_type": "code",
   "execution_count": 12,
   "metadata": {},
   "outputs": [
    {
     "data": {
      "text/plain": [
       "param\n",
       "sims_local       863\n",
       "sims_visita      863\n",
       "base_ataque      205\n",
       "base_defensa     205\n",
       "ataque           205\n",
       "defensa          205\n",
       "lp__               1\n",
       "boost_local        1\n",
       "intercepto         1\n",
       "sigma_ataque       1\n",
       "sigma_defensa      1\n",
       "Name: count, dtype: int64"
      ]
     },
     "execution_count": 12,
     "metadata": {},
     "output_type": "execute_result"
    }
   ],
   "source": [
    "summary_vis_ = (\n",
    "    summary_\n",
    "    .reset_index(names='param')\n",
    "    .assign(\n",
    "        param = lambda df_: df_.param.str.partition('[')[0]\n",
    "    )\n",
    ")\n",
    "\n",
    "summary_vis_.param.value_counts()"
   ]
  },
  {
   "attachments": {},
   "cell_type": "markdown",
   "metadata": {},
   "source": [
    "### 2.2.1 MCSE\n",
    "\n",
    "Primero se observa el `MCSE` de lo parámetros únicos"
   ]
  },
  {
   "cell_type": "code",
   "execution_count": 13,
   "metadata": {},
   "outputs": [
    {
     "data": {
      "text/html": [
       "<div>\n",
       "<style scoped>\n",
       "    .dataframe tbody tr th:only-of-type {\n",
       "        vertical-align: middle;\n",
       "    }\n",
       "\n",
       "    .dataframe tbody tr th {\n",
       "        vertical-align: top;\n",
       "    }\n",
       "\n",
       "    .dataframe thead th {\n",
       "        text-align: right;\n",
       "    }\n",
       "</style>\n",
       "<table border=\"1\" class=\"dataframe\">\n",
       "  <thead>\n",
       "    <tr style=\"text-align: right;\">\n",
       "      <th></th>\n",
       "      <th>param</th>\n",
       "      <th>MCSE</th>\n",
       "    </tr>\n",
       "  </thead>\n",
       "  <tbody>\n",
       "    <tr>\n",
       "      <th>0</th>\n",
       "      <td>lp__</td>\n",
       "      <td>0.169211</td>\n",
       "    </tr>\n",
       "    <tr>\n",
       "      <th>1</th>\n",
       "      <td>boost_local</td>\n",
       "      <td>0.000222</td>\n",
       "    </tr>\n",
       "    <tr>\n",
       "      <th>2</th>\n",
       "      <td>intercepto</td>\n",
       "      <td>0.000252</td>\n",
       "    </tr>\n",
       "    <tr>\n",
       "      <th>3</th>\n",
       "      <td>sigma_ataque</td>\n",
       "      <td>0.000322</td>\n",
       "    </tr>\n",
       "    <tr>\n",
       "      <th>4</th>\n",
       "      <td>sigma_defensa</td>\n",
       "      <td>0.000248</td>\n",
       "    </tr>\n",
       "  </tbody>\n",
       "</table>\n",
       "</div>"
      ],
      "text/plain": [
       "           param      MCSE\n",
       "0           lp__  0.169211\n",
       "1    boost_local  0.000222\n",
       "2     intercepto  0.000252\n",
       "3   sigma_ataque  0.000322\n",
       "4  sigma_defensa  0.000248"
      ]
     },
     "execution_count": 13,
     "metadata": {},
     "output_type": "execute_result"
    }
   ],
   "source": [
    "# Datos de visualización\n",
    "diagnostico = 'MCSE'\n",
    "mask_ = summary_vis_.param.value_counts()[summary_vis_.param.value_counts() == 1].keys()\n",
    "\n",
    "single_params = (\n",
    "    summary_vis_\n",
    "    .loc[summary_vis_.param.isin(mask_)]\n",
    "    .filter(items=['param', diagnostico])\n",
    "    .assign(\n",
    "        param = lambda df_: pd.Categorical(df_.param)\n",
    "    )\n",
    ").param.values.to_list()\n",
    "\n",
    "(\n",
    "    summary_vis_\n",
    "    .loc[summary_vis_.param.isin(mask_)]\n",
    "    .filter(items=['param', diagnostico])\n",
    "    .assign(\n",
    "        param = lambda df_: pd.Categorical(df_.param)\n",
    "    )\n",
    ")"
   ]
  },
  {
   "attachments": {},
   "cell_type": "markdown",
   "metadata": {},
   "source": [
    "Visualización del error estándar MC de los parámetros múltiples"
   ]
  },
  {
   "cell_type": "code",
   "execution_count": 14,
   "metadata": {},
   "outputs": [
    {
     "data": {
      "image/png": "[encoded data removed]",
      "text/plain": [
       "<Figure size 640x480 with 1 Axes>"
      ]
     },
     "metadata": {},
     "output_type": "display_data"
    }
   ],
   "source": [
    "# Datos de visualización\n",
    "mask_ = summary_vis_.param.value_counts()[summary_vis_.param.value_counts() > 1].keys()\n",
    "vis_ = (\n",
    "    summary_vis_\n",
    "    .loc[summary_vis_.param.isin(mask_)]\n",
    "    .filter(items=['param', diagnostico])\n",
    "    .assign(\n",
    "        param = lambda df_: pd.Categorical(df_.param)\n",
    "    )\n",
    ")\n",
    "\n",
    "# Especificaciones de figuras\n",
    "fig, ax = plt.subplots()\n",
    "\n",
    "# Visualizaciones\n",
    "ax.scatter(\n",
    "    x=vis_[diagnostico]\n",
    "    ,y=vis_.param.cat.codes + np.random.uniform(low=-0.2, high=0.2, size=vis_.shape[0])\n",
    "    ,color=config['visuals']['colors']['verde']\n",
    "    ,alpha=0.8)\n",
    "\n",
    "# Anotaciones y estilo\n",
    "ax.set_title(f'{diagnostico} de los parámetros múltiples', loc='left')\n",
    "ax.set_xlabel(diagnostico)\n",
    "ax.set_yticks(\n",
    "    ticks=vis_.param.cat.codes.unique()\n",
    "    ,labels=vis_.param.cat.categories)\n",
    "\n",
    "plt.show()"
   ]
  },
  {
   "attachments": {},
   "cell_type": "markdown",
   "metadata": {},
   "source": [
    "### 2.2.2 Número efectivo de simulaciones\n",
    "\n",
    "Primero se observa el `N_Eff` de lo parámetros únicos"
   ]
  },
  {
   "cell_type": "code",
   "execution_count": 15,
   "metadata": {},
   "outputs": [
    {
     "data": {
      "text/html": [
       "<div>\n",
       "<style scoped>\n",
       "    .dataframe tbody tr th:only-of-type {\n",
       "        vertical-align: middle;\n",
       "    }\n",
       "\n",
       "    .dataframe tbody tr th {\n",
       "        vertical-align: top;\n",
       "    }\n",
       "\n",
       "    .dataframe thead th {\n",
       "        text-align: right;\n",
       "    }\n",
       "</style>\n",
       "<table border=\"1\" class=\"dataframe\">\n",
       "  <thead>\n",
       "    <tr style=\"text-align: right;\">\n",
       "      <th></th>\n",
       "      <th>param</th>\n",
       "      <th>N_Eff</th>\n",
       "    </tr>\n",
       "  </thead>\n",
       "  <tbody>\n",
       "    <tr>\n",
       "      <th>0</th>\n",
       "      <td>lp__</td>\n",
       "      <td>10167.5</td>\n",
       "    </tr>\n",
       "    <tr>\n",
       "      <th>1</th>\n",
       "      <td>boost_local</td>\n",
       "      <td>39833.0</td>\n",
       "    </tr>\n",
       "    <tr>\n",
       "      <th>2</th>\n",
       "      <td>intercepto</td>\n",
       "      <td>23517.4</td>\n",
       "    </tr>\n",
       "    <tr>\n",
       "      <th>3</th>\n",
       "      <td>sigma_ataque</td>\n",
       "      <td>13543.3</td>\n",
       "    </tr>\n",
       "    <tr>\n",
       "      <th>4</th>\n",
       "      <td>sigma_defensa</td>\n",
       "      <td>23414.5</td>\n",
       "    </tr>\n",
       "  </tbody>\n",
       "</table>\n",
       "</div>"
      ],
      "text/plain": [
       "           param    N_Eff\n",
       "0           lp__  10167.5\n",
       "1    boost_local  39833.0\n",
       "2     intercepto  23517.4\n",
       "3   sigma_ataque  13543.3\n",
       "4  sigma_defensa  23414.5"
      ]
     },
     "execution_count": 15,
     "metadata": {},
     "output_type": "execute_result"
    }
   ],
   "source": [
    "# Datos de visualización\n",
    "diagnostico = 'N_Eff'\n",
    "mask_ = summary_vis_.param.value_counts()[summary_vis_.param.value_counts() == 1].keys()\n",
    "\n",
    "(\n",
    "    summary_vis_\n",
    "    .loc[summary_vis_.param.isin(mask_)]\n",
    "    .filter(items=['param', diagnostico])\n",
    "    .assign(\n",
    "        param = lambda df_: pd.Categorical(df_.param)\n",
    "    )\n",
    ")"
   ]
  },
  {
   "attachments": {},
   "cell_type": "markdown",
   "metadata": {},
   "source": [
    "Visualización del error estándar MC de los parámetros múltiples"
   ]
  },
  {
   "cell_type": "code",
   "execution_count": 16,
   "metadata": {},
   "outputs": [
    {
     "data": {
      "image/png": "[encoded data removed]",
      "text/plain": [
       "<Figure size 640x480 with 1 Axes>"
      ]
     },
     "metadata": {},
     "output_type": "display_data"
    }
   ],
   "source": [
    "# Datos de visualización\n",
    "mask_ = summary_vis_.param.value_counts()[summary_vis_.param.value_counts() > 1].keys()\n",
    "vis_ = (\n",
    "    summary_vis_\n",
    "    .loc[summary_vis_.param.isin(mask_)]\n",
    "    .filter(items=['param', diagnostico])\n",
    "    .assign(\n",
    "        param = lambda df_: pd.Categorical(df_.param)\n",
    "    )\n",
    ")\n",
    "\n",
    "# Especificaciones de figuras\n",
    "fig, ax = plt.subplots()\n",
    "\n",
    "# Visualizaciones\n",
    "ax.scatter(\n",
    "    x=vis_[diagnostico]\n",
    "    ,y=vis_.param.cat.codes + np.random.uniform(low=-0.2, high=0.2, size=vis_.shape[0])\n",
    "    ,color=config['visuals']['colors']['verde']\n",
    "    ,alpha=0.5)\n",
    "\n",
    "# Anotaciones y estilo\n",
    "ax.set_title(f'{diagnostico} de los parámetros múltiples', loc='left')\n",
    "ax.set_xlabel(diagnostico)\n",
    "ax.set_yticks(\n",
    "    ticks=vis_.param.cat.codes.unique()\n",
    "    ,labels=vis_.param.cat.categories)\n",
    "\n",
    "plt.show()"
   ]
  },
  {
   "attachments": {},
   "cell_type": "markdown",
   "metadata": {},
   "source": [
    "### 2.2.3 Factor de reducción de escala\n",
    "\n",
    "Primero se observa el `R_hat` de lo parámetros únicos"
   ]
  },
  {
   "cell_type": "code",
   "execution_count": 17,
   "metadata": {},
   "outputs": [
    {
     "data": {
      "text/html": [
       "<div>\n",
       "<style scoped>\n",
       "    .dataframe tbody tr th:only-of-type {\n",
       "        vertical-align: middle;\n",
       "    }\n",
       "\n",
       "    .dataframe tbody tr th {\n",
       "        vertical-align: top;\n",
       "    }\n",
       "\n",
       "    .dataframe thead th {\n",
       "        text-align: right;\n",
       "    }\n",
       "</style>\n",
       "<table border=\"1\" class=\"dataframe\">\n",
       "  <thead>\n",
       "    <tr style=\"text-align: right;\">\n",
       "      <th></th>\n",
       "      <th>param</th>\n",
       "      <th>R_hat</th>\n",
       "    </tr>\n",
       "  </thead>\n",
       "  <tbody>\n",
       "    <tr>\n",
       "      <th>0</th>\n",
       "      <td>lp__</td>\n",
       "      <td>1.00061</td>\n",
       "    </tr>\n",
       "    <tr>\n",
       "      <th>1</th>\n",
       "      <td>boost_local</td>\n",
       "      <td>1.00008</td>\n",
       "    </tr>\n",
       "    <tr>\n",
       "      <th>2</th>\n",
       "      <td>intercepto</td>\n",
       "      <td>1.00024</td>\n",
       "    </tr>\n",
       "    <tr>\n",
       "      <th>3</th>\n",
       "      <td>sigma_ataque</td>\n",
       "      <td>1.00044</td>\n",
       "    </tr>\n",
       "    <tr>\n",
       "      <th>4</th>\n",
       "      <td>sigma_defensa</td>\n",
       "      <td>1.00012</td>\n",
       "    </tr>\n",
       "  </tbody>\n",
       "</table>\n",
       "</div>"
      ],
      "text/plain": [
       "           param    R_hat\n",
       "0           lp__  1.00061\n",
       "1    boost_local  1.00008\n",
       "2     intercepto  1.00024\n",
       "3   sigma_ataque  1.00044\n",
       "4  sigma_defensa  1.00012"
      ]
     },
     "execution_count": 17,
     "metadata": {},
     "output_type": "execute_result"
    }
   ],
   "source": [
    "# Datos de visualización\n",
    "diagnostico = 'R_hat'\n",
    "mask_ = summary_vis_.param.value_counts()[summary_vis_.param.value_counts() == 1].keys()\n",
    "\n",
    "(\n",
    "    summary_vis_\n",
    "    .loc[summary_vis_.param.isin(mask_)]\n",
    "    .filter(items=['param', diagnostico])\n",
    "    .assign(\n",
    "        param = lambda df_: pd.Categorical(df_.param)\n",
    "    )\n",
    ")"
   ]
  },
  {
   "attachments": {},
   "cell_type": "markdown",
   "metadata": {},
   "source": [
    "Visualización del error estándar MC de los parámetros múltiples"
   ]
  },
  {
   "cell_type": "code",
   "execution_count": 18,
   "metadata": {},
   "outputs": [
    {
     "data": {
      "image/png": "[encoded data removed]",
      "text/plain": [
       "<Figure size 640x480 with 1 Axes>"
      ]
     },
     "metadata": {},
     "output_type": "display_data"
    }
   ],
   "source": [
    "# Datos de visualización\n",
    "mask_ = summary_vis_.param.value_counts()[summary_vis_.param.value_counts() > 1].keys()\n",
    "vis_ = (\n",
    "    summary_vis_\n",
    "    .loc[summary_vis_.param.isin(mask_)]\n",
    "    .filter(items=['param', diagnostico])\n",
    "    .assign(\n",
    "        param = lambda df_: pd.Categorical(df_.param)\n",
    "    )\n",
    ")\n",
    "\n",
    "# Especificaciones de figuras\n",
    "fig, ax = plt.subplots()\n",
    "\n",
    "# Visualizaciones\n",
    "ax.scatter(\n",
    "    x=vis_[diagnostico]\n",
    "    ,y=vis_.param.cat.codes + np.random.uniform(low=-0.2, high=0.2, size=vis_.shape[0])\n",
    "    ,color=config['visuals']['colors']['verde']\n",
    "    ,alpha=0.5)\n",
    "ax.axvline(x=1.05, color='tab:red', linestyle='--')\n",
    "\n",
    "# Anotaciones y estilo\n",
    "ax.set_title(f'{diagnostico} de los parámetros múltiples', loc='left')\n",
    "ax.set_xlabel(diagnostico)\n",
    "ax.set_yticks(\n",
    "    ticks=vis_.param.cat.codes.unique()\n",
    "    ,labels=vis_.param.cat.categories)\n",
    "\n",
    "plt.show()"
   ]
  },
  {
   "attachments": {},
   "cell_type": "markdown",
   "metadata": {},
   "source": [
    "### 2.2.4 Traza de las cadenas"
   ]
  },
  {
   "cell_type": "code",
   "execution_count": 19,
   "metadata": {},
   "outputs": [
    {
     "data": {
      "text/plain": [
       "(5000, 8, 2557)"
      ]
     },
     "execution_count": 19,
     "metadata": {},
     "output_type": "execute_result"
    }
   ],
   "source": [
    "chains_ = fit_.draws(inc_warmup=False, concat_chains=False)\n",
    "chains_.shape"
   ]
  },
  {
   "attachments": {},
   "cell_type": "markdown",
   "metadata": {},
   "source": [
    "Parámetros simples"
   ]
  },
  {
   "cell_type": "code",
   "execution_count": 20,
   "metadata": {},
   "outputs": [],
   "source": [
    "def traceplot_single_param(param, type):\n",
    "    idp_ = fit_.column_names.index(param)\n",
    "    arr_ = chains_[:, :, idp_]\n",
    "\n",
    "    # Especificaciones de figura\n",
    "    plt.figure(figsize=(10,5))\n",
    "\n",
    "    if type == 'traceplot':\n",
    "        # Visualizaciones\n",
    "        for chain in range(arr_.shape[1]):\n",
    "            plt.plot(\n",
    "                arr_[:, chain]\n",
    "                ,color=list(config['visuals']['colors'].values())[chain]\n",
    "                ,label=f'Chain: {chain}')\n",
    "\n",
    "        # Anotaciones y estilo\n",
    "        plt.title(f'Traza de las cadenas, {param}', loc='left')\n",
    "        plt.xlabel('Iteraciones')\n",
    "        plt.ylabel('Espacio parametral')\n",
    "        plt.legend()\n",
    "\n",
    "    if type == 'convergence':\n",
    "        ergo_ = np.apply_along_axis(func1d=lambda x: x.cumsum(), axis=0, arr=arr_)\n",
    "        ergo_ = ergo_ / np.arange(1, ergo_.shape[0]+1, 1).reshape((-1,1))\n",
    "\n",
    "        # Visualizaciones\n",
    "        for chain in range(ergo_.shape[1]):\n",
    "            plt.plot(\n",
    "                ergo_[:, chain]\n",
    "                ,color=list(config['visuals']['colors'].values())[chain]\n",
    "                ,label=f'Chain: {chain}')\n",
    "\n",
    "        # Anotaciones y estilo\n",
    "        plt.title(f'Promedios ergódicos, {param}', loc='left')\n",
    "        plt.xlabel('Iteraciones')\n",
    "        plt.ylabel('Espacio parametral')\n",
    "        plt.legend()\n",
    "\n",
    "    plt.show()"
   ]
  },
  {
   "cell_type": "code",
   "execution_count": 21,
   "metadata": {},
   "outputs": [
    {
     "data": {
      "application/vnd.jupyter.widget-view+json": {
       "model_id": "1b3f6ef6609f4ec7a01e18066a44535f",
       "version_major": 2,
       "version_minor": 0
      },
      "text/plain": [
       "interactive(children=(Dropdown(description='Param', options=('lp__', 'boost_local', 'intercepto', 'sigma_ataqu…"
      ]
     },
     "metadata": {},
     "output_type": "display_data"
    },
    {
     "data": {
      "text/plain": [
       "<function __main__.traceplot_single_param(param, type)>"
      ]
     },
     "execution_count": 21,
     "metadata": {},
     "output_type": "execute_result"
    }
   ],
   "source": [
    "widgets.interact(\n",
    "    traceplot_single_param\n",
    "    ,param=widgets.Dropdown(\n",
    "        options=single_params\n",
    "        ,description='Param'\n",
    "        ,disabled=False)\n",
    "    ,type=widgets.Dropdown(\n",
    "        options=['traceplot','convergence']\n",
    "        ,description='Type'\n",
    "        ,disabled=False)\n",
    "        \n",
    ")"
   ]
  },
  {
   "cell_type": "code",
   "execution_count": 22,
   "metadata": {},
   "outputs": [
    {
     "data": {
      "text/html": [
       "<div>\n",
       "<style scoped>\n",
       "    .dataframe tbody tr th:only-of-type {\n",
       "        vertical-align: middle;\n",
       "    }\n",
       "\n",
       "    .dataframe tbody tr th {\n",
       "        vertical-align: top;\n",
       "    }\n",
       "\n",
       "    .dataframe thead th {\n",
       "        text-align: right;\n",
       "    }\n",
       "</style>\n",
       "<table border=\"1\" class=\"dataframe\">\n",
       "  <thead>\n",
       "    <tr style=\"text-align: right;\">\n",
       "      <th></th>\n",
       "      <th>preds_home</th>\n",
       "      <th>preds_away</th>\n",
       "      <th>result</th>\n",
       "    </tr>\n",
       "  </thead>\n",
       "  <tbody>\n",
       "    <tr>\n",
       "      <th>0</th>\n",
       "      <td>1</td>\n",
       "      <td>1</td>\n",
       "      <td>0</td>\n",
       "    </tr>\n",
       "    <tr>\n",
       "      <th>1</th>\n",
       "      <td>0</td>\n",
       "      <td>3</td>\n",
       "      <td>-1</td>\n",
       "    </tr>\n",
       "    <tr>\n",
       "      <th>2</th>\n",
       "      <td>1</td>\n",
       "      <td>0</td>\n",
       "      <td>1</td>\n",
       "    </tr>\n",
       "    <tr>\n",
       "      <th>3</th>\n",
       "      <td>1</td>\n",
       "      <td>1</td>\n",
       "      <td>0</td>\n",
       "    </tr>\n",
       "    <tr>\n",
       "      <th>4</th>\n",
       "      <td>1</td>\n",
       "      <td>0</td>\n",
       "      <td>1</td>\n",
       "    </tr>\n",
       "    <tr>\n",
       "      <th>...</th>\n",
       "      <td>...</td>\n",
       "      <td>...</td>\n",
       "      <td>...</td>\n",
       "    </tr>\n",
       "    <tr>\n",
       "      <th>858</th>\n",
       "      <td>1</td>\n",
       "      <td>2</td>\n",
       "      <td>-1</td>\n",
       "    </tr>\n",
       "    <tr>\n",
       "      <th>859</th>\n",
       "      <td>1</td>\n",
       "      <td>1</td>\n",
       "      <td>0</td>\n",
       "    </tr>\n",
       "    <tr>\n",
       "      <th>860</th>\n",
       "      <td>1</td>\n",
       "      <td>1</td>\n",
       "      <td>0</td>\n",
       "    </tr>\n",
       "    <tr>\n",
       "      <th>861</th>\n",
       "      <td>2</td>\n",
       "      <td>0</td>\n",
       "      <td>1</td>\n",
       "    </tr>\n",
       "    <tr>\n",
       "      <th>862</th>\n",
       "      <td>1</td>\n",
       "      <td>0</td>\n",
       "      <td>1</td>\n",
       "    </tr>\n",
       "  </tbody>\n",
       "</table>\n",
       "<p>863 rows × 3 columns</p>\n",
       "</div>"
      ],
      "text/plain": [
       "     preds_home  preds_away  result\n",
       "0             1           1       0\n",
       "1             0           3      -1\n",
       "2             1           0       1\n",
       "3             1           1       0\n",
       "4             1           0       1\n",
       "..          ...         ...     ...\n",
       "858           1           2      -1\n",
       "859           1           1       0\n",
       "860           1           1       0\n",
       "861           2           0       1\n",
       "862           1           0       1\n",
       "\n",
       "[863 rows x 3 columns]"
      ]
     },
     "execution_count": 22,
     "metadata": {},
     "output_type": "execute_result"
    }
   ],
   "source": [
    "preds = {\n",
    "    'preds_home':(\n",
    "        summary_vis_\n",
    "        .loc[summary_vis_.param == 'sims_local']\n",
    "        .Mean\n",
    "        .apply(int)).values\n",
    "    ,'preds_away':(\n",
    "    summary_vis_\n",
    "    .loc[summary_vis_.param == 'sims_visita']\n",
    "    .Mean\n",
    "    .apply(int)).values\n",
    "}\n",
    "\n",
    "preds = (\n",
    "    pd.DataFrame(preds)\n",
    "    .assign(\n",
    "        # -1: Away win, 0: Draw, 1: Home win\n",
    "        result = lambda df_:\n",
    "            (df_.preds_home - df_.preds_away).apply(np.sign)\n",
    "    )\n",
    ")\n",
    "preds"
   ]
  },
  {
   "cell_type": "code",
   "execution_count": 23,
   "metadata": {},
   "outputs": [
    {
     "data": {
      "text/plain": [
       "0.6048667439165701"
      ]
     },
     "execution_count": 23,
     "metadata": {},
     "output_type": "execute_result"
    }
   ],
   "source": [
    "# Accuracy de ganador\n",
    "sum(preds.result == df_.result) / df_.shape[0]"
   ]
  },
  {
   "cell_type": "code",
   "execution_count": 24,
   "metadata": {},
   "outputs": [
    {
     "data": {
      "text/plain": [
       "0.39745075318655854"
      ]
     },
     "execution_count": 24,
     "metadata": {},
     "output_type": "execute_result"
    }
   ],
   "source": [
    "# Accuracy goals_home\n",
    "sum(preds.preds_home == df_.home_team_score) / df_.shape[0]"
   ]
  },
  {
   "cell_type": "code",
   "execution_count": 25,
   "metadata": {},
   "outputs": [
    {
     "data": {
      "text/plain": [
       "0.4646581691772885"
      ]
     },
     "execution_count": 25,
     "metadata": {},
     "output_type": "execute_result"
    }
   ],
   "source": [
    "# Accuracy goals away\n",
    "sum(preds.preds_away == df_.away_team_score) / df_.shape[0]"
   ]
  },
  {
   "cell_type": "code",
   "execution_count": 26,
   "metadata": {},
   "outputs": [
    {
     "data": {
      "image/png": "[encoded data removed]",
      "text/plain": [
       "<Figure size 1000x500 with 2 Axes>"
      ]
     },
     "metadata": {},
     "output_type": "display_data"
    }
   ],
   "source": [
    "vis_ = pd.DataFrame(\n",
    "    {'real': pd.concat((df_.home_team_score, df_.away_team_score))}\n",
    ")\n",
    "# Goles simulados\n",
    "vis_['sims'] = pd.concat((preds.preds_home, preds.preds_away))\n",
    "\n",
    "# Especificaciones de figura\n",
    "fig = plt.figure(figsize=(10,5))\n",
    "gs = plt.GridSpec(nrows=1, ncols=2, figure=fig, wspace=0.2, hspace=0.2)\n",
    "\n",
    "# Visualizaciones\n",
    "ax1 = fig.add_subplot(gs[0])\n",
    "ax1.hist(\n",
    "    x=vis_.real\n",
    "    ,bins=vis_.real.max()\n",
    "    ,align='left'\n",
    "    ,color=config['visuals']['colors']['aqua']\n",
    "    ,alpha=0.5)\n",
    "\n",
    "ax2 = fig.add_subplot(gs[1])\n",
    "ax2.hist(\n",
    "    x=vis_.sims\n",
    "    ,bins=vis_.sims.max()\n",
    "    ,align='left'\n",
    "    ,color=config['visuals']['colors']['rojo']\n",
    "    ,alpha=0.5)\n",
    "\n",
    "# Anotaciones y estilo\n",
    "ax1.set_title('Distribución real de goles', loc='left')\n",
    "ax1.set_xticks(np.arange(vis_.real.min(),vis_.real.max(),1))\n",
    "\n",
    "ax2.set_title(f'Distribución posterior de goles', loc='left')\n",
    "ax2.set_xticks(np.arange(vis_.sims.min(),vis_.sims.max(),1))\n",
    "fig.supxlabel('Goles anotados')\n",
    "\n",
    "plt.savefig(name+'sims_post.png', bbox_inches='tight')\n",
    "\n",
    "plt.show()"
   ]
  },
  {
   "cell_type": "code",
   "execution_count": null,
   "metadata": {},
   "outputs": [],
   "source": []
  }
 ],
 "metadata": {
  "kernelspec": {
   "display_name": "stan",
   "language": "python",
   "name": "python3"
  },
  "language_info": {
   "codemirror_mode": {
    "name": "ipython",
    "version": 3
   },
   "file_extension": ".py",
   "mimetype": "text/x-python",
   "name": "python",
   "nbconvert_exporter": "python",
   "pygments_lexer": "ipython3",
   "version": "3.11.3"
  },
  "orig_nbformat": 4
 },
 "nbformat": 4,
 "nbformat_minor": 2
}
