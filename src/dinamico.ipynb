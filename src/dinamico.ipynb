{
 "cells": [
  {
   "attachments": {},
   "cell_type": "markdown",
   "metadata": {},
   "source": [
    "# Fútbol bayesiano\n",
    "\n",
    "Carga de librerías"
   ]
  },
  {
   "cell_type": "code",
   "execution_count": 1,
   "metadata": {},
   "outputs": [],
   "source": [
    "import os\n",
    "import yaml\n",
    "import numpy as np\n",
    "import pandas as pd\n",
    "from cmdstanpy import CmdStanModel"
   ]
  },
  {
   "attachments": {},
   "cell_type": "markdown",
   "metadata": {},
   "source": [
    "Se definen rutas relativas del archivo"
   ]
  },
  {
   "cell_type": "code",
   "execution_count": 2,
   "metadata": {},
   "outputs": [],
   "source": [
    "CURRENT = os.getcwd()\n",
    "ROOT = os.path.dirname(CURRENT)"
   ]
  },
  {
   "attachments": {},
   "cell_type": "markdown",
   "metadata": {},
   "source": [
    "Cargar en memoria archivo de configuración"
   ]
  },
  {
   "cell_type": "code",
   "execution_count": 3,
   "metadata": {},
   "outputs": [],
   "source": [
    "with open(os.path.join(ROOT, 'config.yml'), 'r') as file_:\n",
    "    config = yaml.safe_load(file_)\n",
    "file_.close()"
   ]
  },
  {
   "attachments": {},
   "cell_type": "markdown",
   "metadata": {},
   "source": [
    "Carga en memoria de los datos"
   ]
  },
  {
   "cell_type": "code",
   "execution_count": 15,
   "metadata": {},
   "outputs": [
    {
     "name": "stdout",
     "output_type": "stream",
     "text": [
      "<class 'pandas.core.frame.DataFrame'>\n",
      "RangeIndex: 23921 entries, 0 to 23920\n",
      "Data columns (total 9 columns):\n",
      " #   Column               Non-Null Count  Dtype         \n",
      "---  ------               --------------  -----         \n",
      " 0   date                 23921 non-null  datetime64[ns]\n",
      " 1   tournament           23921 non-null  object        \n",
      " 2   home_team            23921 non-null  category      \n",
      " 3   away_team            23921 non-null  category      \n",
      " 4   home_team_continent  23921 non-null  category      \n",
      " 5   away_team_continent  23921 non-null  category      \n",
      " 6   home_team_score      23921 non-null  int64         \n",
      " 7   away_team_score      23921 non-null  int64         \n",
      " 8   result               23921 non-null  int64         \n",
      "dtypes: category(4), datetime64[ns](1), int64(3), object(1)\n",
      "memory usage: 1.1+ MB\n"
     ]
    }
   ],
   "source": [
    "df_ = (\n",
    "    # Carga de datos crudos\n",
    "    pd.read_csv(\n",
    "        os.path.join(ROOT, config['datos']['raw'])\n",
    "        ,encoding='latin1')\n",
    "    # Filtrar columnas de interés\n",
    "    .filter(items=[\n",
    "        'date'\n",
    "        ,'tournament'\n",
    "        ,'home_team'\n",
    "        ,'away_team'\n",
    "        ,'home_team_continent'\n",
    "        ,'away_team_continent'\n",
    "        ,'home_team_score'\n",
    "        ,'away_team_score'\n",
    "    ])\n",
    "    # Transformación a columnas existentes\n",
    "    .assign(\n",
    "        date = lambda df_: pd.to_datetime(df_.date)\n",
    "        ,home_team = lambda df_: pd.Categorical(df_.home_team)\n",
    "        ,away_team = lambda df_: pd.Categorical(df_.away_team)\n",
    "        ,home_team_continent = lambda df_: pd.Categorical(df_.home_team_continent)\n",
    "        ,away_team_continent = lambda df_: pd.Categorical(df_.away_team_continent)\n",
    "    )\n",
    "    # Asignación de columnas computadas\n",
    "    .assign(\n",
    "        result = lambda df_: (df_.home_team_score - df_.away_team_score).apply(np.sign)\n",
    "    )\n",
    ")\n",
    "\n",
    "df_.info()"
   ]
  },
  {
   "attachments": {},
   "cell_type": "markdown",
   "metadata": {},
   "source": [
    "Modelo en STAN\n",
    "\n",
    "Primero se definen algunas funciones útiles para la creación y manipulación de archivos de `stan`, y se crea un proyecto nuevo para la primera iteración del modelo jerárquico."
   ]
  },
  {
   "cell_type": "code",
   "execution_count": 4,
   "metadata": {},
   "outputs": [],
   "source": [
    "import BFG3000 as bfg"
   ]
  },
  {
   "cell_type": "code",
   "execution_count": 5,
   "metadata": {},
   "outputs": [
    {
     "name": "stdout",
     "output_type": "stream",
     "text": [
      "Proyecto creado\n"
     ]
    }
   ],
   "source": [
    "name = 'dinam_iter1'\n",
    "sp_ = bfg.StanProject(name)\n",
    "dir_, model_ = sp_.create_stan_project(dir='modelos')"
   ]
  },
  {
   "attachments": {},
   "cell_type": "markdown",
   "metadata": {},
   "source": [
    "Una vez creado y editado el proyecto de STAN, se declara el siguiente bloque de código para mantener estructura en la compilación del modelo y los archivos que éste genera."
   ]
  },
  {
   "cell_type": "code",
   "execution_count": null,
   "metadata": {},
   "outputs": [],
   "source": [
    "# Compilar el modelo\n",
    "compile_ = CmdStanModel(\n",
    "    model_name=name\n",
    "    ,stan_file=model_\n",
    "    ,compile=True)"
   ]
  },
  {
   "attachments": {},
   "cell_type": "markdown",
   "metadata": {},
   "source": [
    "Se delcara un diccionario de datos para proporcionar los datos a stan"
   ]
  },
  {
   "cell_type": "code",
   "execution_count": null,
   "metadata": {},
   "outputs": [],
   "source": [
    "stan_data_ = {\n",
    "    'n_matches': df_.shape[0]\n",
    "    ,'goals_home': df_.home_team_score.values\n",
    "    ,'goals_away': df_.away_team_score.values\n",
    "}"
   ]
  },
  {
   "attachments": {},
   "cell_type": "markdown",
   "metadata": {},
   "source": [
    "Finalmente, se ejecuta el modelo y se calibra. Este paso es recursivo y se tiene que ejecutar tantas veces sean necesarias de modo que las cadenas generadas por el muestreador tengan diagnósticos buenos."
   ]
  },
  {
   "cell_type": "code",
   "execution_count": null,
   "metadata": {},
   "outputs": [
    {
     "name": "stderr",
     "output_type": "stream",
     "text": [
      "21:46:33 - cmdstanpy - INFO - CmdStan start processing\n"
     ]
    },
    {
     "data": {
      "application/vnd.jupyter.widget-view+json": {
       "model_id": "a08f0f97e1da4ea2bd10d85ead4f550f",
       "version_major": 2,
       "version_minor": 0
      },
      "text/plain": [
       "chain 1 |          | 00:00 Status"
      ]
     },
     "metadata": {},
     "output_type": "display_data"
    },
    {
     "data": {
      "application/vnd.jupyter.widget-view+json": {
       "model_id": "a0794d78d6e34468a28055ee2200ae60",
       "version_major": 2,
       "version_minor": 0
      },
      "text/plain": [
       "chain 2 |          | 00:00 Status"
      ]
     },
     "metadata": {},
     "output_type": "display_data"
    },
    {
     "data": {
      "application/vnd.jupyter.widget-view+json": {
       "model_id": "ceff6d09797c4f50b3c47285d179373a",
       "version_major": 2,
       "version_minor": 0
      },
      "text/plain": [
       "chain 3 |          | 00:00 Status"
      ]
     },
     "metadata": {},
     "output_type": "display_data"
    },
    {
     "data": {
      "application/vnd.jupyter.widget-view+json": {
       "model_id": "17514c136af7458ab9d9d49a22d8a471",
       "version_major": 2,
       "version_minor": 0
      },
      "text/plain": [
       "chain 4 |          | 00:00 Status"
      ]
     },
     "metadata": {},
     "output_type": "display_data"
    },
    {
     "name": "stdout",
     "output_type": "stream",
     "text": [
      "                                                                                                                                                                                                                                                                                                                                "
     ]
    },
    {
     "name": "stderr",
     "output_type": "stream",
     "text": [
      "21:54:30 - cmdstanpy - INFO - CmdStan done processing.\n",
      "21:54:30 - cmdstanpy - WARNING - Non-fatal error during sampling:\n",
      "Exception: normal_lpdf: Scale parameter is -0.759836, but must be positive! (in '/Users/eduardo/Documents/Maestría/Bayesiana/futbol_bayes/modelos/iter2_jera/iter2_jera.stan', line 35, column 4 to column 47)\n",
      "\tException: normal_lpdf: Scale parameter is -0.392458, but must be positive! (in '/Users/eduardo/Documents/Maestría/Bayesiana/futbol_bayes/modelos/iter2_jera/iter2_jera.stan', line 35, column 4 to column 47)\n",
      "\tException: normal_lpdf: Scale parameter is -1.95639, but must be positive! (in '/Users/eduardo/Documents/Maestría/Bayesiana/futbol_bayes/modelos/iter2_jera/iter2_jera.stan', line 35, column 4 to column 47)\n",
      "\tException: normal_lpdf: Scale parameter is -0.137063, but must be positive! (in '/Users/eduardo/Documents/Maestría/Bayesiana/futbol_bayes/modelos/iter2_jera/iter2_jera.stan', line 35, column 4 to column 47)\n",
      "\tException: normal_lpdf: Scale parameter is -0.289012, but must be positive! (in '/Users/eduardo/Documents/Maestría/Bayesiana/futbol_bayes/modelos/iter2_jera/iter2_jera.stan', line 35, column 4 to column 47)\n",
      "Exception: normal_lpdf: Scale parameter is -10531.2, but must be positive! (in '/Users/eduardo/Documents/Maestría/Bayesiana/futbol_bayes/modelos/iter2_jera/iter2_jera.stan', line 35, column 4 to column 47)\n",
      "\tException: normal_lpdf: Scale parameter is -174.161, but must be positive! (in '/Users/eduardo/Documents/Maestría/Bayesiana/futbol_bayes/modelos/iter2_jera/iter2_jera.stan', line 35, column 4 to column 47)\n",
      "\tException: normal_lpdf: Scale parameter is -0.0392884, but must be positive! (in '/Users/eduardo/Documents/Maestría/Bayesiana/futbol_bayes/modelos/iter2_jera/iter2_jera.stan', line 35, column 4 to column 47)\n",
      "Consider re-running with show_console=True if the above output is unclear!\n"
     ]
    },
    {
     "name": "stdout",
     "output_type": "stream",
     "text": [
      "\n"
     ]
    }
   ],
   "source": [
    "fit_ = compile_.sample(\n",
    "    data=stan_data_\n",
    "    ,chains=4\n",
    "    ,iter_warmup=1_250\n",
    "    ,iter_sampling=5000\n",
    "    ,show_progress=True\n",
    "    ,save_warmup=False\n",
    ")"
   ]
  },
  {
   "cell_type": "code",
   "execution_count": null,
   "metadata": {},
   "outputs": [],
   "source": []
  }
 ],
 "metadata": {
  "kernelspec": {
   "display_name": "stan",
   "language": "python",
   "name": "python3"
  },
  "language_info": {
   "codemirror_mode": {
    "name": "ipython",
    "version": 3
   },
   "file_extension": ".py",
   "mimetype": "text/x-python",
   "name": "python",
   "nbconvert_exporter": "python",
   "pygments_lexer": "ipython3",
   "version": "3.11.3"
  },
  "orig_nbformat": 4
 },
 "nbformat": 4,
 "nbformat_minor": 2
}
