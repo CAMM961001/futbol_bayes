{
 "cells": [
  {
   "attachments": {},
   "cell_type": "markdown",
   "metadata": {},
   "source": [
    "# Fútbol bayesiano\n",
    "\n",
    "Carga de librerías"
   ]
  },
  {
   "cell_type": "code",
   "execution_count": 1,
   "metadata": {},
   "outputs": [],
   "source": [
    "import os\n",
    "import yaml\n",
    "import numpy as np\n",
    "import pandas as pd\n",
    "import matplotlib.pyplot as plt\n",
    "\n",
    "from cmdstanpy import CmdStanModel\n",
    "from ipywidgets import widgets"
   ]
  },
  {
   "attachments": {},
   "cell_type": "markdown",
   "metadata": {},
   "source": [
    "Se definen rutas relativas del archivo"
   ]
  },
  {
   "cell_type": "code",
   "execution_count": 2,
   "metadata": {},
   "outputs": [],
   "source": [
    "CURRENT = os.getcwd()\n",
    "ROOT = os.path.dirname(CURRENT)"
   ]
  },
  {
   "attachments": {},
   "cell_type": "markdown",
   "metadata": {},
   "source": [
    "Cargar en memoria archivo de configuración"
   ]
  },
  {
   "cell_type": "code",
   "execution_count": 3,
   "metadata": {},
   "outputs": [],
   "source": [
    "with open(os.path.join(ROOT, 'config.yml'), 'r') as file_:\n",
    "    config = yaml.safe_load(file_)\n",
    "file_.close()"
   ]
  },
  {
   "attachments": {},
   "cell_type": "markdown",
   "metadata": {},
   "source": [
    "Carga en memoria de los datos"
   ]
  },
  {
   "cell_type": "code",
   "execution_count": 4,
   "metadata": {},
   "outputs": [
    {
     "name": "stdout",
     "output_type": "stream",
     "text": [
      "<class 'pandas.core.frame.DataFrame'>\n",
      "Index: 863 entries, 21128 to 23890\n",
      "Data columns (total 9 columns):\n",
      " #   Column               Non-Null Count  Dtype         \n",
      "---  ------               --------------  -----         \n",
      " 0   date                 863 non-null    datetime64[ns]\n",
      " 1   tournament           863 non-null    object        \n",
      " 2   home_team            863 non-null    category      \n",
      " 3   away_team            863 non-null    category      \n",
      " 4   home_team_continent  863 non-null    category      \n",
      " 5   away_team_continent  863 non-null    category      \n",
      " 6   home_team_score      863 non-null    int64         \n",
      " 7   away_team_score      863 non-null    int64         \n",
      " 8   result               863 non-null    int64         \n",
      "dtypes: category(4), datetime64[ns](1), int64(3), object(1)\n",
      "memory usage: 65.3+ KB\n"
     ]
    }
   ],
   "source": [
    "df_ = (\n",
    "    # --------------------------------------------------- Carga de datos crudos\n",
    "    pd.read_csv(\n",
    "        os.path.join(ROOT, config['datos']['raw'])\n",
    "        ,encoding='latin1')\n",
    "    # ---------------------------------------------------- Acotar datos a scope\n",
    "    .query(\"year > 2018\")\n",
    "    .query(\"tournament == 'FIFA World Cup qualification'\")\n",
    "    # --------------------------------------------- Filtrar columnas de interés\n",
    "    .filter(items=[\n",
    "        'date'\n",
    "        ,'tournament'\n",
    "        ,'home_team'\n",
    "        ,'away_team'\n",
    "        ,'home_team_continent'\n",
    "        ,'away_team_continent'\n",
    "        ,'home_team_score'\n",
    "        ,'away_team_score'\n",
    "    ])\n",
    "    # ------------------------------------ Transformación a columnas existentes\n",
    "    .assign(\n",
    "        date = lambda df_: pd.to_datetime(df_.date)\n",
    "        ,home_team = lambda df_: pd.Categorical(df_.home_team)\n",
    "        ,away_team = lambda df_: pd.Categorical(df_.away_team)\n",
    "        ,home_team_continent = lambda df_: pd.Categorical(df_.home_team_continent)\n",
    "        ,away_team_continent = lambda df_: pd.Categorical(df_.away_team_continent)\n",
    "    )\n",
    "    # --------------------------------------- Asignación de columnas computadas\n",
    "    .assign(\n",
    "        result = lambda df_: \n",
    "            # -1: Away win, 0: Draw, 1: Home win\n",
    "            (df_.home_team_score - df_.away_team_score).apply(np.sign)\n",
    "    )\n",
    ")\n",
    "\n",
    "df_.info()"
   ]
  },
  {
   "attachments": {},
   "cell_type": "markdown",
   "metadata": {},
   "source": [
    "# 2. Modelo en STAN\n",
    "\n",
    "$$y^h\\sim Poisson(\\theta^h)$$\n",
    "$$y^a\\sim Poisson(\\theta^a)$$\n",
    "$$log(\\theta^h) = home_{boost} + attack_{i[h]} - defence_{i[a]} + intercept$$\n",
    "$$log(\\theta^a) = attack_{i[a]} - defence_{i[h]} + intercept$$\n",
    "\n",
    "## 2.1. Muestreo\n",
    "\n",
    "Primero se definen algunas funciones útiles para la creación y manipulación de archivos de `stan`, y se crea un proyecto nuevo para la primera iteración del modelo jerárquico."
   ]
  },
  {
   "cell_type": "code",
   "execution_count": 5,
   "metadata": {},
   "outputs": [],
   "source": [
    "import BFG3000 as bfg"
   ]
  },
  {
   "cell_type": "code",
   "execution_count": 6,
   "metadata": {},
   "outputs": [
    {
     "name": "stdout",
     "output_type": "stream",
     "text": [
      "Ya existe un proyecto con el nombre dinam_iter1\n"
     ]
    }
   ],
   "source": [
    "name = 'dinam_iter1'\n",
    "sp_ = bfg.StanProject(name)\n",
    "dir_, model_ = sp_.create_stan_project(dir='modelos')"
   ]
  },
  {
   "attachments": {},
   "cell_type": "markdown",
   "metadata": {},
   "source": [
    "Una vez creado y editado el proyecto de STAN, se declara el siguiente bloque de código para mantener estructura en la compilación del modelo y los archivos que éste genera."
   ]
  },
  {
   "cell_type": "code",
   "execution_count": 9,
   "metadata": {},
   "outputs": [],
   "source": [
    "# Compilar el modelo\n",
    "compile_ = CmdStanModel(\n",
    "    model_name=name\n",
    "    ,stan_file=model_\n",
    "    ,compile=True)"
   ]
  },
  {
   "attachments": {},
   "cell_type": "markdown",
   "metadata": {},
   "source": [
    "Se delcara un diccionario de datos para proporcionar los datos a stan"
   ]
  },
  {
   "cell_type": "code",
   "execution_count": 10,
   "metadata": {},
   "outputs": [],
   "source": [
    "stan_data_ = {\n",
    "    'n_matches': df_.shape[0]\n",
    "    ,'goals_home': df_.home_team_score.values\n",
    "    ,'goals_away': df_.away_team_score.values\n",
    "}"
   ]
  },
  {
   "attachments": {},
   "cell_type": "markdown",
   "metadata": {},
   "source": [
    "Finalmente, se ejecuta el modelo y se calibra. Este paso es recursivo y se tiene que ejecutar tantas veces sean necesarias de modo que las cadenas generadas por el muestreador tengan diagnósticos buenos."
   ]
  },
  {
   "cell_type": "code",
   "execution_count": 11,
   "metadata": {},
   "outputs": [
    {
     "name": "stderr",
     "output_type": "stream",
     "text": [
      "13:41:16 - cmdstanpy - INFO - CmdStan start processing\n"
     ]
    },
    {
     "data": {
      "application/vnd.jupyter.widget-view+json": {
       "model_id": "0b6ed73deb524398aae0547de959a843",
       "version_major": 2,
       "version_minor": 0
      },
      "text/plain": [
       "chain 1 |          | 00:00 Status"
      ]
     },
     "metadata": {},
     "output_type": "display_data"
    },
    {
     "data": {
      "application/vnd.jupyter.widget-view+json": {
       "model_id": "df46f6dd7e5e4a3996d6ae99417a7822",
       "version_major": 2,
       "version_minor": 0
      },
      "text/plain": [
       "chain 2 |          | 00:00 Status"
      ]
     },
     "metadata": {},
     "output_type": "display_data"
    },
    {
     "data": {
      "application/vnd.jupyter.widget-view+json": {
       "model_id": "c53b2f85880d4f84a9755aa4f873270c",
       "version_major": 2,
       "version_minor": 0
      },
      "text/plain": [
       "chain 3 |          | 00:00 Status"
      ]
     },
     "metadata": {},
     "output_type": "display_data"
    },
    {
     "name": "stdout",
     "output_type": "stream",
     "text": [
      "                                                                                                                                                                                                                                                "
     ]
    },
    {
     "name": "stderr",
     "output_type": "stream",
     "text": [
      "13:43:24 - cmdstanpy - INFO - CmdStan done processing.\n",
      "13:43:24 - cmdstanpy - WARNING - Non-fatal error during sampling:\n",
      "Exception: gamma_lpdf: Random variable is inf, but must be positive finite! (in '/home/camm961001/Github/futbol_bayes/modelos/dinam_iter1/dinam_iter1.stan', line 33, column 4 to column 30)\n",
      "Exception: gamma_lpdf: Random variable is inf, but must be positive finite! (in '/home/camm961001/Github/futbol_bayes/modelos/dinam_iter1/dinam_iter1.stan', line 34, column 4 to column 32)\n",
      "\tException: gamma_lpdf: Random variable is inf, but must be positive finite! (in '/home/camm961001/Github/futbol_bayes/modelos/dinam_iter1/dinam_iter1.stan', line 34, column 4 to column 32)\n",
      "Exception: gamma_lpdf: Random variable is inf, but must be positive finite! (in '/home/camm961001/Github/futbol_bayes/modelos/dinam_iter1/dinam_iter1.stan', line 33, column 4 to column 30)\n",
      "\tException: gamma_lpdf: Random variable is inf, but must be positive finite! (in '/home/camm961001/Github/futbol_bayes/modelos/dinam_iter1/dinam_iter1.stan', line 33, column 4 to column 30)\n",
      "\tException: gamma_lpdf: Random variable is inf, but must be positive finite! (in '/home/camm961001/Github/futbol_bayes/modelos/dinam_iter1/dinam_iter1.stan', line 33, column 4 to column 30)\n",
      "\tException: normal_lpdf: Scale parameter is 0, but must be positive! (in '/home/camm961001/Github/futbol_bayes/modelos/dinam_iter1/dinam_iter1.stan', line 31, column 4 to column 41)\n",
      "\tException: normal_lpdf: Scale parameter is 0, but must be positive! (in '/home/camm961001/Github/futbol_bayes/modelos/dinam_iter1/dinam_iter1.stan', line 31, column 4 to column 41)\n",
      "Consider re-running with show_console=True if the above output is unclear!\n"
     ]
    },
    {
     "name": "stdout",
     "output_type": "stream",
     "text": [
      "\n"
     ]
    },
    {
     "name": "stderr",
     "output_type": "stream",
     "text": [
      "13:43:25 - cmdstanpy - WARNING - Some chains may have failed to converge.\n",
      "\tChain 1 had 18 iterations at max treedepth (0.6%)\n",
      "\tChain 2 had 251 iterations at max treedepth (8.4%)\n",
      "\tUse function \"diagnose()\" to see further information.\n"
     ]
    }
   ],
   "source": [
    "fit_ = compile_.sample(\n",
    "    data=stan_data_\n",
    "    ,chains=3\n",
    "    ,iter_warmup=3_000\n",
    "    ,iter_sampling=3_000\n",
    "    ,show_progress=True\n",
    "    ,save_warmup=False\n",
    ")"
   ]
  },
  {
   "cell_type": "code",
   "execution_count": 12,
   "metadata": {},
   "outputs": [],
   "source": [
    "diagnose_path = os.path.join(dir_, name + '_diagnose.txt')\n",
    "\n",
    "with open(diagnose_path, 'w') as file_:\n",
    "    file_.write(fit_.diagnose())\n",
    "file_.close()"
   ]
  },
  {
   "attachments": {},
   "cell_type": "markdown",
   "metadata": {},
   "source": [
    "## 2.2 Resumen de estimadores"
   ]
  },
  {
   "cell_type": "code",
   "execution_count": 13,
   "metadata": {},
   "outputs": [
    {
     "name": "stdout",
     "output_type": "stream",
     "text": [
      "<class 'pandas.core.frame.DataFrame'>\n",
      "Index: 5181 entries, lp__ to lambda_away[863]\n",
      "Data columns (total 9 columns):\n",
      " #   Column   Non-Null Count  Dtype  \n",
      "---  ------   --------------  -----  \n",
      " 0   Mean     5181 non-null   float64\n",
      " 1   MCSE     5181 non-null   float64\n",
      " 2   StdDev   5181 non-null   float64\n",
      " 3   5%       5181 non-null   float64\n",
      " 4   50%      5181 non-null   float64\n",
      " 5   95%      5181 non-null   float64\n",
      " 6   N_Eff    5181 non-null   float64\n",
      " 7   N_Eff/s  5181 non-null   float64\n",
      " 8   R_hat    5181 non-null   float64\n",
      "dtypes: float64(9)\n",
      "memory usage: 404.8+ KB\n"
     ]
    }
   ],
   "source": [
    "summary_ = fit_.summary()\n",
    "summary_.info()"
   ]
  },
  {
   "attachments": {},
   "cell_type": "markdown",
   "metadata": {},
   "source": [
    "Número de parámetros"
   ]
  },
  {
   "cell_type": "code",
   "execution_count": 14,
   "metadata": {},
   "outputs": [
    {
     "data": {
      "text/plain": [
       "param\n",
       "intercept         863\n",
       "home_boost        863\n",
       "attack            863\n",
       "deffence          863\n",
       "lambda_home       863\n",
       "lambda_away       863\n",
       "lp__                1\n",
       "sigma_attack        1\n",
       "sigma_deffence      1\n",
       "Name: count, dtype: int64"
      ]
     },
     "execution_count": 14,
     "metadata": {},
     "output_type": "execute_result"
    }
   ],
   "source": [
    "summary_vis_ = (\n",
    "    summary_\n",
    "    .reset_index(names='param')\n",
    "    .assign(\n",
    "        param = lambda df_: df_.param.str.partition('[')[0]\n",
    "    )\n",
    ")\n",
    "\n",
    "summary_vis_.param.value_counts()"
   ]
  },
  {
   "attachments": {},
   "cell_type": "markdown",
   "metadata": {},
   "source": [
    "### 2.2.1 MCSE\n",
    "\n",
    "Primero se observa el `MCSE` de lo parámetros únicos"
   ]
  },
  {
   "cell_type": "code",
   "execution_count": 22,
   "metadata": {},
   "outputs": [
    {
     "data": {
      "text/html": [
       "<div>\n",
       "<style scoped>\n",
       "    .dataframe tbody tr th:only-of-type {\n",
       "        vertical-align: middle;\n",
       "    }\n",
       "\n",
       "    .dataframe tbody tr th {\n",
       "        vertical-align: top;\n",
       "    }\n",
       "\n",
       "    .dataframe thead th {\n",
       "        text-align: right;\n",
       "    }\n",
       "</style>\n",
       "<table border=\"1\" class=\"dataframe\">\n",
       "  <thead>\n",
       "    <tr style=\"text-align: right;\">\n",
       "      <th></th>\n",
       "      <th>param</th>\n",
       "      <th>MCSE</th>\n",
       "    </tr>\n",
       "  </thead>\n",
       "  <tbody>\n",
       "    <tr>\n",
       "      <th>0</th>\n",
       "      <td>lp__</td>\n",
       "      <td>117.840000</td>\n",
       "    </tr>\n",
       "    <tr>\n",
       "      <th>3453</th>\n",
       "      <td>sigma_attack</td>\n",
       "      <td>0.117901</td>\n",
       "    </tr>\n",
       "    <tr>\n",
       "      <th>3454</th>\n",
       "      <td>sigma_deffence</td>\n",
       "      <td>0.082433</td>\n",
       "    </tr>\n",
       "  </tbody>\n",
       "</table>\n",
       "</div>"
      ],
      "text/plain": [
       "               param        MCSE\n",
       "0               lp__  117.840000\n",
       "3453    sigma_attack    0.117901\n",
       "3454  sigma_deffence    0.082433"
      ]
     },
     "execution_count": 22,
     "metadata": {},
     "output_type": "execute_result"
    }
   ],
   "source": [
    "# Datos de visualización\n",
    "diagnostico = 'MCSE'\n",
    "mask_ = summary_vis_.param.value_counts()[summary_vis_.param.value_counts() == 1].keys()\n",
    "\n",
    "single_params = (\n",
    "    summary_vis_\n",
    "    .loc[summary_vis_.param.isin(mask_)]\n",
    "    .filter(items=['param', diagnostico])\n",
    "    .assign(\n",
    "        param = lambda df_: pd.Categorical(df_.param)\n",
    "    )\n",
    ").param.values.to_list()\n",
    "\n",
    "(\n",
    "    summary_vis_\n",
    "    .loc[summary_vis_.param.isin(mask_)]\n",
    "    .filter(items=['param', diagnostico])\n",
    "    .assign(\n",
    "        param = lambda df_: pd.Categorical(df_.param)\n",
    "    )\n",
    ")"
   ]
  },
  {
   "attachments": {},
   "cell_type": "markdown",
   "metadata": {},
   "source": [
    "Visualización del error estándar MC de los parámetros múltiples"
   ]
  },
  {
   "cell_type": "code",
   "execution_count": 23,
   "metadata": {},
   "outputs": [
    {
     "data": {
      "image/png": "[encoded data removed]",
      "text/plain": [
       "<Figure size 640x480 with 1 Axes>"
      ]
     },
     "metadata": {},
     "output_type": "display_data"
    }
   ],
   "source": [
    "# Datos de visualización\n",
    "mask_ = summary_vis_.param.value_counts()[summary_vis_.param.value_counts() > 1].keys()\n",
    "vis_ = (\n",
    "    summary_vis_\n",
    "    .loc[summary_vis_.param.isin(mask_)]\n",
    "    .filter(items=['param', diagnostico])\n",
    "    .assign(\n",
    "        param = lambda df_: pd.Categorical(df_.param)\n",
    "    )\n",
    ")\n",
    "\n",
    "# Especificaciones de figuras\n",
    "fig, ax = plt.subplots()\n",
    "\n",
    "# Visualizaciones\n",
    "ax.scatter(\n",
    "    x=vis_[diagnostico]\n",
    "    ,y=vis_.param.cat.codes + np.random.uniform(low=-0.2, high=0.2, size=vis_.shape[0])\n",
    "    ,color='tab:green'\n",
    "    ,alpha=0.5)\n",
    "\n",
    "# Anotaciones y estilo\n",
    "ax.set_title(f'{diagnostico} de los parámetros múltiples', loc='left')\n",
    "ax.set_xlabel(diagnostico)\n",
    "ax.set_yticks(\n",
    "    ticks=vis_.param.cat.codes.unique()\n",
    "    ,labels=vis_.param.cat.categories)\n",
    "\n",
    "plt.show()"
   ]
  },
  {
   "attachments": {},
   "cell_type": "markdown",
   "metadata": {},
   "source": [
    "### 2.2.2 Número efectivo de simulaciones\n",
    "\n",
    "Primero se observa el `N_Eff` de lo parámetros únicos"
   ]
  },
  {
   "cell_type": "code",
   "execution_count": 24,
   "metadata": {},
   "outputs": [
    {
     "data": {
      "text/html": [
       "<div>\n",
       "<style scoped>\n",
       "    .dataframe tbody tr th:only-of-type {\n",
       "        vertical-align: middle;\n",
       "    }\n",
       "\n",
       "    .dataframe tbody tr th {\n",
       "        vertical-align: top;\n",
       "    }\n",
       "\n",
       "    .dataframe thead th {\n",
       "        text-align: right;\n",
       "    }\n",
       "</style>\n",
       "<table border=\"1\" class=\"dataframe\">\n",
       "  <thead>\n",
       "    <tr style=\"text-align: right;\">\n",
       "      <th></th>\n",
       "      <th>param</th>\n",
       "      <th>N_Eff</th>\n",
       "    </tr>\n",
       "  </thead>\n",
       "  <tbody>\n",
       "    <tr>\n",
       "      <th>0</th>\n",
       "      <td>lp__</td>\n",
       "      <td>22.381500</td>\n",
       "    </tr>\n",
       "    <tr>\n",
       "      <th>3453</th>\n",
       "      <td>sigma_attack</td>\n",
       "      <td>18.878787</td>\n",
       "    </tr>\n",
       "    <tr>\n",
       "      <th>3454</th>\n",
       "      <td>sigma_deffence</td>\n",
       "      <td>28.650998</td>\n",
       "    </tr>\n",
       "  </tbody>\n",
       "</table>\n",
       "</div>"
      ],
      "text/plain": [
       "               param      N_Eff\n",
       "0               lp__  22.381500\n",
       "3453    sigma_attack  18.878787\n",
       "3454  sigma_deffence  28.650998"
      ]
     },
     "execution_count": 24,
     "metadata": {},
     "output_type": "execute_result"
    }
   ],
   "source": [
    "# Datos de visualización\n",
    "diagnostico = 'N_Eff'\n",
    "mask_ = summary_vis_.param.value_counts()[summary_vis_.param.value_counts() == 1].keys()\n",
    "\n",
    "(\n",
    "    summary_vis_\n",
    "    .loc[summary_vis_.param.isin(mask_)]\n",
    "    .filter(items=['param', diagnostico])\n",
    "    .assign(\n",
    "        param = lambda df_: pd.Categorical(df_.param)\n",
    "    )\n",
    ")"
   ]
  },
  {
   "attachments": {},
   "cell_type": "markdown",
   "metadata": {},
   "source": [
    "Visualización del error estándar MC de los parámetros múltiples"
   ]
  },
  {
   "cell_type": "code",
   "execution_count": 25,
   "metadata": {},
   "outputs": [
    {
     "data": {
      "image/png": "[encoded data removed]",
      "text/plain": [
       "<Figure size 640x480 with 1 Axes>"
      ]
     },
     "metadata": {},
     "output_type": "display_data"
    }
   ],
   "source": [
    "# Datos de visualización\n",
    "mask_ = summary_vis_.param.value_counts()[summary_vis_.param.value_counts() > 1].keys()\n",
    "vis_ = (\n",
    "    summary_vis_\n",
    "    .loc[summary_vis_.param.isin(mask_)]\n",
    "    .filter(items=['param', diagnostico])\n",
    "    .assign(\n",
    "        param = lambda df_: pd.Categorical(df_.param)\n",
    "    )\n",
    ")\n",
    "\n",
    "# Especificaciones de figuras\n",
    "fig, ax = plt.subplots()\n",
    "\n",
    "# Visualizaciones\n",
    "ax.scatter(\n",
    "    x=vis_[diagnostico]\n",
    "    ,y=vis_.param.cat.codes + np.random.uniform(low=-0.2, high=0.2, size=vis_.shape[0])\n",
    "    ,color='tab:green'\n",
    "    ,alpha=0.5)\n",
    "\n",
    "# Anotaciones y estilo\n",
    "ax.set_title(f'{diagnostico} de los parámetros múltiples', loc='left')\n",
    "ax.set_xlabel(diagnostico)\n",
    "ax.set_yticks(\n",
    "    ticks=vis_.param.cat.codes.unique()\n",
    "    ,labels=vis_.param.cat.categories)\n",
    "\n",
    "plt.show()"
   ]
  },
  {
   "attachments": {},
   "cell_type": "markdown",
   "metadata": {},
   "source": [
    "### 2.2.3 Factor de reducción de escala\n",
    "\n",
    "Primero se observa el `R_hat` de lo parámetros únicos"
   ]
  },
  {
   "cell_type": "code",
   "execution_count": 26,
   "metadata": {},
   "outputs": [
    {
     "data": {
      "text/html": [
       "<div>\n",
       "<style scoped>\n",
       "    .dataframe tbody tr th:only-of-type {\n",
       "        vertical-align: middle;\n",
       "    }\n",
       "\n",
       "    .dataframe tbody tr th {\n",
       "        vertical-align: top;\n",
       "    }\n",
       "\n",
       "    .dataframe thead th {\n",
       "        text-align: right;\n",
       "    }\n",
       "</style>\n",
       "<table border=\"1\" class=\"dataframe\">\n",
       "  <thead>\n",
       "    <tr style=\"text-align: right;\">\n",
       "      <th></th>\n",
       "      <th>param</th>\n",
       "      <th>R_hat</th>\n",
       "    </tr>\n",
       "  </thead>\n",
       "  <tbody>\n",
       "    <tr>\n",
       "      <th>0</th>\n",
       "      <td>lp__</td>\n",
       "      <td>1.172390</td>\n",
       "    </tr>\n",
       "    <tr>\n",
       "      <th>3453</th>\n",
       "      <td>sigma_attack</td>\n",
       "      <td>1.278206</td>\n",
       "    </tr>\n",
       "    <tr>\n",
       "      <th>3454</th>\n",
       "      <td>sigma_deffence</td>\n",
       "      <td>1.086452</td>\n",
       "    </tr>\n",
       "  </tbody>\n",
       "</table>\n",
       "</div>"
      ],
      "text/plain": [
       "               param     R_hat\n",
       "0               lp__  1.172390\n",
       "3453    sigma_attack  1.278206\n",
       "3454  sigma_deffence  1.086452"
      ]
     },
     "execution_count": 26,
     "metadata": {},
     "output_type": "execute_result"
    }
   ],
   "source": [
    "# Datos de visualización\n",
    "diagnostico = 'R_hat'\n",
    "mask_ = summary_vis_.param.value_counts()[summary_vis_.param.value_counts() == 1].keys()\n",
    "\n",
    "(\n",
    "    summary_vis_\n",
    "    .loc[summary_vis_.param.isin(mask_)]\n",
    "    .filter(items=['param', diagnostico])\n",
    "    .assign(\n",
    "        param = lambda df_: pd.Categorical(df_.param)\n",
    "    )\n",
    ")"
   ]
  },
  {
   "attachments": {},
   "cell_type": "markdown",
   "metadata": {},
   "source": [
    "Visualización del error estándar MC de los parámetros múltiples"
   ]
  },
  {
   "cell_type": "code",
   "execution_count": 27,
   "metadata": {},
   "outputs": [
    {
     "data": {
      "image/png": "[encoded data removed]",
      "text/plain": [
       "<Figure size 640x480 with 1 Axes>"
      ]
     },
     "metadata": {},
     "output_type": "display_data"
    }
   ],
   "source": [
    "# Datos de visualización\n",
    "mask_ = summary_vis_.param.value_counts()[summary_vis_.param.value_counts() > 1].keys()\n",
    "vis_ = (\n",
    "    summary_vis_\n",
    "    .loc[summary_vis_.param.isin(mask_)]\n",
    "    .filter(items=['param', diagnostico])\n",
    "    .assign(\n",
    "        param = lambda df_: pd.Categorical(df_.param)\n",
    "    )\n",
    ")\n",
    "\n",
    "# Especificaciones de figuras\n",
    "fig, ax = plt.subplots()\n",
    "\n",
    "# Visualizaciones\n",
    "ax.scatter(\n",
    "    x=vis_[diagnostico]\n",
    "    ,y=vis_.param.cat.codes + np.random.uniform(low=-0.2, high=0.2, size=vis_.shape[0])\n",
    "    ,color='tab:green'\n",
    "    ,alpha=0.5)\n",
    "ax.axvline(x=1.05, color='tab:red', linestyle='--')\n",
    "\n",
    "# Anotaciones y estilo\n",
    "ax.set_title(f'{diagnostico} de los parámetros múltiples', loc='left')\n",
    "ax.set_xlabel(diagnostico)\n",
    "ax.set_yticks(\n",
    "    ticks=vis_.param.cat.codes.unique()\n",
    "    ,labels=vis_.param.cat.categories)\n",
    "\n",
    "plt.show()"
   ]
  },
  {
   "attachments": {},
   "cell_type": "markdown",
   "metadata": {},
   "source": [
    "### 2.2.4 Traza de las cadenas"
   ]
  },
  {
   "cell_type": "code",
   "execution_count": 28,
   "metadata": {},
   "outputs": [
    {
     "data": {
      "text/plain": [
       "(3000, 3, 5187)"
      ]
     },
     "execution_count": 28,
     "metadata": {},
     "output_type": "execute_result"
    }
   ],
   "source": [
    "chains_ = fit_.draws(inc_warmup=False, concat_chains=False)\n",
    "chains_.shape"
   ]
  },
  {
   "attachments": {},
   "cell_type": "markdown",
   "metadata": {},
   "source": [
    "Parámetros simples"
   ]
  },
  {
   "cell_type": "code",
   "execution_count": 29,
   "metadata": {},
   "outputs": [],
   "source": [
    "def traceplot_single_param(param, type):\n",
    "    idp_ = fit_.column_names.index(param)\n",
    "    arr_ = chains_[:, :, idp_]\n",
    "\n",
    "    # Especificaciones de figura\n",
    "    plt.figure(figsize=(10,5))\n",
    "\n",
    "    if type == 'traceplot':\n",
    "        # Visualizaciones\n",
    "        for chain in range(arr_.shape[1]):\n",
    "            plt.plot(arr_[:, chain], label=f'Chain: {chain}')\n",
    "\n",
    "        # Anotaciones y estilo\n",
    "        plt.title(f'Traza de las cadenas, {param}', loc='left')\n",
    "        plt.xlabel('Iteraciones')\n",
    "        plt.ylabel('Espacio parametral')\n",
    "        plt.legend()\n",
    "\n",
    "    if type == 'convergence':\n",
    "        ergo_ = np.apply_along_axis(func1d=lambda x: x.cumsum(), axis=0, arr=arr_)\n",
    "        ergo_ = ergo_ / np.arange(1, ergo_.shape[0]+1, 1).reshape((-1,1))\n",
    "\n",
    "        # Visualizaciones\n",
    "        for chain in range(ergo_.shape[1]):\n",
    "            plt.plot(ergo_[:, chain], label=f'Chain: {chain}')\n",
    "\n",
    "        # Anotaciones y estilo\n",
    "        plt.title(f'Promedios ergódicos, {param}', loc='left')\n",
    "        plt.xlabel('Iteraciones')\n",
    "        plt.ylabel('Espacio parametral')\n",
    "        plt.legend()\n",
    "\n",
    "    plt.show()"
   ]
  },
  {
   "cell_type": "code",
   "execution_count": 30,
   "metadata": {},
   "outputs": [
    {
     "data": {
      "application/vnd.jupyter.widget-view+json": {
       "model_id": "3dc7a24e5c92425fa647330b148ca6e9",
       "version_major": 2,
       "version_minor": 0
      },
      "text/plain": [
       "interactive(children=(Dropdown(description='Param', options=('lp__', 'sigma_attack', 'sigma_deffence'), value=…"
      ]
     },
     "metadata": {},
     "output_type": "display_data"
    },
    {
     "data": {
      "text/plain": [
       "<function __main__.traceplot_single_param(param, type)>"
      ]
     },
     "execution_count": 30,
     "metadata": {},
     "output_type": "execute_result"
    }
   ],
   "source": [
    "widgets.interact(\n",
    "    traceplot_single_param\n",
    "    ,param=widgets.Dropdown(\n",
    "        options=single_params\n",
    "        ,description='Param'\n",
    "        ,disabled=False)\n",
    "    ,type=widgets.Dropdown(\n",
    "        options=['traceplot','convergence']\n",
    "        ,description='Type'\n",
    "        ,disabled=False)\n",
    "        \n",
    ")"
   ]
  },
  {
   "cell_type": "code",
   "execution_count": null,
   "metadata": {},
   "outputs": [],
   "source": []
  }
 ],
 "metadata": {
  "kernelspec": {
   "display_name": "stan",
   "language": "python",
   "name": "python3"
  },
  "language_info": {
   "codemirror_mode": {
    "name": "ipython",
    "version": 3
   },
   "file_extension": ".py",
   "mimetype": "text/x-python",
   "name": "python",
   "nbconvert_exporter": "python",
   "pygments_lexer": "ipython3",
   "version": "3.11.3"
  },
  "orig_nbformat": 4
 },
 "nbformat": 4,
 "nbformat_minor": 2
}
