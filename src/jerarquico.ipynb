{
 "cells": [
  {
   "attachments": {},
   "cell_type": "markdown",
   "metadata": {},
   "source": [
    "# Fútbol bayesiano\n",
    "\n",
    "Carga de librerías"
   ]
  },
  {
   "cell_type": "code",
   "execution_count": 1,
   "metadata": {},
   "outputs": [],
   "source": [
    "import os\n",
    "import yaml\n",
    "import numpy as np\n",
    "import pandas as pd\n",
    "import matplotlib.pyplot as plt\n",
    "import arviz as az\n",
    "\n",
    "from cmdstanpy import CmdStanModel\n",
    "from ipywidgets import widgets"
   ]
  },
  {
   "attachments": {},
   "cell_type": "markdown",
   "metadata": {},
   "source": [
    "Se definen rutas relativas del archivo"
   ]
  },
  {
   "cell_type": "code",
   "execution_count": 2,
   "metadata": {},
   "outputs": [],
   "source": [
    "CURRENT = os.getcwd()\n",
    "ROOT = os.path.dirname(CURRENT)"
   ]
  },
  {
   "attachments": {},
   "cell_type": "markdown",
   "metadata": {},
   "source": [
    "Cargar en memoria archivo de configuración"
   ]
  },
  {
   "cell_type": "code",
   "execution_count": 3,
   "metadata": {},
   "outputs": [],
   "source": [
    "with open(os.path.join(ROOT, 'config.yml'), 'r') as file_:\n",
    "    config = yaml.safe_load(file_)\n",
    "file_.close()"
   ]
  },
  {
   "attachments": {},
   "cell_type": "markdown",
   "metadata": {},
   "source": [
    "Carga en memoria de los datos con transformaciones convenientes"
   ]
  },
  {
   "cell_type": "code",
   "execution_count": 4,
   "metadata": {},
   "outputs": [
    {
     "name": "stdout",
     "output_type": "stream",
     "text": [
      "<class 'pandas.core.frame.DataFrame'>\n",
      "Index: 855 entries, 0 to 862\n",
      "Data columns (total 8 columns):\n",
      " #   Column               Non-Null Count  Dtype \n",
      "---  ------               --------------  ----- \n",
      " 0   tournament           855 non-null    object\n",
      " 1   home_team            855 non-null    object\n",
      " 2   away_team            855 non-null    object\n",
      " 3   home_team_continent  855 non-null    object\n",
      " 4   away_team_continent  855 non-null    object\n",
      " 5   home_team_score      855 non-null    int64 \n",
      " 6   away_team_score      855 non-null    int64 \n",
      " 7   result               855 non-null    int64 \n",
      "dtypes: int64(3), object(5)\n",
      "memory usage: 60.1+ KB\n"
     ]
    }
   ],
   "source": [
    "df_ = (\n",
    "    # --------------------------------------------------- Carga de datos crudos\n",
    "    pd.read_csv(\n",
    "        os.path.join(ROOT, config['datos']['raw'])\n",
    "        ,encoding='latin1')\n",
    "    # ---------------------------------------------------- Acotar datos a scope\n",
    "    .query(\"year > 2018\")\n",
    "    .query(\"tournament == 'FIFA World Cup qualification'\")\n",
    "    .reset_index(drop=True)\n",
    "    # --------------------------------------------- Filtrar columnas de interés\n",
    "    .filter(items=[\n",
    "        'tournament'\n",
    "        ,'home_team'\n",
    "        ,'away_team'\n",
    "        ,'home_team_continent'\n",
    "        ,'away_team_continent'\n",
    "        ,'home_team_score'\n",
    "        ,'away_team_score'\n",
    "    ])\n",
    "    # --------------------------------------- Asignación de columnas computadas\n",
    "    .assign(\n",
    "        result = lambda df_: \n",
    "            # -1: Away win, 0: Draw, 1: Home win\n",
    "            (df_.home_team_score - df_.away_team_score).apply(np.sign))\n",
    "    # -------------------------------------------------------- Filtrar outliers\n",
    "    .query('home_team_score <= 9')\n",
    "    .query('away_team_score <= 9')\n",
    ")\n",
    "\n",
    "df_.info()"
   ]
  },
  {
   "attachments": {},
   "cell_type": "markdown",
   "metadata": {},
   "source": [
    "Adicionalmente, es necesario construir un catálogo de las regiones a las que pertenecen los distintos equipos, respetando su referencia posicional para que se pueda proporcionar esa información a stan"
   ]
  },
  {
   "cell_type": "code",
   "execution_count": 5,
   "metadata": {},
   "outputs": [
    {
     "data": {
      "text/html": [
       "<div>\n",
       "<style scoped>\n",
       "    .dataframe tbody tr th:only-of-type {\n",
       "        vertical-align: middle;\n",
       "    }\n",
       "\n",
       "    .dataframe tbody tr th {\n",
       "        vertical-align: top;\n",
       "    }\n",
       "\n",
       "    .dataframe thead th {\n",
       "        text-align: right;\n",
       "    }\n",
       "</style>\n",
       "<table border=\"1\" class=\"dataframe\">\n",
       "  <thead>\n",
       "    <tr style=\"text-align: right;\">\n",
       "      <th></th>\n",
       "      <th>team</th>\n",
       "      <th>region</th>\n",
       "      <th>team_code</th>\n",
       "      <th>region_code</th>\n",
       "    </tr>\n",
       "  </thead>\n",
       "  <tbody>\n",
       "    <tr>\n",
       "      <th>0</th>\n",
       "      <td>Afghanistan</td>\n",
       "      <td>Asia</td>\n",
       "      <td>1</td>\n",
       "      <td>2</td>\n",
       "    </tr>\n",
       "    <tr>\n",
       "      <th>1</th>\n",
       "      <td>Albania</td>\n",
       "      <td>Europe</td>\n",
       "      <td>2</td>\n",
       "      <td>3</td>\n",
       "    </tr>\n",
       "    <tr>\n",
       "      <th>2</th>\n",
       "      <td>Algeria</td>\n",
       "      <td>Africa</td>\n",
       "      <td>3</td>\n",
       "      <td>1</td>\n",
       "    </tr>\n",
       "    <tr>\n",
       "      <th>3</th>\n",
       "      <td>Andorra</td>\n",
       "      <td>Europe</td>\n",
       "      <td>4</td>\n",
       "      <td>3</td>\n",
       "    </tr>\n",
       "    <tr>\n",
       "      <th>4</th>\n",
       "      <td>Angola</td>\n",
       "      <td>Africa</td>\n",
       "      <td>5</td>\n",
       "      <td>1</td>\n",
       "    </tr>\n",
       "  </tbody>\n",
       "</table>\n",
       "</div>"
      ],
      "text/plain": [
       "          team  region  team_code  region_code\n",
       "0  Afghanistan    Asia          1            2\n",
       "1      Albania  Europe          2            3\n",
       "2      Algeria  Africa          3            1\n",
       "3      Andorra  Europe          4            3\n",
       "4       Angola  Africa          5            1"
      ]
     },
     "execution_count": 5,
     "metadata": {},
     "output_type": "execute_result"
    }
   ],
   "source": [
    "home_ = (\n",
    "    df_\n",
    "    .filter(items=['home_team', 'home_team_continent'])\n",
    "    .rename(columns={'home_team':'team', 'home_team_continent':'region'}))\n",
    "\n",
    "away_ = (\n",
    "    df_\n",
    "    .filter(items=['away_team', 'away_team_continent'])\n",
    "    .rename(columns={'away_team':'team', 'away_team_continent':'region'}))\n",
    "\n",
    "cat_regiones = (\n",
    "    pd.concat((home_, away_))\n",
    "    .drop_duplicates('team')\n",
    "    .assign(\n",
    "        team = lambda df_: pd.Categorical(df_.team)\n",
    "        ,region = lambda df_: pd.Categorical(df_.region)\n",
    "        ,team_code = lambda df_: df_.team.cat.codes + 1\n",
    "        ,region_code = lambda df_: df_.region.cat.codes + 1\n",
    "    )\n",
    "    .sort_values(by='team_code')\n",
    "    .reset_index(drop=True)\n",
    ")\n",
    "\n",
    "cat_regiones.head()"
   ]
  },
  {
   "cell_type": "code",
   "execution_count": 6,
   "metadata": {},
   "outputs": [
    {
     "name": "stdout",
     "output_type": "stream",
     "text": [
      "Número de equipos: 206\n",
      "Número de regiones: 6\n"
     ]
    }
   ],
   "source": [
    "print(f'Número de equipos: {cat_regiones.team_code.nunique()}')\n",
    "print(f'Número de regiones: {cat_regiones.region_code.nunique()}')"
   ]
  },
  {
   "attachments": {},
   "cell_type": "markdown",
   "metadata": {},
   "source": [
    "Una vez creado el catálogo, se asignan los códigos creados a las columnas del _dataframe_ de datos inicial. Para ello, del catálogo de equipos y regiones se extrae un diccionario para reemplazar múltiples columnas en los datos."
   ]
  },
  {
   "cell_type": "code",
   "execution_count": 7,
   "metadata": {},
   "outputs": [
    {
     "data": {
      "text/html": [
       "<div>\n",
       "<style scoped>\n",
       "    .dataframe tbody tr th:only-of-type {\n",
       "        vertical-align: middle;\n",
       "    }\n",
       "\n",
       "    .dataframe tbody tr th {\n",
       "        vertical-align: top;\n",
       "    }\n",
       "\n",
       "    .dataframe thead th {\n",
       "        text-align: right;\n",
       "    }\n",
       "</style>\n",
       "<table border=\"1\" class=\"dataframe\">\n",
       "  <thead>\n",
       "    <tr style=\"text-align: right;\">\n",
       "      <th></th>\n",
       "      <th>tournament</th>\n",
       "      <th>home_team</th>\n",
       "      <th>away_team</th>\n",
       "      <th>home_team_continent</th>\n",
       "      <th>away_team_continent</th>\n",
       "      <th>home_team_score</th>\n",
       "      <th>away_team_score</th>\n",
       "      <th>result</th>\n",
       "    </tr>\n",
       "  </thead>\n",
       "  <tbody>\n",
       "    <tr>\n",
       "      <th>0</th>\n",
       "      <td>FIFA World Cup qualification</td>\n",
       "      <td>23</td>\n",
       "      <td>80</td>\n",
       "      <td>2</td>\n",
       "      <td>2</td>\n",
       "      <td>1</td>\n",
       "      <td>0</td>\n",
       "      <td>1</td>\n",
       "    </tr>\n",
       "    <tr>\n",
       "      <th>1</th>\n",
       "      <td>FIFA World Cup qualification</td>\n",
       "      <td>34</td>\n",
       "      <td>144</td>\n",
       "      <td>2</td>\n",
       "      <td>2</td>\n",
       "      <td>2</td>\n",
       "      <td>0</td>\n",
       "      <td>1</td>\n",
       "    </tr>\n",
       "    <tr>\n",
       "      <th>2</th>\n",
       "      <td>FIFA World Cup qualification</td>\n",
       "      <td>106</td>\n",
       "      <td>16</td>\n",
       "      <td>2</td>\n",
       "      <td>2</td>\n",
       "      <td>0</td>\n",
       "      <td>1</td>\n",
       "      <td>-1</td>\n",
       "    </tr>\n",
       "    <tr>\n",
       "      <th>3</th>\n",
       "      <td>FIFA World Cup qualification</td>\n",
       "      <td>115</td>\n",
       "      <td>175</td>\n",
       "      <td>2</td>\n",
       "      <td>2</td>\n",
       "      <td>1</td>\n",
       "      <td>0</td>\n",
       "      <td>1</td>\n",
       "    </tr>\n",
       "    <tr>\n",
       "      <th>4</th>\n",
       "      <td>FIFA World Cup qualification</td>\n",
       "      <td>126</td>\n",
       "      <td>29</td>\n",
       "      <td>2</td>\n",
       "      <td>2</td>\n",
       "      <td>2</td>\n",
       "      <td>0</td>\n",
       "      <td>1</td>\n",
       "    </tr>\n",
       "  </tbody>\n",
       "</table>\n",
       "</div>"
      ],
      "text/plain": [
       "                     tournament  home_team  away_team  home_team_continent   \n",
       "0  FIFA World Cup qualification         23         80                    2  \\\n",
       "1  FIFA World Cup qualification         34        144                    2   \n",
       "2  FIFA World Cup qualification        106         16                    2   \n",
       "3  FIFA World Cup qualification        115        175                    2   \n",
       "4  FIFA World Cup qualification        126         29                    2   \n",
       "\n",
       "   away_team_continent  home_team_score  away_team_score  result  \n",
       "0                    2                1                0       1  \n",
       "1                    2                2                0       1  \n",
       "2                    2                0                1      -1  \n",
       "3                    2                1                0       1  \n",
       "4                    2                2                0       1  "
      ]
     },
     "execution_count": 7,
     "metadata": {},
     "output_type": "execute_result"
    }
   ],
   "source": [
    "equipos_ = {}\n",
    "regiones_ = {}\n",
    "for row_ in range(cat_regiones.shape[0]):\n",
    "    equipos_[cat_regiones.loc[row_].team] = cat_regiones.loc[row_].team_code\n",
    "    regiones_[cat_regiones.loc[row_].region] =  cat_regiones.loc[row_].region_code\n",
    "\n",
    "df_.home_team = df_.home_team.map(equipos_)\n",
    "df_.away_team = df_.away_team.map(equipos_)\n",
    "df_.home_team_continent = df_.home_team_continent.map(regiones_)\n",
    "df_.away_team_continent = df_.away_team_continent.map(regiones_)\n",
    "\n",
    "df_.head()"
   ]
  },
  {
   "attachments": {},
   "cell_type": "markdown",
   "metadata": {},
   "source": [
    "# 2. Modelo en STAN\n",
    "\n",
    "$$y^h\\sim Poisson(\\theta^h)$$\n",
    "$$y^a\\sim Poisson(\\theta^a)$$\n",
    "$$log(\\theta^h) = home_{boost} + attack_{i[h]} - defence_{i[a]}$$\n",
    "$$log(\\theta^a) = attack_{i[a]} - defence_{i[h]}$$\n",
    "\n",
    "## 2.1 Muestreo\n",
    "\n",
    "Primero se definen algunas funciones útiles para la creación y manipulación de archivos de `stan`, y se crea un proyecto nuevo para la primera iteración del modelo jerárquico."
   ]
  },
  {
   "cell_type": "code",
   "execution_count": 8,
   "metadata": {},
   "outputs": [],
   "source": [
    "import BFG3000 as bfg"
   ]
  },
  {
   "cell_type": "code",
   "execution_count": 9,
   "metadata": {},
   "outputs": [
    {
     "name": "stdout",
     "output_type": "stream",
     "text": [
      "Ya existe un proyecto con el nombre efectos\n"
     ]
    }
   ],
   "source": [
    "name = 'efectos'\n",
    "sp_ = bfg.StanProject(name)\n",
    "dir_, model_ = sp_.create_stan_project(dir='modelos')"
   ]
  },
  {
   "attachments": {},
   "cell_type": "markdown",
   "metadata": {},
   "source": [
    "Una vez creado y editado el proyecto de STAN, se declara el siguiente bloque de código para mantener estructura en la compilación del modelo y los archivos que éste genera."
   ]
  },
  {
   "cell_type": "code",
   "execution_count": 10,
   "metadata": {},
   "outputs": [],
   "source": [
    "# Compilar el modelo\n",
    "compile_ = CmdStanModel(\n",
    "    stan_file=model_\n",
    "    ,compile=True\n",
    ")"
   ]
  },
  {
   "attachments": {},
   "cell_type": "markdown",
   "metadata": {},
   "source": [
    "Se declara un diccionario de datos para proporcionar los datos a stan"
   ]
  },
  {
   "cell_type": "code",
   "execution_count": 11,
   "metadata": {},
   "outputs": [],
   "source": [
    "stan_data_ = {\n",
    "    'n_partidos': df_.shape[0]\n",
    "    ,'n_equipos': cat_regiones.team_code.nunique()\n",
    "    ,'n_regiones': cat_regiones.region_code.nunique()\n",
    "    ,'locales': df_.home_team.values\n",
    "    ,'visitantes': df_.away_team.values\n",
    "    ,'region_equipo': cat_regiones.region_code.values\n",
    "    ,'goles_local': df_.home_team_score.values\n",
    "    ,'goles_visita': df_.away_team_score.values\n",
    "}"
   ]
  },
  {
   "attachments": {},
   "cell_type": "markdown",
   "metadata": {},
   "source": [
    "Finalmente, se ejecuta el modelo y se calibra. Este paso es recursivo y se tiene que ejecutar tantas veces sean necesarias de modo que las cadenas generadas por el muestreador tengan diagnósticos buenos."
   ]
  },
  {
   "cell_type": "code",
   "execution_count": 12,
   "metadata": {},
   "outputs": [
    {
     "name": "stderr",
     "output_type": "stream",
     "text": [
      "15:25:44 - cmdstanpy - INFO - CmdStan start processing\n"
     ]
    },
    {
     "data": {
      "application/vnd.jupyter.widget-view+json": {
       "model_id": "50cf0a5abb074816af32724e1abe1ca7",
       "version_major": 2,
       "version_minor": 0
      },
      "text/plain": [
       "chain 1 |          | 00:00 Status"
      ]
     },
     "metadata": {},
     "output_type": "display_data"
    },
    {
     "data": {
      "application/vnd.jupyter.widget-view+json": {
       "model_id": "1148a55088c14f7ba7b7b8e99bf4885d",
       "version_major": 2,
       "version_minor": 0
      },
      "text/plain": [
       "chain 2 |          | 00:00 Status"
      ]
     },
     "metadata": {},
     "output_type": "display_data"
    },
    {
     "data": {
      "application/vnd.jupyter.widget-view+json": {
       "model_id": "ff72c1f540b74629a41d45a2ba50033c",
       "version_major": 2,
       "version_minor": 0
      },
      "text/plain": [
       "chain 3 |          | 00:00 Status"
      ]
     },
     "metadata": {},
     "output_type": "display_data"
    },
    {
     "data": {
      "application/vnd.jupyter.widget-view+json": {
       "model_id": "03d49bb1d03249f18d912a8a97d6589c",
       "version_major": 2,
       "version_minor": 0
      },
      "text/plain": [
       "chain 4 |          | 00:00 Status"
      ]
     },
     "metadata": {},
     "output_type": "display_data"
    },
    {
     "data": {
      "application/vnd.jupyter.widget-view+json": {
       "model_id": "41061989738f46a098cc1d4721796348",
       "version_major": 2,
       "version_minor": 0
      },
      "text/plain": [
       "chain 5 |          | 00:00 Status"
      ]
     },
     "metadata": {},
     "output_type": "display_data"
    },
    {
     "data": {
      "application/vnd.jupyter.widget-view+json": {
       "model_id": "bbf0ce8187294a54bc3b8d6a8de66d26",
       "version_major": 2,
       "version_minor": 0
      },
      "text/plain": [
       "chain 6 |          | 00:00 Status"
      ]
     },
     "metadata": {},
     "output_type": "display_data"
    },
    {
     "data": {
      "application/vnd.jupyter.widget-view+json": {
       "model_id": "3aaab37770e7409e93356b6cbe5457f9",
       "version_major": 2,
       "version_minor": 0
      },
      "text/plain": [
       "chain 7 |          | 00:00 Status"
      ]
     },
     "metadata": {},
     "output_type": "display_data"
    },
    {
     "data": {
      "application/vnd.jupyter.widget-view+json": {
       "model_id": "9793cc2e151d4610a8e5bd3372e0ed5e",
       "version_major": 2,
       "version_minor": 0
      },
      "text/plain": [
       "chain 8 |          | 00:00 Status"
      ]
     },
     "metadata": {},
     "output_type": "display_data"
    },
    {
     "name": "stdout",
     "output_type": "stream",
     "text": [
      "                                                                                                                                                                                                                                                                                                                                                                                                                                                                                                                                                                                                                                                                "
     ]
    },
    {
     "name": "stderr",
     "output_type": "stream",
     "text": [
      "15:26:18 - cmdstanpy - INFO - CmdStan done processing.\n"
     ]
    },
    {
     "name": "stdout",
     "output_type": "stream",
     "text": [
      "\n"
     ]
    }
   ],
   "source": [
    "fit_ = compile_.sample(\n",
    "    data=stan_data_\n",
    "    ,chains=8\n",
    "    ,seed=202803\n",
    "    ,iter_warmup=5_000\n",
    "    ,iter_sampling=5_000\n",
    "    ,show_progress=True\n",
    "    ,save_warmup=False\n",
    ")"
   ]
  },
  {
   "attachments": {},
   "cell_type": "markdown",
   "metadata": {},
   "source": [
    "```{python}\n",
    "fit_path = os.path.join(dir_, name + '_fit_200.pkl')\n",
    "\n",
    "with open(fit_path, 'rb') as file_:\n",
    "    pickle.dump(fit_, file_)\n",
    "file_.close()\n",
    "```"
   ]
  },
  {
   "attachments": {},
   "cell_type": "markdown",
   "metadata": {},
   "source": [
    "## 2.2 Resumen de estimadores"
   ]
  },
  {
   "cell_type": "code",
   "execution_count": 14,
   "metadata": {},
   "outputs": [
    {
     "name": "stdout",
     "output_type": "stream",
     "text": [
      "<class 'pandas.core.frame.DataFrame'>\n",
      "Index: 7666 entries, lp__ to logver_visita[855]\n",
      "Data columns (total 9 columns):\n",
      " #   Column   Non-Null Count  Dtype  \n",
      "---  ------   --------------  -----  \n",
      " 0   Mean     7666 non-null   float64\n",
      " 1   MCSE     7398 non-null   float64\n",
      " 2   StdDev   7666 non-null   float64\n",
      " 3   5%       7666 non-null   float64\n",
      " 4   50%      7666 non-null   float64\n",
      " 5   95%      7666 non-null   float64\n",
      " 6   N_Eff    7398 non-null   float64\n",
      " 7   N_Eff/s  7398 non-null   float64\n",
      " 8   R_hat    7398 non-null   float64\n",
      "dtypes: float64(9)\n",
      "memory usage: 598.9+ KB\n"
     ]
    }
   ],
   "source": [
    "summary_ = fit_.summary()\n",
    "summary_.info()"
   ]
  },
  {
   "attachments": {},
   "cell_type": "markdown",
   "metadata": {},
   "source": [
    "Función de probabilidad de pertenecer a otro valor"
   ]
  },
  {
   "cell_type": "code",
   "execution_count": 15,
   "metadata": {},
   "outputs": [],
   "source": [
    "def prob(x):\n",
    "    out = np.min((\n",
    "        np.sum(x > 0) / x.shape[0]\n",
    "        ,np.sum(x < 0) / x.shape[0]))\n",
    "    return out"
   ]
  },
  {
   "cell_type": "code",
   "execution_count": 19,
   "metadata": {},
   "outputs": [
    {
     "data": {
      "text/plain": [
       "(40000, 7684)"
      ]
     },
     "execution_count": 19,
     "metadata": {},
     "output_type": "execute_result"
    }
   ],
   "source": [
    "chains_ = fit_.draws(inc_warmup=False, concat_chains=True)\n",
    "chains_ = np.delete(arr=chains_, obj=[1,2,3,4,5,6], axis=1)\n",
    "chains_.shape"
   ]
  },
  {
   "attachments": {},
   "cell_type": "markdown",
   "metadata": {},
   "source": [
    "Número de parámetros"
   ]
  },
  {
   "cell_type": "code",
   "execution_count": 15,
   "metadata": {},
   "outputs": [
    {
     "data": {
      "text/plain": [
       "param\n",
       "lambda_local          855\n",
       "lambda_visita         855\n",
       "pred_lambda_local     855\n",
       "pred_lambda_visita    855\n",
       "sims_local            855\n",
       "sims_visita           855\n",
       "logver_local          855\n",
       "logver_visita         855\n",
       "base_ataque           206\n",
       "base_defensa          206\n",
       "ataque                206\n",
       "defensa               206\n",
       "lp__                    1\n",
       "boost_local             1\n",
       "Name: count, dtype: int64"
      ]
     },
     "execution_count": 15,
     "metadata": {},
     "output_type": "execute_result"
    }
   ],
   "source": [
    "summary_vis_ = (\n",
    "    summary_\n",
    "    .reset_index(names='param')\n",
    "    .assign(\n",
    "        # prob = np.apply_along_axis(\n",
    "        #     func1d=prob\n",
    "        #     ,axis=0\n",
    "        #     ,arr=chains_)\n",
    "        param_id = lambda df_: df_.param.str.partition('[')[2].str[:-1]\n",
    "        ,param = lambda df_: df_.param.str.partition('[')[0]\n",
    "    )\n",
    ")\n",
    "\n",
    "summary_vis_.param.value_counts()"
   ]
  },
  {
   "cell_type": "code",
   "execution_count": 16,
   "metadata": {},
   "outputs": [
    {
     "data": {
      "text/html": [
       "<div>\n",
       "<style scoped>\n",
       "    .dataframe tbody tr th:only-of-type {\n",
       "        vertical-align: middle;\n",
       "    }\n",
       "\n",
       "    .dataframe tbody tr th {\n",
       "        vertical-align: top;\n",
       "    }\n",
       "\n",
       "    .dataframe thead th {\n",
       "        text-align: right;\n",
       "    }\n",
       "</style>\n",
       "<table border=\"1\" class=\"dataframe\">\n",
       "  <thead>\n",
       "    <tr style=\"text-align: right;\">\n",
       "      <th></th>\n",
       "      <th>param</th>\n",
       "      <th>Mean</th>\n",
       "      <th>MCSE</th>\n",
       "      <th>StdDev</th>\n",
       "      <th>5%</th>\n",
       "      <th>50%</th>\n",
       "      <th>95%</th>\n",
       "      <th>N_Eff</th>\n",
       "      <th>N_Eff/s</th>\n",
       "      <th>R_hat</th>\n",
       "      <th>param_id</th>\n",
       "    </tr>\n",
       "  </thead>\n",
       "  <tbody>\n",
       "    <tr>\n",
       "      <th>0</th>\n",
       "      <td>lp__</td>\n",
       "      <td>-1.787080e+03</td>\n",
       "      <td>1.275300e-01</td>\n",
       "      <td>14.396500</td>\n",
       "      <td>-1811.390000</td>\n",
       "      <td>-1.786820e+03</td>\n",
       "      <td>-1763.930000</td>\n",
       "      <td>12743.500</td>\n",
       "      <td>59.24860</td>\n",
       "      <td>1.000390</td>\n",
       "      <td></td>\n",
       "    </tr>\n",
       "    <tr>\n",
       "      <th>1</th>\n",
       "      <td>boost_local</td>\n",
       "      <td>4.697800e-01</td>\n",
       "      <td>8.575590e-04</td>\n",
       "      <td>0.027034</td>\n",
       "      <td>0.425063</td>\n",
       "      <td>4.698030e-01</td>\n",
       "      <td>0.514286</td>\n",
       "      <td>993.773</td>\n",
       "      <td>4.62037</td>\n",
       "      <td>1.009100</td>\n",
       "      <td></td>\n",
       "    </tr>\n",
       "    <tr>\n",
       "      <th>2</th>\n",
       "      <td>base_ataque</td>\n",
       "      <td>2.664270e-07</td>\n",
       "      <td>3.054320e-07</td>\n",
       "      <td>0.000101</td>\n",
       "      <td>-0.000165</td>\n",
       "      <td>7.093800e-07</td>\n",
       "      <td>0.000166</td>\n",
       "      <td>108678.000</td>\n",
       "      <td>505.27800</td>\n",
       "      <td>0.999887</td>\n",
       "      <td>1</td>\n",
       "    </tr>\n",
       "    <tr>\n",
       "      <th>3</th>\n",
       "      <td>base_ataque</td>\n",
       "      <td>9.305680e-08</td>\n",
       "      <td>3.034860e-07</td>\n",
       "      <td>0.000100</td>\n",
       "      <td>-0.000164</td>\n",
       "      <td>5.873110e-08</td>\n",
       "      <td>0.000164</td>\n",
       "      <td>107764.000</td>\n",
       "      <td>501.03200</td>\n",
       "      <td>0.999900</td>\n",
       "      <td>2</td>\n",
       "    </tr>\n",
       "    <tr>\n",
       "      <th>4</th>\n",
       "      <td>base_ataque</td>\n",
       "      <td>-1.430470e-07</td>\n",
       "      <td>3.154600e-07</td>\n",
       "      <td>0.000100</td>\n",
       "      <td>-0.000166</td>\n",
       "      <td>5.475370e-07</td>\n",
       "      <td>0.000165</td>\n",
       "      <td>101483.000</td>\n",
       "      <td>471.82700</td>\n",
       "      <td>0.999903</td>\n",
       "      <td>3</td>\n",
       "    </tr>\n",
       "    <tr>\n",
       "      <th>...</th>\n",
       "      <td>...</td>\n",
       "      <td>...</td>\n",
       "      <td>...</td>\n",
       "      <td>...</td>\n",
       "      <td>...</td>\n",
       "      <td>...</td>\n",
       "      <td>...</td>\n",
       "      <td>...</td>\n",
       "      <td>...</td>\n",
       "      <td>...</td>\n",
       "      <td>...</td>\n",
       "    </tr>\n",
       "    <tr>\n",
       "      <th>7661</th>\n",
       "      <td>logver_visita</td>\n",
       "      <td>-5.787490e+00</td>\n",
       "      <td>1.725370e-06</td>\n",
       "      <td>0.000567</td>\n",
       "      <td>-5.788430</td>\n",
       "      <td>-5.787490e+00</td>\n",
       "      <td>-5.786560</td>\n",
       "      <td>108034.000</td>\n",
       "      <td>502.28400</td>\n",
       "      <td>0.999877</td>\n",
       "      <td>851</td>\n",
       "    </tr>\n",
       "    <tr>\n",
       "      <th>7662</th>\n",
       "      <td>logver_visita</td>\n",
       "      <td>-2.791760e+00</td>\n",
       "      <td>8.512470e-07</td>\n",
       "      <td>0.000285</td>\n",
       "      <td>-2.792230</td>\n",
       "      <td>-2.791760e+00</td>\n",
       "      <td>-2.791290</td>\n",
       "      <td>112118.000</td>\n",
       "      <td>521.27500</td>\n",
       "      <td>0.999869</td>\n",
       "      <td>852</td>\n",
       "    </tr>\n",
       "    <tr>\n",
       "      <th>7663</th>\n",
       "      <td>logver_visita</td>\n",
       "      <td>-1.000000e+00</td>\n",
       "      <td>4.254090e-07</td>\n",
       "      <td>0.000141</td>\n",
       "      <td>-1.000230</td>\n",
       "      <td>-1.000000e+00</td>\n",
       "      <td>-0.999768</td>\n",
       "      <td>110557.000</td>\n",
       "      <td>514.01400</td>\n",
       "      <td>0.999897</td>\n",
       "      <td>853</td>\n",
       "    </tr>\n",
       "    <tr>\n",
       "      <th>7664</th>\n",
       "      <td>logver_visita</td>\n",
       "      <td>-1.000000e+00</td>\n",
       "      <td>4.312900e-07</td>\n",
       "      <td>0.000141</td>\n",
       "      <td>-1.000230</td>\n",
       "      <td>-1.000000e+00</td>\n",
       "      <td>-0.999770</td>\n",
       "      <td>106883.000</td>\n",
       "      <td>496.93400</td>\n",
       "      <td>0.999832</td>\n",
       "      <td>854</td>\n",
       "    </tr>\n",
       "    <tr>\n",
       "      <th>7665</th>\n",
       "      <td>logver_visita</td>\n",
       "      <td>-1.000000e+00</td>\n",
       "      <td>4.400760e-07</td>\n",
       "      <td>0.000141</td>\n",
       "      <td>-1.000230</td>\n",
       "      <td>-9.999990e-01</td>\n",
       "      <td>-0.999769</td>\n",
       "      <td>102675.000</td>\n",
       "      <td>477.36800</td>\n",
       "      <td>0.999882</td>\n",
       "      <td>855</td>\n",
       "    </tr>\n",
       "  </tbody>\n",
       "</table>\n",
       "<p>7666 rows × 11 columns</p>\n",
       "</div>"
      ],
      "text/plain": [
       "              param          Mean          MCSE     StdDev           5%   \n",
       "0              lp__ -1.787080e+03  1.275300e-01  14.396500 -1811.390000  \\\n",
       "1       boost_local  4.697800e-01  8.575590e-04   0.027034     0.425063   \n",
       "2       base_ataque  2.664270e-07  3.054320e-07   0.000101    -0.000165   \n",
       "3       base_ataque  9.305680e-08  3.034860e-07   0.000100    -0.000164   \n",
       "4       base_ataque -1.430470e-07  3.154600e-07   0.000100    -0.000166   \n",
       "...             ...           ...           ...        ...          ...   \n",
       "7661  logver_visita -5.787490e+00  1.725370e-06   0.000567    -5.788430   \n",
       "7662  logver_visita -2.791760e+00  8.512470e-07   0.000285    -2.792230   \n",
       "7663  logver_visita -1.000000e+00  4.254090e-07   0.000141    -1.000230   \n",
       "7664  logver_visita -1.000000e+00  4.312900e-07   0.000141    -1.000230   \n",
       "7665  logver_visita -1.000000e+00  4.400760e-07   0.000141    -1.000230   \n",
       "\n",
       "               50%          95%       N_Eff    N_Eff/s     R_hat param_id  \n",
       "0    -1.786820e+03 -1763.930000   12743.500   59.24860  1.000390           \n",
       "1     4.698030e-01     0.514286     993.773    4.62037  1.009100           \n",
       "2     7.093800e-07     0.000166  108678.000  505.27800  0.999887        1  \n",
       "3     5.873110e-08     0.000164  107764.000  501.03200  0.999900        2  \n",
       "4     5.475370e-07     0.000165  101483.000  471.82700  0.999903        3  \n",
       "...            ...          ...         ...        ...       ...      ...  \n",
       "7661 -5.787490e+00    -5.786560  108034.000  502.28400  0.999877      851  \n",
       "7662 -2.791760e+00    -2.791290  112118.000  521.27500  0.999869      852  \n",
       "7663 -1.000000e+00    -0.999768  110557.000  514.01400  0.999897      853  \n",
       "7664 -1.000000e+00    -0.999770  106883.000  496.93400  0.999832      854  \n",
       "7665 -9.999990e-01    -0.999769  102675.000  477.36800  0.999882      855  \n",
       "\n",
       "[7666 rows x 11 columns]"
      ]
     },
     "execution_count": 16,
     "metadata": {},
     "output_type": "execute_result"
    }
   ],
   "source": [
    "summary_vis_"
   ]
  },
  {
   "attachments": {},
   "cell_type": "markdown",
   "metadata": {},
   "source": [
    "### 2.2.1 Resumen de estimadores únicos"
   ]
  },
  {
   "cell_type": "code",
   "execution_count": 17,
   "metadata": {},
   "outputs": [
    {
     "data": {
      "text/html": [
       "<div>\n",
       "<style scoped>\n",
       "    .dataframe tbody tr th:only-of-type {\n",
       "        vertical-align: middle;\n",
       "    }\n",
       "\n",
       "    .dataframe tbody tr th {\n",
       "        vertical-align: top;\n",
       "    }\n",
       "\n",
       "    .dataframe thead th {\n",
       "        text-align: right;\n",
       "    }\n",
       "</style>\n",
       "<table border=\"1\" class=\"dataframe\">\n",
       "  <thead>\n",
       "    <tr style=\"text-align: right;\">\n",
       "      <th></th>\n",
       "      <th>param</th>\n",
       "      <th>Mean</th>\n",
       "      <th>MCSE</th>\n",
       "      <th>StdDev</th>\n",
       "      <th>5%</th>\n",
       "      <th>50%</th>\n",
       "      <th>95%</th>\n",
       "      <th>N_Eff</th>\n",
       "      <th>N_Eff/s</th>\n",
       "      <th>R_hat</th>\n",
       "    </tr>\n",
       "  </thead>\n",
       "  <tbody>\n",
       "    <tr>\n",
       "      <th>0</th>\n",
       "      <td>lp__</td>\n",
       "      <td>-1787.08000</td>\n",
       "      <td>0.127530</td>\n",
       "      <td>14.396500</td>\n",
       "      <td>-1811.390000</td>\n",
       "      <td>-1786.820000</td>\n",
       "      <td>-1763.930000</td>\n",
       "      <td>12743.500</td>\n",
       "      <td>59.24860</td>\n",
       "      <td>1.00039</td>\n",
       "    </tr>\n",
       "    <tr>\n",
       "      <th>1</th>\n",
       "      <td>boost_local</td>\n",
       "      <td>0.46978</td>\n",
       "      <td>0.000858</td>\n",
       "      <td>0.027034</td>\n",
       "      <td>0.425063</td>\n",
       "      <td>0.469803</td>\n",
       "      <td>0.514286</td>\n",
       "      <td>993.773</td>\n",
       "      <td>4.62037</td>\n",
       "      <td>1.00910</td>\n",
       "    </tr>\n",
       "  </tbody>\n",
       "</table>\n",
       "</div>"
      ],
      "text/plain": [
       "         param        Mean      MCSE     StdDev           5%          50%   \n",
       "0         lp__ -1787.08000  0.127530  14.396500 -1811.390000 -1786.820000  \\\n",
       "1  boost_local     0.46978  0.000858   0.027034     0.425063     0.469803   \n",
       "\n",
       "           95%      N_Eff   N_Eff/s    R_hat  \n",
       "0 -1763.930000  12743.500  59.24860  1.00039  \n",
       "1     0.514286    993.773   4.62037  1.00910  "
      ]
     },
     "execution_count": 17,
     "metadata": {},
     "output_type": "execute_result"
    }
   ],
   "source": [
    "mask_ = summary_vis_.param.value_counts()[summary_vis_.param.value_counts() == 1].keys()\n",
    "\n",
    "single_params = (\n",
    "    summary_vis_\n",
    "    .loc[summary_vis_.param.isin(mask_)]\n",
    "    .assign(\n",
    "        param = lambda df_: pd.Categorical(df_.param)\n",
    "    )\n",
    ")\n",
    "\n",
    "single_params = single_params[single_params.columns.to_list()[:-1]]\n",
    "single_params"
   ]
  },
  {
   "attachments": {},
   "cell_type": "markdown",
   "metadata": {},
   "source": [
    "### 2.2.2 Resumen de estimadores múltiples"
   ]
  },
  {
   "cell_type": "code",
   "execution_count": 18,
   "metadata": {},
   "outputs": [],
   "source": [
    "def resumen_estimadores(diagnostico):\n",
    "    # Datos de visualización\n",
    "    mask_ = summary_vis_.param.value_counts()[summary_vis_.param.value_counts() > 1].keys()\n",
    "    vis_ = (\n",
    "        summary_vis_\n",
    "        .loc[summary_vis_.param.isin(mask_)]\n",
    "        .filter(items=['param', diagnostico])\n",
    "        .assign(\n",
    "            param = lambda df_: pd.Categorical(df_.param)\n",
    "        )\n",
    "    )\n",
    "\n",
    "    # Especificaciones de figuras\n",
    "    fig, ax = plt.subplots()\n",
    "\n",
    "    # Visualizaciones\n",
    "    ax.scatter(\n",
    "        x=vis_[diagnostico]\n",
    "        ,y=vis_.param.cat.codes + np.random.uniform(low=-0.2, high=0.2, size=vis_.shape[0])\n",
    "        ,color=config['visuals']['colors']['verde']\n",
    "        ,alpha=0.8)\n",
    "    \n",
    "    if diagnostico == 'R_hat':\n",
    "        ax.axvline(\n",
    "            x=1.05\n",
    "            ,color=config['visuals']['colors']['rojo']\n",
    "            ,linestyle='--')\n",
    "        \n",
    "    elif diagnostico == 'prob':\n",
    "        ax.axvline(\n",
    "            x=0.1\n",
    "            ,color=config['visuals']['colors']['rojo']\n",
    "            ,linestyle='--')\n",
    "\n",
    "    # Anotaciones y estilo\n",
    "    ax.set_title(f'{diagnostico} de los parámetros múltiples', loc='left')\n",
    "    ax.set_xlabel(diagnostico)\n",
    "    ax.set_yticks(\n",
    "        ticks=vis_.param.cat.codes.unique()\n",
    "        ,labels=vis_.param.cat.categories)\n",
    "\n",
    "    plt.show()"
   ]
  },
  {
   "cell_type": "code",
   "execution_count": 19,
   "metadata": {},
   "outputs": [
    {
     "data": {
      "application/vnd.jupyter.widget-view+json": {
       "model_id": "6325bc8500b44a07a016a316d4e90e18",
       "version_major": 2,
       "version_minor": 0
      },
      "text/plain": [
       "interactive(children=(Dropdown(description='Resumen', options=('Mean', 'MCSE', 'StdDev', '5%', '50%', '95%', '…"
      ]
     },
     "metadata": {},
     "output_type": "display_data"
    },
    {
     "data": {
      "text/plain": [
       "<function __main__.resumen_estimadores(diagnostico)>"
      ]
     },
     "execution_count": 19,
     "metadata": {},
     "output_type": "execute_result"
    }
   ],
   "source": [
    "widgets.interact(\n",
    "    resumen_estimadores\n",
    "    ,diagnostico=widgets.Dropdown(\n",
    "        options=list(summary_vis_.columns)[1:-1]\n",
    "        ,description='Resumen'\n",
    "        ,disabled=False)    \n",
    ")"
   ]
  },
  {
   "attachments": {},
   "cell_type": "markdown",
   "metadata": {},
   "source": [
    "## 2.3 Traza de las cadenas\n",
    "\n",
    "### 2.3.1 Parámetros simples"
   ]
  },
  {
   "cell_type": "code",
   "execution_count": 20,
   "metadata": {},
   "outputs": [
    {
     "data": {
      "text/plain": [
       "(5000, 8, 7672)"
      ]
     },
     "execution_count": 20,
     "metadata": {},
     "output_type": "execute_result"
    }
   ],
   "source": [
    "chains_ = fit_.draws(inc_warmup=False, concat_chains=False)\n",
    "chains_.shape"
   ]
  },
  {
   "cell_type": "code",
   "execution_count": 21,
   "metadata": {},
   "outputs": [],
   "source": [
    "def traceplot_single_param(param, type):\n",
    "    # Datos de visualización\n",
    "    idp_ = fit_.column_names.index(param)\n",
    "    arr_ = chains_[:, :, idp_]\n",
    "\n",
    "    # Especificaciones de figura\n",
    "    plt.figure(figsize=(10,5))\n",
    "\n",
    "    if type == 'traceplot':\n",
    "        # Visualizaciones\n",
    "        for chain in range(arr_.shape[1]):\n",
    "            plt.plot(\n",
    "                arr_[:, chain]\n",
    "                ,color=list(config['visuals']['colors'].values())[chain]\n",
    "                ,label=f'Chain: {chain}')\n",
    "\n",
    "        # Anotaciones y estilo\n",
    "        plt.title(f'Traza de las cadenas, {param}', loc='left')\n",
    "        plt.xlabel('Iteraciones')\n",
    "        plt.ylabel('Espacio parametral')\n",
    "        plt.legend()\n",
    "\n",
    "    if type == 'convergence':\n",
    "        ergo_ = np.apply_along_axis(func1d=lambda x: x.cumsum(), axis=0, arr=arr_)\n",
    "        ergo_ = ergo_ / np.arange(1, ergo_.shape[0]+1, 1).reshape((-1,1))\n",
    "\n",
    "        # Visualizaciones\n",
    "        for chain in range(ergo_.shape[1]):\n",
    "            plt.plot(\n",
    "                ergo_[:, chain]\n",
    "                ,color=list(config['visuals']['colors'].values())[chain]\n",
    "                ,label=f'Chain: {chain}')\n",
    "\n",
    "        # Anotaciones y estilo\n",
    "        plt.title(f'Promedios ergódicos, {param}', loc='left')\n",
    "        plt.xlabel('Iteraciones')\n",
    "        plt.ylabel('Espacio parametral')\n",
    "        plt.legend()\n",
    "\n",
    "    plt.show()"
   ]
  },
  {
   "cell_type": "code",
   "execution_count": 22,
   "metadata": {},
   "outputs": [
    {
     "data": {
      "application/vnd.jupyter.widget-view+json": {
       "model_id": "d029d324ae7a493ba8b7226ce9013e6d",
       "version_major": 2,
       "version_minor": 0
      },
      "text/plain": [
       "interactive(children=(Dropdown(description='Param', options=('lp__', 'boost_local'), value='lp__'), Dropdown(d…"
      ]
     },
     "metadata": {},
     "output_type": "display_data"
    },
    {
     "data": {
      "text/plain": [
       "<function __main__.traceplot_single_param(param, type)>"
      ]
     },
     "execution_count": 22,
     "metadata": {},
     "output_type": "execute_result"
    }
   ],
   "source": [
    "widgets.interact(\n",
    "    traceplot_single_param\n",
    "    ,param=widgets.Dropdown(\n",
    "        options=single_params.param\n",
    "        ,description='Param'\n",
    "        ,disabled=False)\n",
    "    ,type=widgets.Dropdown(\n",
    "        options=['convergence','traceplot']\n",
    "        ,description='Type'\n",
    "        ,disabled=False)       \n",
    ")"
   ]
  },
  {
   "attachments": {},
   "cell_type": "markdown",
   "metadata": {},
   "source": [
    "### 2.3.2 Parámetros múltiples"
   ]
  },
  {
   "cell_type": "code",
   "execution_count": 23,
   "metadata": {},
   "outputs": [],
   "source": [
    "def traceplot_multi_param(chain, param, type):\n",
    "    # Extraer índices de parámetros en cadena\n",
    "    ids_ = (\n",
    "        summary_vis_\n",
    "        .loc[summary_vis_['param'] == param]\n",
    "        .index\n",
    "        .to_numpy())\n",
    "\n",
    "    # Filtrar cadenas con índices\n",
    "    arr_ = chains_[:,chain-1, ids_]\n",
    "\n",
    "    # Calcular promedios ergódicos\n",
    "    ergo_ = np.apply_along_axis(func1d=lambda x: x.cumsum(), axis=0, arr=arr_)\n",
    "    ergo_ = ergo_ / np.arange(1, ergo_.shape[0]+1, 1).reshape((-1,1))\n",
    "\n",
    "    # Especificaciones de figura\n",
    "    plt.figure(figsize=(10,5))\n",
    "    \n",
    "    # Condición de tipo de visulazación\n",
    "    if type == 'traceplot': plt.plot(arr_, alpha=0.5)\n",
    "    else: plt.plot(ergo_, alpha=0.5)\n",
    "\n",
    "    plt.title(\n",
    "        f'''Visualización {type.upper()} del parámetro {param}, cadena: {chain}'''\n",
    "        ,loc='left')\n",
    "\n",
    "    plt.show()"
   ]
  },
  {
   "cell_type": "code",
   "execution_count": 24,
   "metadata": {},
   "outputs": [
    {
     "data": {
      "application/vnd.jupyter.widget-view+json": {
       "model_id": "3314421cfd45443f85851bf6cb872730",
       "version_major": 2,
       "version_minor": 0
      },
      "text/plain": [
       "interactive(children=(IntSlider(value=1, description='chain', max=8, min=1), Dropdown(description='Param', opt…"
      ]
     },
     "metadata": {},
     "output_type": "display_data"
    },
    {
     "data": {
      "text/plain": [
       "<function __main__.traceplot_multi_param(chain, param, type)>"
      ]
     },
     "execution_count": 24,
     "metadata": {},
     "output_type": "execute_result"
    }
   ],
   "source": [
    "mask_ = summary_vis_.param.value_counts()[summary_vis_.param.value_counts() > 1].keys()\n",
    "\n",
    "widgets.interact(\n",
    "    traceplot_multi_param\n",
    "    ,param=widgets.Dropdown(\n",
    "        options=mask_\n",
    "        ,description='Param'\n",
    "        ,disabled=False)\n",
    "    ,chain=widgets.IntSlider(\n",
    "        min=1\n",
    "        ,max=chains_.shape[1]\n",
    "        ,step=1\n",
    "    )\n",
    "    ,type=widgets.Dropdown(\n",
    "        options=['convergence','traceplot']\n",
    "        ,description='Type'\n",
    "        ,disabled=False)       \n",
    ")"
   ]
  },
  {
   "attachments": {},
   "cell_type": "markdown",
   "metadata": {},
   "source": [
    "## 2.4 Métricas de desempeño\n",
    "\n",
    "### 2.4.1 WAIC en escala devianza"
   ]
  },
  {
   "cell_type": "code",
   "execution_count": 25,
   "metadata": {},
   "outputs": [],
   "source": [
    "# Se convierte la salida de cmdstanmodel a objeto de ArViz\n",
    "inference_data = az.from_cmdstanpy(\n",
    "    posterior=fit_,\n",
    "    log_likelihood=['logver_local','logver_visita'])\n",
    "\n",
    "# WAIC de equipo local en escala devianza\n",
    "waic_local = az.waic(\n",
    "    data=inference_data\n",
    "    ,var_name='logver_local'\n",
    "    ,scale='deviance')\n",
    "\n",
    "# WAIC de equipo visitantes en escala devianza\n",
    "waic_visita = az.waic(\n",
    "    data=inference_data\n",
    "    ,var_name='logver_visita'\n",
    "    ,scale='deviance')"
   ]
  },
  {
   "cell_type": "code",
   "execution_count": 26,
   "metadata": {},
   "outputs": [
    {
     "data": {
      "text/plain": [
       "Computed from 40000 posterior samples and 855 observations log-likelihood matrix.\n",
       "\n",
       "              Estimate       SE\n",
       "deviance_waic  3043.24    67.14\n",
       "p_waic            1.72        -"
      ]
     },
     "execution_count": 26,
     "metadata": {},
     "output_type": "execute_result"
    }
   ],
   "source": [
    "waic_local"
   ]
  },
  {
   "cell_type": "code",
   "execution_count": 27,
   "metadata": {},
   "outputs": [
    {
     "data": {
      "text/plain": [
       "Computed from 40000 posterior samples and 855 observations log-likelihood matrix.\n",
       "\n",
       "              Estimate       SE\n",
       "deviance_waic  2566.38    74.34\n",
       "p_waic            0.00        -"
      ]
     },
     "execution_count": 27,
     "metadata": {},
     "output_type": "execute_result"
    }
   ],
   "source": [
    "waic_visita"
   ]
  },
  {
   "attachments": {},
   "cell_type": "markdown",
   "metadata": {},
   "source": [
    "### 2.4.2 Comparación de modelos\n",
    "\n",
    "Las métricas de desempeño de todos los modelos se almacenaron manualmente en un archivo externo llamado `deviance_waic.csv`. Utilizando dicho archiv, se puede hacer la siguiente visualización para comparar los modelos:"
   ]
  },
  {
   "cell_type": "code",
   "execution_count": 34,
   "metadata": {},
   "outputs": [
    {
     "data": {
      "text/html": [
       "<div>\n",
       "<style scoped>\n",
       "    .dataframe tbody tr th:only-of-type {\n",
       "        vertical-align: middle;\n",
       "    }\n",
       "\n",
       "    .dataframe tbody tr th {\n",
       "        vertical-align: top;\n",
       "    }\n",
       "\n",
       "    .dataframe thead th {\n",
       "        text-align: right;\n",
       "    }\n",
       "</style>\n",
       "<table border=\"1\" class=\"dataframe\">\n",
       "  <thead>\n",
       "    <tr style=\"text-align: right;\">\n",
       "      <th></th>\n",
       "      <th>model</th>\n",
       "      <th>team_type</th>\n",
       "      <th>deviance_waic</th>\n",
       "      <th>se</th>\n",
       "      <th>p_r2</th>\n",
       "    </tr>\n",
       "  </thead>\n",
       "  <tbody>\n",
       "    <tr>\n",
       "      <th>0</th>\n",
       "      <td>constantes</td>\n",
       "      <td>local</td>\n",
       "      <td>3043.21</td>\n",
       "      <td>67.14</td>\n",
       "      <td>NaN</td>\n",
       "    </tr>\n",
       "    <tr>\n",
       "      <th>1</th>\n",
       "      <td>constantes</td>\n",
       "      <td>visita</td>\n",
       "      <td>2566.38</td>\n",
       "      <td>74.34</td>\n",
       "      <td>NaN</td>\n",
       "    </tr>\n",
       "    <tr>\n",
       "      <th>2</th>\n",
       "      <td>independientes</td>\n",
       "      <td>local</td>\n",
       "      <td>2600.40</td>\n",
       "      <td>46.76</td>\n",
       "      <td>NaN</td>\n",
       "    </tr>\n",
       "    <tr>\n",
       "      <th>3</th>\n",
       "      <td>independientes</td>\n",
       "      <td>visita</td>\n",
       "      <td>2258.58</td>\n",
       "      <td>40.99</td>\n",
       "      <td>NaN</td>\n",
       "    </tr>\n",
       "    <tr>\n",
       "      <th>4</th>\n",
       "      <td>jerarquico</td>\n",
       "      <td>local</td>\n",
       "      <td>2602.52</td>\n",
       "      <td>44.39</td>\n",
       "      <td>NaN</td>\n",
       "    </tr>\n",
       "    <tr>\n",
       "      <th>5</th>\n",
       "      <td>jerarquico</td>\n",
       "      <td>visita</td>\n",
       "      <td>2200.48</td>\n",
       "      <td>40.89</td>\n",
       "      <td>NaN</td>\n",
       "    </tr>\n",
       "    <tr>\n",
       "      <th>6</th>\n",
       "      <td>multinivel</td>\n",
       "      <td>local</td>\n",
       "      <td>2602.91</td>\n",
       "      <td>44.37</td>\n",
       "      <td>NaN</td>\n",
       "    </tr>\n",
       "    <tr>\n",
       "      <th>7</th>\n",
       "      <td>multinivel</td>\n",
       "      <td>visita</td>\n",
       "      <td>2200.54</td>\n",
       "      <td>40.81</td>\n",
       "      <td>NaN</td>\n",
       "    </tr>\n",
       "  </tbody>\n",
       "</table>\n",
       "</div>"
      ],
      "text/plain": [
       "            model team_type  deviance_waic     se  p_r2\n",
       "0      constantes     local        3043.21  67.14   NaN\n",
       "1      constantes    visita        2566.38  74.34   NaN\n",
       "2  independientes     local        2600.40  46.76   NaN\n",
       "3  independientes    visita        2258.58  40.99   NaN\n",
       "4      jerarquico     local        2602.52  44.39   NaN\n",
       "5      jerarquico    visita        2200.48  40.89   NaN\n",
       "6      multinivel     local        2602.91  44.37   NaN\n",
       "7      multinivel    visita        2200.54  40.81   NaN"
      ]
     },
     "execution_count": 34,
     "metadata": {},
     "output_type": "execute_result"
    }
   ],
   "source": [
    "waic_df = (\n",
    "    pd.read_csv(\n",
    "        os.path.join(ROOT, config['datos']['waic']))\n",
    "    .assign(\n",
    "        model = lambda df_: pd.Categorical(df_.model)\n",
    "        ,team_type = lambda df_: pd.Categorical(df_.team_type)\n",
    "    )\n",
    ")\n",
    "waic_df"
   ]
  },
  {
   "cell_type": "code",
   "execution_count": 74,
   "metadata": {},
   "outputs": [
    {
     "data": {
      "image/png": "[encoded data removed]",
      "text/plain": [
       "<Figure size 1000x500 with 2 Axes>"
      ]
     },
     "metadata": {},
     "output_type": "display_data"
    }
   ],
   "source": [
    "# Especificaciones de figura\n",
    "fig = plt.figure(figsize=(10,5))\n",
    "gs = plt.GridSpec(nrows=1, ncols=2, figure=fig, hspace=0.2)\n",
    "\n",
    "ax1 = fig.add_subplot(gs[0])\n",
    "tipo = 'local'\n",
    "for modelo in waic_df.model.cat.categories:\n",
    "    vis_ = (\n",
    "        waic_df\n",
    "        .query(f\"model=='{modelo}'\")\n",
    "        .query(f\"team_type=='{tipo}'\"))\n",
    "\n",
    "    # Visualizaciones\n",
    "    ax1.scatter(\n",
    "        x=vis_.deviance_waic\n",
    "        ,y=vis_.model.cat.codes\n",
    "        ,color='black')\n",
    "    ax1.hlines(\n",
    "        y=vis_.model.cat.codes\n",
    "        ,xmin=[vis_.deviance_waic - 2*vis_.se]\n",
    "        ,xmax=[vis_.deviance_waic + 2*vis_.se]\n",
    "        ,color='black')\n",
    "    \n",
    "ax1.set_title(tipo.title())\n",
    "ax1.set_yticks(ticks=waic_df.model.cat.codes.unique(), labels=waic_df.model.cat.categories)\n",
    "ax1.grid(alpha=0.25, axis='x')\n",
    "\n",
    "ax2 = fig.add_subplot(gs[1])\n",
    "tipo = 'visita'\n",
    "for modelo in waic_df.model.cat.categories:\n",
    "    vis_ = (\n",
    "        waic_df\n",
    "        .query(f\"model=='{modelo}'\")\n",
    "        .query(f\"team_type=='{tipo}'\"))\n",
    "\n",
    "    # Visualizaciones\n",
    "    ax2.scatter(\n",
    "        x=vis_.deviance_waic\n",
    "        ,y=vis_.model.cat.codes\n",
    "        ,color='black')\n",
    "    ax2.hlines(\n",
    "        y=vis_.model.cat.codes\n",
    "        ,xmin=[vis_.deviance_waic - 2*vis_.se]\n",
    "        ,xmax=[vis_.deviance_waic + 2*vis_.se]\n",
    "        ,color='black')\n",
    "    \n",
    "ax2.set_title(tipo.title())\n",
    "ax2.set_yticks(ticks=waic_df.model.cat.codes.unique(), labels='')\n",
    "ax2.grid(alpha=0.25, axis='x')\n",
    "\n",
    "fig.suptitle('Intervalos de WAIC en escala DEVIANZA')\n",
    "fig.supxlabel('WAIC')\n",
    "\n",
    "plt.show()"
   ]
  },
  {
   "attachments": {},
   "cell_type": "markdown",
   "metadata": {},
   "source": [
    "# 3. Inferencia\n",
    "\n",
    "## 3.1 Habilidades por equipo"
   ]
  },
  {
   "cell_type": "code",
   "execution_count": 32,
   "metadata": {},
   "outputs": [
    {
     "data": {
      "image/png": "[encoded data removed]",
      "text/plain": [
       "<Figure size 1000x500 with 1 Axes>"
      ]
     },
     "metadata": {},
     "output_type": "display_data"
    }
   ],
   "source": [
    "# Datos de visualización\n",
    "ataque_param = 'base_ataque'\n",
    "defensa_param = 'base_defensa'\n",
    "\n",
    "vis_ = (\n",
    "    summary_vis_\n",
    "    .loc[summary_vis_['param'].isin([ataque_param, defensa_param]) ]\n",
    "    .reset_index(drop=True)\n",
    ")\n",
    "\n",
    "# Especificaciones de figura\n",
    "plt.figure(figsize=(10,5))\n",
    "\n",
    "# Visualizaciones\n",
    "plt.scatter(\n",
    "    x=vis_.query(f\"param=='{ataque_param}'\").Mean\n",
    "    ,y=vis_.query(f\"param=='{defensa_param}'\").Mean\n",
    "    ,color='black'\n",
    "    ,alpha=0.5)\n",
    "plt.axvline(x=0, color='black', alpha=0.25, linestyle='--')\n",
    "plt.axhline(y=0, color='black', alpha=0.25, linestyle='--')\n",
    "\n",
    "# Anotaciones y estilo\n",
    "plt.title('Habilidad de los equipos', loc='left')\n",
    "plt.xlabel(ataque_param)\n",
    "plt.ylabel(defensa_param)\n",
    "\n",
    "plt.show()"
   ]
  },
  {
   "attachments": {},
   "cell_type": "markdown",
   "metadata": {},
   "source": [
    "Verificar restricción de suma cero"
   ]
  },
  {
   "cell_type": "code",
   "execution_count": 33,
   "metadata": {},
   "outputs": [
    {
     "data": {
      "text/plain": [
       "1.0749999999060122e-05"
      ]
     },
     "execution_count": 33,
     "metadata": {},
     "output_type": "execute_result"
    }
   ],
   "source": [
    "(\n",
    "    summary_vis_\n",
    "    .loc[summary_vis_['param'] == 'defensa']\n",
    "    .reset_index(drop=True)\n",
    "    .Mean\n",
    "    .sum()\n",
    ")"
   ]
  },
  {
   "attachments": {},
   "cell_type": "markdown",
   "metadata": {},
   "source": [
    "# 4. Predicciones\n",
    "\n",
    "## 4.1 Intervalos de predicción"
   ]
  },
  {
   "cell_type": "code",
   "execution_count": 38,
   "metadata": {},
   "outputs": [
    {
     "data": {
      "image/png": "[encoded data removed]",
      "text/plain": [
       "<Figure size 1000x500 with 2 Axes>"
      ]
     },
     "metadata": {},
     "output_type": "display_data"
    }
   ],
   "source": [
    "# Especificaciones de figura\n",
    "fig = plt.figure(figsize=(10,5))\n",
    "gs = plt.GridSpec(nrows=1, ncols=2, figure=fig, wspace=0.2, hspace=0.2)\n",
    "\n",
    "facet_dict = {\n",
    "    'params': ['sims_local', 'sims_visita']\n",
    "    ,'title': ['Equipo local', 'Equipo visitante']\n",
    "}\n",
    "\n",
    "# Factor de ruido\n",
    "k = 0.2\n",
    "\n",
    "for idx_ in range(len(facet_dict)):\n",
    "    # Datos de visualización\n",
    "    vis_ = (\n",
    "        summary_vis_\n",
    "        .loc[summary_vis_['param'] == facet_dict['params'][idx_]][['5%','50%','95%']]\n",
    "        .reset_index(drop=True)\n",
    "        .join(df_.home_team_score)\n",
    "        .rename(columns={\n",
    "            '5%': 'p_05'\n",
    "            ,'50%': 'p_50'\n",
    "            ,'95%': 'p_95'}))\n",
    "\n",
    "    # Visualizaciones\n",
    "    ax = fig.add_subplot(gs[idx_])\n",
    "    ax.scatter(\n",
    "        x=vis_.home_team_score + np.random.uniform(low=-k, high=k, size=vis_.shape[0])\n",
    "        ,y=vis_.p_05 + np.random.uniform(low=-k, high=k, size=vis_.shape[0])\n",
    "        ,color=config['visuals']['colors']['amarillo']\n",
    "        ,alpha=0.05\n",
    "        ,label='Percentil 5')\n",
    "    ax.scatter(\n",
    "        x=vis_.home_team_score + np.random.uniform(low=-k, high=k, size=vis_.shape[0])\n",
    "        ,y=vis_.p_95 + np.random.uniform(low=-k, high=k, size=vis_.shape[0])\n",
    "        ,color=config['visuals']['colors']['rojo']\n",
    "        ,alpha=0.05\n",
    "        ,label='Percentil 95')\n",
    "    ax.scatter(\n",
    "        x=vis_.home_team_score + np.random.uniform(low=-k, high=k, size=vis_.shape[0])\n",
    "        ,y=vis_.p_50 + np.random.uniform(low=-k, high=k, size=vis_.shape[0])\n",
    "        ,color=config['visuals']['colors']['morado']\n",
    "        ,alpha=0.05\n",
    "        ,label='Mediana')\n",
    "    #plt.plot(vis_.home_team_score, vis_.home_team_score, color='black', alpha=0.25)\n",
    "\n",
    "\n",
    "    # Anotaciones y estilo\n",
    "    ax.set_title(facet_dict['title'][idx_])\n",
    "    ax.set_xticks(np.arange(0,21,2))\n",
    "    ax.set_yticks(np.arange(0,21,2))\n",
    "\n",
    "fig.supxlabel('Goles observados')\n",
    "fig.supylabel('Predicción de goles')\n",
    "ax.legend()\n",
    "\n",
    "plt.show()"
   ]
  },
  {
   "attachments": {},
   "cell_type": "markdown",
   "metadata": {},
   "source": [
    "## 4.2 Distribuciones de la predictiva posterior"
   ]
  },
  {
   "cell_type": "code",
   "execution_count": 39,
   "metadata": {},
   "outputs": [],
   "source": [
    "preds = {\n",
    "    'preds_home':(\n",
    "        summary_vis_\n",
    "        .loc[summary_vis_.param == 'sims_local']\n",
    "        .Mean\n",
    "        .apply(int)).values\n",
    "    ,'preds_away':(\n",
    "    summary_vis_\n",
    "    .loc[summary_vis_.param == 'sims_visita']\n",
    "    .Mean\n",
    "    .apply(int)).values\n",
    "}\n",
    "\n",
    "preds = (\n",
    "    pd.DataFrame(preds)\n",
    "    .assign(\n",
    "        # -1: Away win, 0: Draw, 1: Home win\n",
    "        result = lambda df_:\n",
    "            (df_.preds_home - df_.preds_away).apply(np.sign)\n",
    "    )\n",
    ")"
   ]
  },
  {
   "cell_type": "code",
   "execution_count": 40,
   "metadata": {},
   "outputs": [
    {
     "data": {
      "image/png": "[encoded data removed]",
      "text/plain": [
       "<Figure size 1000x600 with 4 Axes>"
      ]
     },
     "metadata": {},
     "output_type": "display_data"
    }
   ],
   "source": [
    "# Datos de visualización\n",
    "vis_ = pd.concat(\n",
    "    (df_[['home_team_score','away_team_score']],preds[['preds_home','preds_away']])\n",
    "    ,axis=1)\n",
    "\n",
    "# Especificaciones de figura\n",
    "fig = plt.figure(figsize=(10,6))\n",
    "gs = plt.GridSpec(nrows=2, ncols=2, figure=fig, wspace=0.2, hspace=0.3)\n",
    "\n",
    "for idx_, col_ in enumerate(vis_.columns):\n",
    "    # Agrager elemento de figura\n",
    "    ax = fig.add_subplot(gs[idx_])\n",
    "\n",
    "    # Visualizaciones\n",
    "    ax.bar(\n",
    "        x=vis_[col_].value_counts().index\n",
    "        ,height=vis_[col_].value_counts().values\n",
    "        ,color=list(config['visuals']['colors'].values())[idx_%2 + 4]\n",
    "        ,alpha=0.5)\n",
    "    \n",
    "    # Anotaciones y estilo locales\n",
    "    ax.set_title(col_)\n",
    "    ax.set_xticks(np.arange(0,21,2))\n",
    "\n",
    "# Anotaciones globales\n",
    "fig.suptitle('Comparación de distribuciones de goles por tipo de equipo')\n",
    "fig.supxlabel('Goles anotados')\n",
    "\n",
    "plt.show()\n",
    "    "
   ]
  },
  {
   "cell_type": "code",
   "execution_count": 68,
   "metadata": {},
   "outputs": [],
   "source": []
  },
  {
   "cell_type": "code",
   "execution_count": null,
   "metadata": {},
   "outputs": [],
   "source": []
  }
 ],
 "metadata": {
  "kernelspec": {
   "display_name": "stan",
   "language": "python",
   "name": "python3"
  },
  "language_info": {
   "codemirror_mode": {
    "name": "ipython",
    "version": 3
   },
   "file_extension": ".py",
   "mimetype": "text/x-python",
   "name": "python",
   "nbconvert_exporter": "python",
   "pygments_lexer": "ipython3",
   "version": "3.11.3"
  },
  "orig_nbformat": 4
 },
 "nbformat": 4,
 "nbformat_minor": 2
}
