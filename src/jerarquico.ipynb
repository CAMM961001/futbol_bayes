{
 "cells": [
  {
   "attachments": {},
   "cell_type": "markdown",
   "metadata": {},
   "source": [
    "# Fútbol bayesiano\n",
    "\n",
    "Carga de librerías"
   ]
  },
  {
   "cell_type": "code",
   "execution_count": 35,
   "metadata": {},
   "outputs": [],
   "source": [
    "import os\n",
    "import yaml\n",
    "import numpy as np\n",
    "import pandas as pd\n",
    "import matplotlib.pyplot as plt\n",
    "import arviz as az\n",
    "\n",
    "from cmdstanpy import CmdStanModel\n",
    "from ipywidgets import widgets"
   ]
  },
  {
   "attachments": {},
   "cell_type": "markdown",
   "metadata": {},
   "source": [
    "Se definen rutas relativas del archivo"
   ]
  },
  {
   "cell_type": "code",
   "execution_count": 2,
   "metadata": {},
   "outputs": [],
   "source": [
    "CURRENT = os.getcwd()\n",
    "ROOT = os.path.dirname(CURRENT)"
   ]
  },
  {
   "attachments": {},
   "cell_type": "markdown",
   "metadata": {},
   "source": [
    "Cargar en memoria archivo de configuración"
   ]
  },
  {
   "cell_type": "code",
   "execution_count": 3,
   "metadata": {},
   "outputs": [],
   "source": [
    "with open(os.path.join(ROOT, 'config.yml'), 'r') as file_:\n",
    "    config = yaml.safe_load(file_)\n",
    "file_.close()"
   ]
  },
  {
   "attachments": {},
   "cell_type": "markdown",
   "metadata": {},
   "source": [
    "Carga en memoria de los datos con transformaciones convenientes"
   ]
  },
  {
   "cell_type": "code",
   "execution_count": 4,
   "metadata": {},
   "outputs": [
    {
     "name": "stdout",
     "output_type": "stream",
     "text": [
      "<class 'pandas.core.frame.DataFrame'>\n",
      "Index: 855 entries, 0 to 862\n",
      "Data columns (total 8 columns):\n",
      " #   Column               Non-Null Count  Dtype \n",
      "---  ------               --------------  ----- \n",
      " 0   tournament           855 non-null    object\n",
      " 1   home_team            855 non-null    object\n",
      " 2   away_team            855 non-null    object\n",
      " 3   home_team_continent  855 non-null    object\n",
      " 4   away_team_continent  855 non-null    object\n",
      " 5   home_team_score      855 non-null    int64 \n",
      " 6   away_team_score      855 non-null    int64 \n",
      " 7   result               855 non-null    int64 \n",
      "dtypes: int64(3), object(5)\n",
      "memory usage: 60.1+ KB\n"
     ]
    }
   ],
   "source": [
    "df_ = (\n",
    "    # --------------------------------------------------- Carga de datos crudos\n",
    "    pd.read_csv(\n",
    "        os.path.join(ROOT, config['datos']['raw'])\n",
    "        ,encoding='latin1')\n",
    "    # ---------------------------------------------------- Acotar datos a scope\n",
    "    .query(\"year > 2018\")\n",
    "    .query(\"tournament == 'FIFA World Cup qualification'\")\n",
    "    .reset_index(drop=True)\n",
    "    # --------------------------------------------- Filtrar columnas de interés\n",
    "    .filter(items=[\n",
    "        'tournament'\n",
    "        ,'home_team'\n",
    "        ,'away_team'\n",
    "        ,'home_team_continent'\n",
    "        ,'away_team_continent'\n",
    "        ,'home_team_score'\n",
    "        ,'away_team_score'\n",
    "    ])\n",
    "    # --------------------------------------- Asignación de columnas computadas\n",
    "    .assign(\n",
    "        result = lambda df_: \n",
    "            # -1: Away win, 0: Draw, 1: Home win\n",
    "            (df_.home_team_score - df_.away_team_score).apply(np.sign))\n",
    "    # -------------------------------------------------------- Filtrar outliers\n",
    "    .query('home_team_score <= 9')\n",
    "    .query('away_team_score <= 9')\n",
    ")\n",
    "\n",
    "df_.info()"
   ]
  },
  {
   "attachments": {},
   "cell_type": "markdown",
   "metadata": {},
   "source": [
    "Adicionalmente, es necesario construir un catálogo de las regiones a las que pertenecen los distintos equipos, respetando su referencia posicional para que se pueda proporcionar esa información a stan"
   ]
  },
  {
   "cell_type": "code",
   "execution_count": 5,
   "metadata": {},
   "outputs": [
    {
     "data": {
      "text/html": [
       "<div>\n",
       "<style scoped>\n",
       "    .dataframe tbody tr th:only-of-type {\n",
       "        vertical-align: middle;\n",
       "    }\n",
       "\n",
       "    .dataframe tbody tr th {\n",
       "        vertical-align: top;\n",
       "    }\n",
       "\n",
       "    .dataframe thead th {\n",
       "        text-align: right;\n",
       "    }\n",
       "</style>\n",
       "<table border=\"1\" class=\"dataframe\">\n",
       "  <thead>\n",
       "    <tr style=\"text-align: right;\">\n",
       "      <th></th>\n",
       "      <th>team</th>\n",
       "      <th>region</th>\n",
       "      <th>team_code</th>\n",
       "      <th>region_code</th>\n",
       "    </tr>\n",
       "  </thead>\n",
       "  <tbody>\n",
       "    <tr>\n",
       "      <th>0</th>\n",
       "      <td>Afghanistan</td>\n",
       "      <td>Asia</td>\n",
       "      <td>1</td>\n",
       "      <td>2</td>\n",
       "    </tr>\n",
       "    <tr>\n",
       "      <th>1</th>\n",
       "      <td>Albania</td>\n",
       "      <td>Europe</td>\n",
       "      <td>2</td>\n",
       "      <td>3</td>\n",
       "    </tr>\n",
       "    <tr>\n",
       "      <th>2</th>\n",
       "      <td>Algeria</td>\n",
       "      <td>Africa</td>\n",
       "      <td>3</td>\n",
       "      <td>1</td>\n",
       "    </tr>\n",
       "    <tr>\n",
       "      <th>3</th>\n",
       "      <td>Andorra</td>\n",
       "      <td>Europe</td>\n",
       "      <td>4</td>\n",
       "      <td>3</td>\n",
       "    </tr>\n",
       "    <tr>\n",
       "      <th>4</th>\n",
       "      <td>Angola</td>\n",
       "      <td>Africa</td>\n",
       "      <td>5</td>\n",
       "      <td>1</td>\n",
       "    </tr>\n",
       "  </tbody>\n",
       "</table>\n",
       "</div>"
      ],
      "text/plain": [
       "          team  region  team_code  region_code\n",
       "0  Afghanistan    Asia          1            2\n",
       "1      Albania  Europe          2            3\n",
       "2      Algeria  Africa          3            1\n",
       "3      Andorra  Europe          4            3\n",
       "4       Angola  Africa          5            1"
      ]
     },
     "execution_count": 5,
     "metadata": {},
     "output_type": "execute_result"
    }
   ],
   "source": [
    "home_ = (\n",
    "    df_\n",
    "    .filter(items=['home_team', 'home_team_continent'])\n",
    "    .rename(columns={'home_team':'team', 'home_team_continent':'region'}))\n",
    "\n",
    "away_ = (\n",
    "    df_\n",
    "    .filter(items=['away_team', 'away_team_continent'])\n",
    "    .rename(columns={'away_team':'team', 'away_team_continent':'region'}))\n",
    "\n",
    "cat_regiones = (\n",
    "    pd.concat((home_, away_))\n",
    "    .drop_duplicates('team')\n",
    "    .assign(\n",
    "        team = lambda df_: pd.Categorical(df_.team)\n",
    "        ,region = lambda df_: pd.Categorical(df_.region)\n",
    "        ,team_code = lambda df_: df_.team.cat.codes + 1\n",
    "        ,region_code = lambda df_: df_.region.cat.codes + 1\n",
    "    )\n",
    "    .sort_values(by='team_code')\n",
    "    .reset_index(drop=True)\n",
    ")\n",
    "\n",
    "cat_regiones.head()"
   ]
  },
  {
   "cell_type": "code",
   "execution_count": 6,
   "metadata": {},
   "outputs": [
    {
     "name": "stdout",
     "output_type": "stream",
     "text": [
      "Número de equipos: 206\n",
      "Número de regiones: 6\n"
     ]
    }
   ],
   "source": [
    "print(f'Número de equipos: {cat_regiones.team_code.nunique()}')\n",
    "print(f'Número de regiones: {cat_regiones.region_code.nunique()}')"
   ]
  },
  {
   "attachments": {},
   "cell_type": "markdown",
   "metadata": {},
   "source": [
    "Una vez creado el catálogo, se asignan los códigos creados a las columnas del _dataframe_ de datos inicial. Para ello, del catálogo de equipos y regiones se extrae un diccionario para reemplazar múltiples columnas en los datos."
   ]
  },
  {
   "cell_type": "code",
   "execution_count": 7,
   "metadata": {},
   "outputs": [
    {
     "data": {
      "text/html": [
       "<div>\n",
       "<style scoped>\n",
       "    .dataframe tbody tr th:only-of-type {\n",
       "        vertical-align: middle;\n",
       "    }\n",
       "\n",
       "    .dataframe tbody tr th {\n",
       "        vertical-align: top;\n",
       "    }\n",
       "\n",
       "    .dataframe thead th {\n",
       "        text-align: right;\n",
       "    }\n",
       "</style>\n",
       "<table border=\"1\" class=\"dataframe\">\n",
       "  <thead>\n",
       "    <tr style=\"text-align: right;\">\n",
       "      <th></th>\n",
       "      <th>tournament</th>\n",
       "      <th>home_team</th>\n",
       "      <th>away_team</th>\n",
       "      <th>home_team_continent</th>\n",
       "      <th>away_team_continent</th>\n",
       "      <th>home_team_score</th>\n",
       "      <th>away_team_score</th>\n",
       "      <th>result</th>\n",
       "    </tr>\n",
       "  </thead>\n",
       "  <tbody>\n",
       "    <tr>\n",
       "      <th>0</th>\n",
       "      <td>FIFA World Cup qualification</td>\n",
       "      <td>23</td>\n",
       "      <td>80</td>\n",
       "      <td>2</td>\n",
       "      <td>2</td>\n",
       "      <td>1</td>\n",
       "      <td>0</td>\n",
       "      <td>1</td>\n",
       "    </tr>\n",
       "    <tr>\n",
       "      <th>1</th>\n",
       "      <td>FIFA World Cup qualification</td>\n",
       "      <td>34</td>\n",
       "      <td>144</td>\n",
       "      <td>2</td>\n",
       "      <td>2</td>\n",
       "      <td>2</td>\n",
       "      <td>0</td>\n",
       "      <td>1</td>\n",
       "    </tr>\n",
       "    <tr>\n",
       "      <th>2</th>\n",
       "      <td>FIFA World Cup qualification</td>\n",
       "      <td>106</td>\n",
       "      <td>16</td>\n",
       "      <td>2</td>\n",
       "      <td>2</td>\n",
       "      <td>0</td>\n",
       "      <td>1</td>\n",
       "      <td>-1</td>\n",
       "    </tr>\n",
       "    <tr>\n",
       "      <th>3</th>\n",
       "      <td>FIFA World Cup qualification</td>\n",
       "      <td>115</td>\n",
       "      <td>175</td>\n",
       "      <td>2</td>\n",
       "      <td>2</td>\n",
       "      <td>1</td>\n",
       "      <td>0</td>\n",
       "      <td>1</td>\n",
       "    </tr>\n",
       "    <tr>\n",
       "      <th>4</th>\n",
       "      <td>FIFA World Cup qualification</td>\n",
       "      <td>126</td>\n",
       "      <td>29</td>\n",
       "      <td>2</td>\n",
       "      <td>2</td>\n",
       "      <td>2</td>\n",
       "      <td>0</td>\n",
       "      <td>1</td>\n",
       "    </tr>\n",
       "  </tbody>\n",
       "</table>\n",
       "</div>"
      ],
      "text/plain": [
       "                     tournament  home_team  away_team  home_team_continent   \n",
       "0  FIFA World Cup qualification         23         80                    2  \\\n",
       "1  FIFA World Cup qualification         34        144                    2   \n",
       "2  FIFA World Cup qualification        106         16                    2   \n",
       "3  FIFA World Cup qualification        115        175                    2   \n",
       "4  FIFA World Cup qualification        126         29                    2   \n",
       "\n",
       "   away_team_continent  home_team_score  away_team_score  result  \n",
       "0                    2                1                0       1  \n",
       "1                    2                2                0       1  \n",
       "2                    2                0                1      -1  \n",
       "3                    2                1                0       1  \n",
       "4                    2                2                0       1  "
      ]
     },
     "execution_count": 7,
     "metadata": {},
     "output_type": "execute_result"
    }
   ],
   "source": [
    "equipos_ = {}\n",
    "regiones_ = {}\n",
    "for row_ in range(cat_regiones.shape[0]):\n",
    "    equipos_[cat_regiones.loc[row_].team] = cat_regiones.loc[row_].team_code\n",
    "    regiones_[cat_regiones.loc[row_].region] =  cat_regiones.loc[row_].region_code\n",
    "\n",
    "df_.home_team = df_.home_team.map(equipos_)\n",
    "df_.away_team = df_.away_team.map(equipos_)\n",
    "df_.home_team_continent = df_.home_team_continent.map(regiones_)\n",
    "df_.away_team_continent = df_.away_team_continent.map(regiones_)\n",
    "\n",
    "df_.head()"
   ]
  },
  {
   "attachments": {},
   "cell_type": "markdown",
   "metadata": {},
   "source": [
    "# 2. Modelo en STAN\n",
    "\n",
    "$$y^h\\sim Poisson(\\theta^h)$$\n",
    "$$y^a\\sim Poisson(\\theta^a)$$\n",
    "$$log(\\theta^h) = home_{boost} + attack_{i[h]} - defence_{i[a]}$$\n",
    "$$log(\\theta^a) = attack_{i[a]} - defence_{i[h]}$$\n",
    "\n",
    "## 2.1 Muestreo\n",
    "\n",
    "Primero se definen algunas funciones útiles para la creación y manipulación de archivos de `stan`, y se crea un proyecto nuevo para la primera iteración del modelo jerárquico."
   ]
  },
  {
   "cell_type": "code",
   "execution_count": 8,
   "metadata": {},
   "outputs": [],
   "source": [
    "import BFG3000 as bfg"
   ]
  },
  {
   "cell_type": "code",
   "execution_count": 9,
   "metadata": {},
   "outputs": [
    {
     "name": "stdout",
     "output_type": "stream",
     "text": [
      "Ya existe un proyecto con el nombre multinivel\n"
     ]
    }
   ],
   "source": [
    "name = 'multinivel'\n",
    "sp_ = bfg.StanProject(name)\n",
    "dir_, model_ = sp_.create_stan_project(dir='modelos')"
   ]
  },
  {
   "attachments": {},
   "cell_type": "markdown",
   "metadata": {},
   "source": [
    "Una vez creado y editado el proyecto de STAN, se declara el siguiente bloque de código para mantener estructura en la compilación del modelo y los archivos que éste genera."
   ]
  },
  {
   "cell_type": "code",
   "execution_count": 10,
   "metadata": {},
   "outputs": [],
   "source": [
    "# Compilar el modelo\n",
    "compile_ = CmdStanModel(\n",
    "    model_name=name\n",
    "    ,stan_file=model_\n",
    "    ,compile=True\n",
    ")"
   ]
  },
  {
   "attachments": {},
   "cell_type": "markdown",
   "metadata": {},
   "source": [
    "Se declara un diccionario de datos para proporcionar los datos a stan"
   ]
  },
  {
   "cell_type": "code",
   "execution_count": 11,
   "metadata": {},
   "outputs": [],
   "source": [
    "stan_data_ = {\n",
    "    'n_partidos': df_.shape[0]\n",
    "    ,'n_equipos': cat_regiones.team_code.nunique()\n",
    "    ,'n_regiones': cat_regiones.region_code.nunique()\n",
    "    ,'locales': df_.home_team.values\n",
    "    ,'visitantes': df_.away_team.values\n",
    "    ,'region_equipo': cat_regiones.region_code.values\n",
    "    ,'goles_local': df_.home_team_score.values\n",
    "    ,'goles_visita': df_.away_team_score.values\n",
    "}"
   ]
  },
  {
   "attachments": {},
   "cell_type": "markdown",
   "metadata": {},
   "source": [
    "Finalmente, se ejecuta el modelo y se calibra. Este paso es recursivo y se tiene que ejecutar tantas veces sean necesarias de modo que las cadenas generadas por el muestreador tengan diagnósticos buenos."
   ]
  },
  {
   "cell_type": "code",
   "execution_count": 12,
   "metadata": {},
   "outputs": [
    {
     "name": "stderr",
     "output_type": "stream",
     "text": [
      "19:31:24 - cmdstanpy - INFO - CmdStan start processing\n"
     ]
    },
    {
     "data": {
      "application/vnd.jupyter.widget-view+json": {
       "model_id": "1710fcd2d3c24c608fb97e2671513729",
       "version_major": 2,
       "version_minor": 0
      },
      "text/plain": [
       "chain 1 |          | 00:00 Status"
      ]
     },
     "metadata": {},
     "output_type": "display_data"
    },
    {
     "data": {
      "application/vnd.jupyter.widget-view+json": {
       "model_id": "132300a853624954adf51c4e1981e130",
       "version_major": 2,
       "version_minor": 0
      },
      "text/plain": [
       "chain 2 |          | 00:00 Status"
      ]
     },
     "metadata": {},
     "output_type": "display_data"
    },
    {
     "data": {
      "application/vnd.jupyter.widget-view+json": {
       "model_id": "96309972d4a047fa97054b640b3d664d",
       "version_major": 2,
       "version_minor": 0
      },
      "text/plain": [
       "chain 3 |          | 00:00 Status"
      ]
     },
     "metadata": {},
     "output_type": "display_data"
    },
    {
     "data": {
      "application/vnd.jupyter.widget-view+json": {
       "model_id": "b52fc125eaa14f268b07246a47c697c9",
       "version_major": 2,
       "version_minor": 0
      },
      "text/plain": [
       "chain 4 |          | 00:00 Status"
      ]
     },
     "metadata": {},
     "output_type": "display_data"
    },
    {
     "data": {
      "application/vnd.jupyter.widget-view+json": {
       "model_id": "247a83d26b1549b1b3f69018edf13fa8",
       "version_major": 2,
       "version_minor": 0
      },
      "text/plain": [
       "chain 5 |          | 00:00 Status"
      ]
     },
     "metadata": {},
     "output_type": "display_data"
    },
    {
     "data": {
      "application/vnd.jupyter.widget-view+json": {
       "model_id": "c927aa398fa54ad582500c375550d090",
       "version_major": 2,
       "version_minor": 0
      },
      "text/plain": [
       "chain 6 |          | 00:00 Status"
      ]
     },
     "metadata": {},
     "output_type": "display_data"
    },
    {
     "data": {
      "application/vnd.jupyter.widget-view+json": {
       "model_id": "59c7a642d4bb40c19f91ce59dc9f12fa",
       "version_major": 2,
       "version_minor": 0
      },
      "text/plain": [
       "chain 7 |          | 00:00 Status"
      ]
     },
     "metadata": {},
     "output_type": "display_data"
    },
    {
     "data": {
      "application/vnd.jupyter.widget-view+json": {
       "model_id": "387a1031679e4099ad6e9cc6864e303e",
       "version_major": 2,
       "version_minor": 0
      },
      "text/plain": [
       "chain 8 |          | 00:00 Status"
      ]
     },
     "metadata": {},
     "output_type": "display_data"
    },
    {
     "name": "stdout",
     "output_type": "stream",
     "text": [
      "                                                                                                                                                                                                                                                                                                                                                                                                                                                                                                                                                                                                                                                                "
     ]
    },
    {
     "name": "stderr",
     "output_type": "stream",
     "text": [
      "19:32:17 - cmdstanpy - INFO - CmdStan done processing.\n",
      "19:32:17 - cmdstanpy - WARNING - Non-fatal error during sampling:\n",
      "Exception: offset_multiplier_constrain: multiplier is 0, but must be positive finite! (in '/home/camm961001/Github/futbol_bayes/modelos/multinivel/multinivel.stan', line 48, column 4 to column 83)\n",
      "\tException: offset_multiplier_constrain: multiplier is 0, but must be positive finite! (in '/home/camm961001/Github/futbol_bayes/modelos/multinivel/multinivel.stan', line 48, column 4 to column 83)\n",
      "\tException: offset_multiplier_constrain: multiplier is 0, but must be positive finite! (in '/home/camm961001/Github/futbol_bayes/modelos/multinivel/multinivel.stan', line 48, column 4 to column 83)\n",
      "\tException: offset_multiplier_constrain: multiplier is 0, but must be positive finite! (in '/home/camm961001/Github/futbol_bayes/modelos/multinivel/multinivel.stan', line 48, column 4 to column 83)\n",
      "\tException: offset_multiplier_constrain: multiplier is 0, but must be positive finite! (in '/home/camm961001/Github/futbol_bayes/modelos/multinivel/multinivel.stan', line 48, column 4 to column 83)\n",
      "\tException: offset_multiplier_constrain: multiplier is 0, but must be positive finite! (in '/home/camm961001/Github/futbol_bayes/modelos/multinivel/multinivel.stan', line 47, column 4 to column 80)\n",
      "\tException: offset_multiplier_constrain: multiplier is 0, but must be positive finite! (in '/home/camm961001/Github/futbol_bayes/modelos/multinivel/multinivel.stan', line 47, column 4 to column 80)\n",
      "\tException: offset_multiplier_constrain: multiplier is 0, but must be positive finite! (in '/home/camm961001/Github/futbol_bayes/modelos/multinivel/multinivel.stan', line 48, column 4 to column 83)\n",
      "Exception: offset_multiplier_constrain: multiplier is inf, but must be positive finite! (in '/home/camm961001/Github/futbol_bayes/modelos/multinivel/multinivel.stan', line 47, column 4 to column 80)\n",
      "\tException: gamma_lpdf: Random variable is inf, but must be positive finite! (in '/home/camm961001/Github/futbol_bayes/modelos/multinivel/multinivel.stan', line 112, column 4 to column 41)\n",
      "Exception: offset_multiplier_constrain: multiplier is 0, but must be positive finite! (in '/home/camm961001/Github/futbol_bayes/modelos/multinivel/multinivel.stan', line 48, column 4 to column 83)\n",
      "\tException: offset_multiplier_constrain: multiplier is 0, but must be positive finite! (in '/home/camm961001/Github/futbol_bayes/modelos/multinivel/multinivel.stan', line 48, column 4 to column 83)\n",
      "\tException: offset_multiplier_constrain: multiplier is 0, but must be positive finite! (in '/home/camm961001/Github/futbol_bayes/modelos/multinivel/multinivel.stan', line 48, column 4 to column 83)\n",
      "\tException: offset_multiplier_constrain: multiplier is 0, but must be positive finite! (in '/home/camm961001/Github/futbol_bayes/modelos/multinivel/multinivel.stan', line 48, column 4 to column 83)\n",
      "\tException: offset_multiplier_constrain: multiplier is 0, but must be positive finite! (in '/home/camm961001/Github/futbol_bayes/modelos/multinivel/multinivel.stan', line 48, column 4 to column 83)\n",
      "Exception: offset_multiplier_constrain: multiplier is 0, but must be positive finite! (in '/home/camm961001/Github/futbol_bayes/modelos/multinivel/multinivel.stan', line 47, column 4 to column 80)\n",
      "\tException: offset_multiplier_constrain: multiplier is 0, but must be positive finite! (in '/home/camm961001/Github/futbol_bayes/modelos/multinivel/multinivel.stan', line 47, column 4 to column 80)\n",
      "\tException: offset_multiplier_constrain: multiplier is 0, but must be positive finite! (in '/home/camm961001/Github/futbol_bayes/modelos/multinivel/multinivel.stan', line 48, column 4 to column 83)\n",
      "\tException: offset_multiplier_constrain: multiplier is 0, but must be positive finite! (in '/home/camm961001/Github/futbol_bayes/modelos/multinivel/multinivel.stan', line 48, column 4 to column 83)\n",
      "\tException: offset_multiplier_constrain: multiplier is 0, but must be positive finite! (in '/home/camm961001/Github/futbol_bayes/modelos/multinivel/multinivel.stan', line 47, column 4 to column 80)\n",
      "\tException: offset_multiplier_constrain: multiplier is 0, but must be positive finite! (in '/home/camm961001/Github/futbol_bayes/modelos/multinivel/multinivel.stan', line 47, column 4 to column 80)\n",
      "Exception: offset_multiplier_constrain: multiplier is 0, but must be positive finite! (in '/home/camm961001/Github/futbol_bayes/modelos/multinivel/multinivel.stan', line 47, column 4 to column 80)\n",
      "\tException: offset_multiplier_constrain: multiplier is 0, but must be positive finite! (in '/home/camm961001/Github/futbol_bayes/modelos/multinivel/multinivel.stan', line 48, column 4 to column 83)\n",
      "Exception: offset_multiplier_constrain: multiplier is 0, but must be positive finite! (in '/home/camm961001/Github/futbol_bayes/modelos/multinivel/multinivel.stan', line 47, column 4 to column 80)\n",
      "Exception: gamma_lpdf: Random variable is inf, but must be positive finite! (in '/home/camm961001/Github/futbol_bayes/modelos/multinivel/multinivel.stan', line 111, column 4 to column 40)\n",
      "\tException: gamma_lpdf: Random variable is inf, but must be positive finite! (in '/home/camm961001/Github/futbol_bayes/modelos/multinivel/multinivel.stan', line 111, column 4 to column 40)\n",
      "\tException: offset_multiplier_constrain: multiplier is 0, but must be positive finite! (in '/home/camm961001/Github/futbol_bayes/modelos/multinivel/multinivel.stan', line 47, column 4 to column 80)\n",
      "\tException: offset_multiplier_constrain: multiplier is 0, but must be positive finite! (in '/home/camm961001/Github/futbol_bayes/modelos/multinivel/multinivel.stan', line 47, column 4 to column 80)\n",
      "Exception: gamma_lpdf: Random variable is inf, but must be positive finite! (in '/home/camm961001/Github/futbol_bayes/modelos/multinivel/multinivel.stan', line 111, column 4 to column 40)\n",
      "\tException: gamma_lpdf: Random variable is inf, but must be positive finite! (in '/home/camm961001/Github/futbol_bayes/modelos/multinivel/multinivel.stan', line 111, column 4 to column 40)\n",
      "\tException: gamma_lpdf: Random variable is inf, but must be positive finite! (in '/home/camm961001/Github/futbol_bayes/modelos/multinivel/multinivel.stan', line 112, column 4 to column 41)\n",
      "\tException: offset_multiplier_constrain: multiplier is 0, but must be positive finite! (in '/home/camm961001/Github/futbol_bayes/modelos/multinivel/multinivel.stan', line 47, column 4 to column 80)\n",
      "\tException: offset_multiplier_constrain: multiplier is 0, but must be positive finite! (in '/home/camm961001/Github/futbol_bayes/modelos/multinivel/multinivel.stan', line 47, column 4 to column 80)\n",
      "Consider re-running with show_console=True if the above output is unclear!\n"
     ]
    },
    {
     "name": "stdout",
     "output_type": "stream",
     "text": [
      "\n"
     ]
    },
    {
     "name": "stderr",
     "output_type": "stream",
     "text": [
      "19:32:23 - cmdstanpy - WARNING - Some chains may have failed to converge.\n",
      "\tChain 1 had 74 divergent transitions (1.5%)\n",
      "\tChain 2 had 49 divergent transitions (1.0%)\n",
      "\tChain 3 had 597 divergent transitions (11.9%)\n",
      "\tChain 4 had 9 divergent transitions (0.2%)\n",
      "\tChain 5 had 11 divergent transitions (0.2%)\n",
      "\tChain 6 had 4 divergent transitions (0.1%)\n",
      "\tChain 7 had 63 divergent transitions (1.3%)\n",
      "\tChain 8 had 72 divergent transitions (1.4%)\n",
      "\tUse function \"diagnose()\" to see further information.\n"
     ]
    }
   ],
   "source": [
    "fit_ = compile_.sample(\n",
    "    data=stan_data_\n",
    "    ,chains=8\n",
    "    ,iter_warmup=5_000\n",
    "    ,iter_sampling=5_000\n",
    "    ,show_progress=True\n",
    "    ,save_warmup=False\n",
    ")"
   ]
  },
  {
   "attachments": {},
   "cell_type": "markdown",
   "metadata": {},
   "source": [
    "```{python}\n",
    "fit_path = os.path.join(dir_, name + '_fit_200.pkl')\n",
    "\n",
    "with open(fit_path, 'rb') as file_:\n",
    "    pickle.dump(fit_, file_)\n",
    "file_.close()\n",
    "```"
   ]
  },
  {
   "attachments": {},
   "cell_type": "markdown",
   "metadata": {},
   "source": [
    "## 2.2 Resumen de estimadores"
   ]
  },
  {
   "cell_type": "code",
   "execution_count": 13,
   "metadata": {},
   "outputs": [
    {
     "name": "stdout",
     "output_type": "stream",
     "text": [
      "<class 'pandas.core.frame.DataFrame'>\n",
      "Index: 5974 entries, lp__ to sims_visita[855]\n",
      "Data columns (total 9 columns):\n",
      " #   Column   Non-Null Count  Dtype  \n",
      "---  ------   --------------  -----  \n",
      " 0   Mean     5974 non-null   float64\n",
      " 1   MCSE     5974 non-null   float64\n",
      " 2   StdDev   5974 non-null   float64\n",
      " 3   5%       5974 non-null   float64\n",
      " 4   50%      5974 non-null   float64\n",
      " 5   95%      5974 non-null   float64\n",
      " 6   N_Eff    5974 non-null   float64\n",
      " 7   N_Eff/s  5974 non-null   float64\n",
      " 8   R_hat    5974 non-null   float64\n",
      "dtypes: float64(9)\n",
      "memory usage: 466.7+ KB\n"
     ]
    }
   ],
   "source": [
    "summary_ = fit_.summary()\n",
    "summary_.info()"
   ]
  },
  {
   "attachments": {},
   "cell_type": "markdown",
   "metadata": {},
   "source": [
    "Número de parámetros"
   ]
  },
  {
   "cell_type": "code",
   "execution_count": 14,
   "metadata": {},
   "outputs": [
    {
     "data": {
      "text/plain": [
       "param\n",
       "sims_visita             855\n",
       "sims_local              855\n",
       "pred_lambda_visita      855\n",
       "pred_lambda_local       855\n",
       "lambda_visita           855\n",
       "lambda_local            855\n",
       "region_defensa          206\n",
       "defensa                 206\n",
       "ataque                  206\n",
       "region_ataque           206\n",
       "base_defensa              6\n",
       "base_ataque               6\n",
       "boost_local               1\n",
       "sigma_defensa_region      1\n",
       "sigma_ataque_region       1\n",
       "sigma_defensa             1\n",
       "sigma_ataque              1\n",
       "mu_defensa                1\n",
       "mu_ataque                 1\n",
       "lp__                      1\n",
       "Name: count, dtype: int64"
      ]
     },
     "execution_count": 14,
     "metadata": {},
     "output_type": "execute_result"
    }
   ],
   "source": [
    "summary_vis_ = (\n",
    "    summary_\n",
    "    .reset_index(names='param')\n",
    "    .assign(\n",
    "        param = lambda df_: df_.param.str.partition('[')[0]\n",
    "    )\n",
    ")\n",
    "\n",
    "summary_vis_.param.value_counts()"
   ]
  },
  {
   "attachments": {},
   "cell_type": "markdown",
   "metadata": {},
   "source": [
    "### 2.2.1 Resumen de estimadores únicos"
   ]
  },
  {
   "cell_type": "code",
   "execution_count": 15,
   "metadata": {},
   "outputs": [
    {
     "data": {
      "text/html": [
       "<div>\n",
       "<style scoped>\n",
       "    .dataframe tbody tr th:only-of-type {\n",
       "        vertical-align: middle;\n",
       "    }\n",
       "\n",
       "    .dataframe tbody tr th {\n",
       "        vertical-align: top;\n",
       "    }\n",
       "\n",
       "    .dataframe thead th {\n",
       "        text-align: right;\n",
       "    }\n",
       "</style>\n",
       "<table border=\"1\" class=\"dataframe\">\n",
       "  <thead>\n",
       "    <tr style=\"text-align: right;\">\n",
       "      <th></th>\n",
       "      <th>param</th>\n",
       "      <th>Mean</th>\n",
       "      <th>MCSE</th>\n",
       "      <th>StdDev</th>\n",
       "      <th>5%</th>\n",
       "      <th>50%</th>\n",
       "      <th>95%</th>\n",
       "      <th>N_Eff</th>\n",
       "      <th>N_Eff/s</th>\n",
       "      <th>R_hat</th>\n",
       "    </tr>\n",
       "  </thead>\n",
       "  <tbody>\n",
       "    <tr>\n",
       "      <th>0</th>\n",
       "      <td>lp__</td>\n",
       "      <td>-979.395000</td>\n",
       "      <td>0.207409</td>\n",
       "      <td>17.846800</td>\n",
       "      <td>-1009.000000</td>\n",
       "      <td>-979.102000</td>\n",
       "      <td>-950.389000</td>\n",
       "      <td>7404.030</td>\n",
       "      <td>28.27900</td>\n",
       "      <td>1.00076</td>\n",
       "    </tr>\n",
       "    <tr>\n",
       "      <th>1</th>\n",
       "      <td>boost_local</td>\n",
       "      <td>0.257594</td>\n",
       "      <td>0.000251</td>\n",
       "      <td>0.032904</td>\n",
       "      <td>0.202726</td>\n",
       "      <td>0.257698</td>\n",
       "      <td>0.311634</td>\n",
       "      <td>17250.400</td>\n",
       "      <td>65.88630</td>\n",
       "      <td>1.00026</td>\n",
       "    </tr>\n",
       "    <tr>\n",
       "      <th>2</th>\n",
       "      <td>mu_ataque</td>\n",
       "      <td>0.000487</td>\n",
       "      <td>0.002039</td>\n",
       "      <td>0.097506</td>\n",
       "      <td>-0.160006</td>\n",
       "      <td>0.000983</td>\n",
       "      <td>0.159422</td>\n",
       "      <td>2285.710</td>\n",
       "      <td>8.73007</td>\n",
       "      <td>1.00317</td>\n",
       "    </tr>\n",
       "    <tr>\n",
       "      <th>3</th>\n",
       "      <td>mu_defensa</td>\n",
       "      <td>0.001047</td>\n",
       "      <td>0.002065</td>\n",
       "      <td>0.100302</td>\n",
       "      <td>-0.164715</td>\n",
       "      <td>0.000798</td>\n",
       "      <td>0.167293</td>\n",
       "      <td>2358.580</td>\n",
       "      <td>9.00836</td>\n",
       "      <td>1.00250</td>\n",
       "    </tr>\n",
       "    <tr>\n",
       "      <th>4</th>\n",
       "      <td>sigma_ataque</td>\n",
       "      <td>0.128069</td>\n",
       "      <td>0.005777</td>\n",
       "      <td>0.121724</td>\n",
       "      <td>0.008473</td>\n",
       "      <td>0.093554</td>\n",
       "      <td>0.370019</td>\n",
       "      <td>443.977</td>\n",
       "      <td>1.69573</td>\n",
       "      <td>1.01815</td>\n",
       "    </tr>\n",
       "    <tr>\n",
       "      <th>5</th>\n",
       "      <td>sigma_defensa</td>\n",
       "      <td>0.109274</td>\n",
       "      <td>0.002544</td>\n",
       "      <td>0.107988</td>\n",
       "      <td>0.007219</td>\n",
       "      <td>0.079366</td>\n",
       "      <td>0.313774</td>\n",
       "      <td>1802.370</td>\n",
       "      <td>6.88398</td>\n",
       "      <td>1.00531</td>\n",
       "    </tr>\n",
       "    <tr>\n",
       "      <th>6</th>\n",
       "      <td>sigma_ataque_region</td>\n",
       "      <td>0.407099</td>\n",
       "      <td>0.000372</td>\n",
       "      <td>0.035752</td>\n",
       "      <td>0.349859</td>\n",
       "      <td>0.405955</td>\n",
       "      <td>0.467922</td>\n",
       "      <td>9224.170</td>\n",
       "      <td>35.23080</td>\n",
       "      <td>1.00043</td>\n",
       "    </tr>\n",
       "    <tr>\n",
       "      <th>7</th>\n",
       "      <td>sigma_defensa_region</td>\n",
       "      <td>0.582221</td>\n",
       "      <td>0.000329</td>\n",
       "      <td>0.040981</td>\n",
       "      <td>0.517181</td>\n",
       "      <td>0.580957</td>\n",
       "      <td>0.651269</td>\n",
       "      <td>15484.700</td>\n",
       "      <td>59.14220</td>\n",
       "      <td>1.00034</td>\n",
       "    </tr>\n",
       "  </tbody>\n",
       "</table>\n",
       "</div>"
      ],
      "text/plain": [
       "                  param        Mean      MCSE     StdDev           5%   \n",
       "0                  lp__ -979.395000  0.207409  17.846800 -1009.000000  \\\n",
       "1           boost_local    0.257594  0.000251   0.032904     0.202726   \n",
       "2             mu_ataque    0.000487  0.002039   0.097506    -0.160006   \n",
       "3            mu_defensa    0.001047  0.002065   0.100302    -0.164715   \n",
       "4          sigma_ataque    0.128069  0.005777   0.121724     0.008473   \n",
       "5         sigma_defensa    0.109274  0.002544   0.107988     0.007219   \n",
       "6   sigma_ataque_region    0.407099  0.000372   0.035752     0.349859   \n",
       "7  sigma_defensa_region    0.582221  0.000329   0.040981     0.517181   \n",
       "\n",
       "          50%         95%      N_Eff   N_Eff/s    R_hat  \n",
       "0 -979.102000 -950.389000   7404.030  28.27900  1.00076  \n",
       "1    0.257698    0.311634  17250.400  65.88630  1.00026  \n",
       "2    0.000983    0.159422   2285.710   8.73007  1.00317  \n",
       "3    0.000798    0.167293   2358.580   9.00836  1.00250  \n",
       "4    0.093554    0.370019    443.977   1.69573  1.01815  \n",
       "5    0.079366    0.313774   1802.370   6.88398  1.00531  \n",
       "6    0.405955    0.467922   9224.170  35.23080  1.00043  \n",
       "7    0.580957    0.651269  15484.700  59.14220  1.00034  "
      ]
     },
     "execution_count": 15,
     "metadata": {},
     "output_type": "execute_result"
    }
   ],
   "source": [
    "mask_ = summary_vis_.param.value_counts()[summary_vis_.param.value_counts() == 1].keys()\n",
    "\n",
    "single_params = (\n",
    "    summary_vis_\n",
    "    .loc[summary_vis_.param.isin(mask_)]\n",
    "    .assign(\n",
    "        param = lambda df_: pd.Categorical(df_.param)\n",
    "    )\n",
    ")\n",
    "\n",
    "single_params"
   ]
  },
  {
   "attachments": {},
   "cell_type": "markdown",
   "metadata": {},
   "source": [
    "### 2.2.2 Resumen de estimadores múltiples"
   ]
  },
  {
   "cell_type": "code",
   "execution_count": 16,
   "metadata": {},
   "outputs": [],
   "source": [
    "def resumen_estimadores(diagnostico):\n",
    "    # Datos de visualización\n",
    "    mask_ = summary_vis_.param.value_counts()[summary_vis_.param.value_counts() > 1].keys()\n",
    "    vis_ = (\n",
    "        summary_vis_\n",
    "        .loc[summary_vis_.param.isin(mask_)]\n",
    "        .filter(items=['param', diagnostico])\n",
    "        .assign(\n",
    "            param = lambda df_: pd.Categorical(df_.param)\n",
    "        )\n",
    "    )\n",
    "\n",
    "    # Especificaciones de figuras\n",
    "    fig, ax = plt.subplots()\n",
    "\n",
    "    # Visualizaciones\n",
    "    ax.scatter(\n",
    "        x=vis_[diagnostico]\n",
    "        ,y=vis_.param.cat.codes + np.random.uniform(low=-0.2, high=0.2, size=vis_.shape[0])\n",
    "        ,color=config['visuals']['colors']['verde']\n",
    "        ,alpha=0.8)\n",
    "    \n",
    "    if diagnostico == 'R_hat':\n",
    "        ax.axvline(\n",
    "            x=1.05\n",
    "            ,color=config['visuals']['colors']['rojo']\n",
    "            ,linestyle='--')\n",
    "\n",
    "    # Anotaciones y estilo\n",
    "    ax.set_title(f'{diagnostico} de los parámetros múltiples', loc='left')\n",
    "    ax.set_xlabel(diagnostico)\n",
    "    ax.set_yticks(\n",
    "        ticks=vis_.param.cat.codes.unique()\n",
    "        ,labels=vis_.param.cat.categories)\n",
    "\n",
    "    plt.show()"
   ]
  },
  {
   "cell_type": "code",
   "execution_count": 17,
   "metadata": {},
   "outputs": [
    {
     "data": {
      "application/vnd.jupyter.widget-view+json": {
       "model_id": "7f9afbe0f3294dc39996f33cc020d7ea",
       "version_major": 2,
       "version_minor": 0
      },
      "text/plain": [
       "interactive(children=(Dropdown(description='Resumen', options=('Mean', 'MCSE', 'StdDev', '5%', '50%', '95%', '…"
      ]
     },
     "metadata": {},
     "output_type": "display_data"
    },
    {
     "data": {
      "text/plain": [
       "<function __main__.resumen_estimadores(diagnostico)>"
      ]
     },
     "execution_count": 17,
     "metadata": {},
     "output_type": "execute_result"
    }
   ],
   "source": [
    "widgets.interact(\n",
    "    resumen_estimadores\n",
    "    ,diagnostico=widgets.Dropdown(\n",
    "        options=list(summary_vis_.columns)[1:]\n",
    "        ,description='Resumen'\n",
    "        ,disabled=False)    \n",
    ")"
   ]
  },
  {
   "attachments": {},
   "cell_type": "markdown",
   "metadata": {},
   "source": [
    "## 2.3 Traza de las cadenas\n",
    "\n",
    "### 2.3.1 Parámetros simples"
   ]
  },
  {
   "cell_type": "code",
   "execution_count": 18,
   "metadata": {},
   "outputs": [
    {
     "data": {
      "text/plain": [
       "(5000, 8, 5980)"
      ]
     },
     "execution_count": 18,
     "metadata": {},
     "output_type": "execute_result"
    }
   ],
   "source": [
    "chains_ = fit_.draws(inc_warmup=False, concat_chains=False)\n",
    "chains_.shape"
   ]
  },
  {
   "cell_type": "code",
   "execution_count": 19,
   "metadata": {},
   "outputs": [],
   "source": [
    "def traceplot_single_param(param, type):\n",
    "    # Datos de visualización\n",
    "    idp_ = fit_.column_names.index(param)\n",
    "    arr_ = chains_[:, :, idp_]\n",
    "\n",
    "    # Especificaciones de figura\n",
    "    plt.figure(figsize=(10,5))\n",
    "\n",
    "    if type == 'traceplot':\n",
    "        # Visualizaciones\n",
    "        for chain in range(arr_.shape[1]):\n",
    "            plt.plot(\n",
    "                arr_[:, chain]\n",
    "                ,color=list(config['visuals']['colors'].values())[chain]\n",
    "                ,label=f'Chain: {chain}')\n",
    "\n",
    "        # Anotaciones y estilo\n",
    "        plt.title(f'Traza de las cadenas, {param}', loc='left')\n",
    "        plt.xlabel('Iteraciones')\n",
    "        plt.ylabel('Espacio parametral')\n",
    "        plt.legend()\n",
    "\n",
    "    if type == 'convergence':\n",
    "        ergo_ = np.apply_along_axis(func1d=lambda x: x.cumsum(), axis=0, arr=arr_)\n",
    "        ergo_ = ergo_ / np.arange(1, ergo_.shape[0]+1, 1).reshape((-1,1))\n",
    "\n",
    "        # Visualizaciones\n",
    "        for chain in range(ergo_.shape[1]):\n",
    "            plt.plot(\n",
    "                ergo_[:, chain]\n",
    "                ,color=list(config['visuals']['colors'].values())[chain]\n",
    "                ,label=f'Chain: {chain}')\n",
    "\n",
    "        # Anotaciones y estilo\n",
    "        plt.title(f'Promedios ergódicos, {param}', loc='left')\n",
    "        plt.xlabel('Iteraciones')\n",
    "        plt.ylabel('Espacio parametral')\n",
    "        plt.legend()\n",
    "\n",
    "    plt.show()"
   ]
  },
  {
   "cell_type": "code",
   "execution_count": 20,
   "metadata": {},
   "outputs": [
    {
     "data": {
      "application/vnd.jupyter.widget-view+json": {
       "model_id": "3a7679129b1b43cc8cc597acffab9f0d",
       "version_major": 2,
       "version_minor": 0
      },
      "text/plain": [
       "interactive(children=(Dropdown(description='Param', options=('lp__', 'boost_local', 'mu_ataque', 'mu_defensa',…"
      ]
     },
     "metadata": {},
     "output_type": "display_data"
    },
    {
     "data": {
      "text/plain": [
       "<function __main__.traceplot_single_param(param, type)>"
      ]
     },
     "execution_count": 20,
     "metadata": {},
     "output_type": "execute_result"
    }
   ],
   "source": [
    "widgets.interact(\n",
    "    traceplot_single_param\n",
    "    ,param=widgets.Dropdown(\n",
    "        options=single_params.param\n",
    "        ,description='Param'\n",
    "        ,disabled=False)\n",
    "    ,type=widgets.Dropdown(\n",
    "        options=['convergence','traceplot']\n",
    "        ,description='Type'\n",
    "        ,disabled=False)       \n",
    ")"
   ]
  },
  {
   "attachments": {},
   "cell_type": "markdown",
   "metadata": {},
   "source": [
    "### 2.3.2 Parámetros múltiples"
   ]
  },
  {
   "cell_type": "code",
   "execution_count": 21,
   "metadata": {},
   "outputs": [],
   "source": [
    "def traceplot_multi_param(chain, param, type):\n",
    "    # Extraer índices de parámetros en cadena\n",
    "    ids_ = (\n",
    "        summary_vis_\n",
    "        .loc[summary_vis_['param'] == param]\n",
    "        .index\n",
    "        .to_numpy())\n",
    "\n",
    "    # Filtrar cadenas con índices\n",
    "    arr_ = chains_[:,chain-1, ids_]\n",
    "\n",
    "    # Calcular promedios ergódicos\n",
    "    ergo_ = np.apply_along_axis(func1d=lambda x: x.cumsum(), axis=0, arr=arr_)\n",
    "    ergo_ = ergo_ / np.arange(1, ergo_.shape[0]+1, 1).reshape((-1,1))\n",
    "\n",
    "    # Especificaciones de figura\n",
    "    plt.figure(figsize=(10,5))\n",
    "    \n",
    "    # Condición de tipo de visulazación\n",
    "    if type == 'traceplot': plt.plot(arr_, alpha=0.5)\n",
    "    else: plt.plot(ergo_, alpha=0.5)\n",
    "\n",
    "    plt.title(\n",
    "        f'''Visualización {type.upper()} del parámetro {param}, cadena: {chain}'''\n",
    "        ,loc='left')\n",
    "\n",
    "    plt.show()"
   ]
  },
  {
   "cell_type": "code",
   "execution_count": 22,
   "metadata": {},
   "outputs": [
    {
     "data": {
      "application/vnd.jupyter.widget-view+json": {
       "model_id": "433d70d2448a442ca940182a04636e30",
       "version_major": 2,
       "version_minor": 0
      },
      "text/plain": [
       "interactive(children=(IntSlider(value=1, description='chain', max=8, min=1), Dropdown(description='Param', opt…"
      ]
     },
     "metadata": {},
     "output_type": "display_data"
    },
    {
     "data": {
      "text/plain": [
       "<function __main__.traceplot_multi_param(chain, param, type)>"
      ]
     },
     "execution_count": 22,
     "metadata": {},
     "output_type": "execute_result"
    }
   ],
   "source": [
    "mask_ = summary_vis_.param.value_counts()[summary_vis_.param.value_counts() > 1].keys()\n",
    "\n",
    "widgets.interact(\n",
    "    traceplot_multi_param\n",
    "    ,param=widgets.Dropdown(\n",
    "        options=mask_\n",
    "        ,description='Param'\n",
    "        ,disabled=False)\n",
    "    ,chain=widgets.IntSlider(\n",
    "        min=1\n",
    "        ,max=chains_.shape[1]\n",
    "        ,step=1\n",
    "    )\n",
    "    ,type=widgets.Dropdown(\n",
    "        options=['convergence','traceplot']\n",
    "        ,description='Type'\n",
    "        ,disabled=False)       \n",
    ")"
   ]
  },
  {
   "attachments": {},
   "cell_type": "markdown",
   "metadata": {},
   "source": [
    "# 3. Inferencia\n",
    "\n",
    "## 3.1 Habilidades por equipo"
   ]
  },
  {
   "cell_type": "code",
   "execution_count": 24,
   "metadata": {},
   "outputs": [
    {
     "data": {
      "image/png": "[encoded data removed]",
      "text/plain": [
       "<Figure size 1000x500 with 1 Axes>"
      ]
     },
     "metadata": {},
     "output_type": "display_data"
    }
   ],
   "source": [
    "# Datos de visualización\n",
    "ataque_param = 'base_ataque'\n",
    "defensa_param = 'base_defensa'\n",
    "\n",
    "vis_ = (\n",
    "    summary_vis_\n",
    "    .loc[summary_vis_['param'].isin([ataque_param, defensa_param]) ]\n",
    "    .reset_index(drop=True)\n",
    ")\n",
    "\n",
    "# Especificaciones de figura\n",
    "plt.figure(figsize=(10,5))\n",
    "\n",
    "# Visualizaciones\n",
    "plt.scatter(\n",
    "    x=vis_.query(f\"param=='{ataque_param}'\").Mean\n",
    "    ,y=vis_.query(f\"param=='{defensa_param}'\").Mean\n",
    "    ,color='black'\n",
    "    ,alpha=0.5)\n",
    "plt.axvline(x=0, color='black', alpha=0.25, linestyle='--')\n",
    "plt.axhline(y=0, color='black', alpha=0.25, linestyle='--')\n",
    "\n",
    "# Anotaciones y estilo\n",
    "plt.title('Habilidad de los equipos', loc='left')\n",
    "plt.xlabel(ataque_param)\n",
    "plt.ylabel(defensa_param)\n",
    "\n",
    "plt.show()"
   ]
  },
  {
   "attachments": {},
   "cell_type": "markdown",
   "metadata": {},
   "source": [
    "Verificar restricción de suma cero"
   ]
  },
  {
   "cell_type": "code",
   "execution_count": 25,
   "metadata": {},
   "outputs": [
    {
     "data": {
      "text/plain": [
       "-3.0840000009302315e-06"
      ]
     },
     "execution_count": 25,
     "metadata": {},
     "output_type": "execute_result"
    }
   ],
   "source": [
    "(\n",
    "    summary_vis_\n",
    "    .loc[summary_vis_['param'] == 'defensa']\n",
    "    .reset_index(drop=True)\n",
    "    .Mean\n",
    "    .sum()\n",
    ")"
   ]
  },
  {
   "attachments": {},
   "cell_type": "markdown",
   "metadata": {},
   "source": [
    "# 4. Predicciones\n",
    "\n",
    "## 4.1 Intervalos de predicción"
   ]
  },
  {
   "cell_type": "code",
   "execution_count": 34,
   "metadata": {},
   "outputs": [
    {
     "data": {
      "image/png": "[encoded data removed]",
      "text/plain": [
       "<Figure size 1000x500 with 2 Axes>"
      ]
     },
     "metadata": {},
     "output_type": "display_data"
    }
   ],
   "source": [
    "# Especificaciones de figura\n",
    "fig = plt.figure(figsize=(10,5))\n",
    "gs = plt.GridSpec(nrows=1, ncols=2, figure=fig, wspace=0.2, hspace=0.2)\n",
    "\n",
    "facet_dict = {\n",
    "    'params': ['sims_local', 'sims_visita']\n",
    "    ,'title': ['Equipo local', 'Equipo visitante']\n",
    "}\n",
    "\n",
    "# Factor de ruido\n",
    "k = 0.2\n",
    "\n",
    "for idx_ in range(len(facet_dict)):\n",
    "    # Datos de visualización\n",
    "    vis_ = (\n",
    "        summary_vis_\n",
    "        .loc[summary_vis_['param'] == facet_dict['params'][idx_]][['5%','50%','95%']]\n",
    "        .reset_index(drop=True)\n",
    "        .join(df_.home_team_score)\n",
    "        .rename(columns={\n",
    "            '5%': 'p_05'\n",
    "            ,'50%': 'p_50'\n",
    "            ,'95%': 'p_95'}))\n",
    "\n",
    "    # Visualizaciones\n",
    "    ax = fig.add_subplot(gs[idx_])\n",
    "    ax.scatter(\n",
    "        x=vis_.home_team_score + np.random.uniform(low=-k, high=k, size=vis_.shape[0])\n",
    "        ,y=vis_.p_05 + np.random.uniform(low=-k, high=k, size=vis_.shape[0])\n",
    "        ,color=config['visuals']['colors']['amarillo']\n",
    "        ,alpha=0.05\n",
    "        ,label='Percentil 5')\n",
    "    ax.scatter(\n",
    "        x=vis_.home_team_score + np.random.uniform(low=-k, high=k, size=vis_.shape[0])\n",
    "        ,y=vis_.p_95 + np.random.uniform(low=-k, high=k, size=vis_.shape[0])\n",
    "        ,color=config['visuals']['colors']['rojo']\n",
    "        ,alpha=0.05\n",
    "        ,label='Percentil 95')\n",
    "    ax.scatter(\n",
    "        x=vis_.home_team_score + np.random.uniform(low=-k, high=k, size=vis_.shape[0])\n",
    "        ,y=vis_.p_50 + np.random.uniform(low=-k, high=k, size=vis_.shape[0])\n",
    "        ,color=config['visuals']['colors']['morado']\n",
    "        ,alpha=0.1\n",
    "        ,label='Mediana')\n",
    "    #plt.plot(vis_.home_team_score, vis_.home_team_score, color='black', alpha=0.25)\n",
    "\n",
    "\n",
    "    # Anotaciones y estilo\n",
    "    ax.set_title(facet_dict['title'][idx_])\n",
    "    ax.set_xticks(np.arange(0,21,2))\n",
    "    ax.set_yticks(np.arange(0,21,2))\n",
    "\n",
    "fig.supxlabel('Goles observados')\n",
    "fig.supylabel('Predicción de goles')\n",
    "ax.legend()\n",
    "\n",
    "plt.show()"
   ]
  },
  {
   "attachments": {},
   "cell_type": "markdown",
   "metadata": {},
   "source": [
    "## 4.2 Distribuciones de la predictiva posterior"
   ]
  },
  {
   "cell_type": "code",
   "execution_count": 27,
   "metadata": {},
   "outputs": [],
   "source": [
    "preds = {\n",
    "    'preds_home':(\n",
    "        summary_vis_\n",
    "        .loc[summary_vis_.param == 'sims_local']\n",
    "        .Mean\n",
    "        .apply(int)).values\n",
    "    ,'preds_away':(\n",
    "    summary_vis_\n",
    "    .loc[summary_vis_.param == 'sims_visita']\n",
    "    .Mean\n",
    "    .apply(int)).values\n",
    "}\n",
    "\n",
    "preds = (\n",
    "    pd.DataFrame(preds)\n",
    "    .assign(\n",
    "        # -1: Away win, 0: Draw, 1: Home win\n",
    "        result = lambda df_:\n",
    "            (df_.preds_home - df_.preds_away).apply(np.sign)\n",
    "    )\n",
    ")"
   ]
  },
  {
   "cell_type": "code",
   "execution_count": 28,
   "metadata": {},
   "outputs": [
    {
     "data": {
      "image/png": "[encoded data removed]",
      "text/plain": [
       "<Figure size 1000x600 with 4 Axes>"
      ]
     },
     "metadata": {},
     "output_type": "display_data"
    }
   ],
   "source": [
    "# Datos de visualización\n",
    "vis_ = pd.concat(\n",
    "    (df_[['home_team_score','away_team_score']],preds[['preds_home','preds_away']])\n",
    "    ,axis=1)\n",
    "\n",
    "# Especificaciones de figura\n",
    "fig = plt.figure(figsize=(10,6))\n",
    "gs = plt.GridSpec(nrows=2, ncols=2, figure=fig, wspace=0.2, hspace=0.3)\n",
    "\n",
    "for idx_, col_ in enumerate(vis_.columns):\n",
    "    # Agrager elemento de figura\n",
    "    ax = fig.add_subplot(gs[idx_])\n",
    "\n",
    "    # Visualizaciones\n",
    "    ax.bar(\n",
    "        x=vis_[col_].value_counts().index\n",
    "        ,height=vis_[col_].value_counts().values\n",
    "        ,color=list(config['visuals']['colors'].values())[idx_%2 + 4]\n",
    "        ,alpha=0.5)\n",
    "    \n",
    "    # Anotaciones y estilo locales\n",
    "    ax.set_title(col_)\n",
    "    ax.set_xticks(np.arange(0,21,2))\n",
    "\n",
    "# Anotaciones globales\n",
    "fig.suptitle('Comparación de distribuciones de goles por tipo de equipo')\n",
    "fig.supxlabel('Goles anotados')\n",
    "\n",
    "plt.show()\n",
    "    "
   ]
  },
  {
   "attachments": {},
   "cell_type": "markdown",
   "metadata": {},
   "source": [
    "# 5. Métricas de desempeño"
   ]
  },
  {
   "cell_type": "code",
   "execution_count": null,
   "metadata": {},
   "outputs": [],
   "source": []
  },
  {
   "cell_type": "code",
   "execution_count": null,
   "metadata": {},
   "outputs": [],
   "source": []
  }
 ],
 "metadata": {
  "kernelspec": {
   "display_name": "stan",
   "language": "python",
   "name": "python3"
  },
  "language_info": {
   "codemirror_mode": {
    "name": "ipython",
    "version": 3
   },
   "file_extension": ".py",
   "mimetype": "text/x-python",
   "name": "python",
   "nbconvert_exporter": "python",
   "pygments_lexer": "ipython3",
   "version": "3.11.3"
  },
  "orig_nbformat": 4
 },
 "nbformat": 4,
 "nbformat_minor": 2
}
