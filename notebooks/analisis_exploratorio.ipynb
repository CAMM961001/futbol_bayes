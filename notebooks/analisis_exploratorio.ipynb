{
 "cells": [
  {
   "attachments": {},
   "cell_type": "markdown",
   "metadata": {},
   "source": [
    "!pip3 install ipywidgets"
   ]
  },
  {
   "attachments": {},
   "cell_type": "markdown",
   "metadata": {},
   "source": [
    "# Fútbol bayesiano\n",
    "\n",
    "Carga de librerías"
   ]
  },
  {
   "cell_type": "code",
   "execution_count": 1,
   "metadata": {},
   "outputs": [],
   "source": [
    "import os\n",
    "import yaml\n",
    "import pandas as pd\n",
    "import matplotlib.pyplot as plt\n",
    "\n",
    "from cmdstanpy import CmdStanModel"
   ]
  },
  {
   "attachments": {},
   "cell_type": "markdown",
   "metadata": {},
   "source": [
    "Se definen rutas relativas del archivo"
   ]
  },
  {
   "cell_type": "code",
   "execution_count": 2,
   "metadata": {},
   "outputs": [],
   "source": [
    "CURRENT = os.getcwd()\n",
    "ROOT = os.path.dirname(CURRENT)"
   ]
  },
  {
   "attachments": {},
   "cell_type": "markdown",
   "metadata": {},
   "source": [
    "Cargar en memoria archivo de configuración"
   ]
  },
  {
   "cell_type": "code",
   "execution_count": 3,
   "metadata": {},
   "outputs": [],
   "source": [
    "with open(os.path.join(ROOT, 'config.yml'), 'r') as file_:\n",
    "    config = yaml.safe_load(file_)\n",
    "file_.close()"
   ]
  },
  {
   "attachments": {},
   "cell_type": "markdown",
   "metadata": {},
   "source": [
    "# 1. Análisis exploratorio de datos\n",
    "\n",
    "## 1.1 Exploración tabular\n",
    "\n",
    "Dimensiones básicas del conjunto de datos"
   ]
  },
  {
   "cell_type": "code",
   "execution_count": 4,
   "metadata": {},
   "outputs": [
    {
     "name": "stdout",
     "output_type": "stream",
     "text": [
      "---------- Dims. Básicas ----------\n",
      "rows:     23_921\n",
      "cols:     44\n"
     ]
    }
   ],
   "source": [
    "# Lectura de datos en bruto\n",
    "futbol_df = pd.read_csv(\n",
    "    os.path.join(ROOT, config['datos']['raw'])\n",
    "    ,encoding='latin-1'\n",
    ")\n",
    "\n",
    "# Generar catálogo de datos\n",
    "info_ = os.path.join(ROOT, config['datos']['cat_raw'])\n",
    "\n",
    "with open(file=info_, mode='w') as file_:\n",
    "    futbol_df.info(buf=file_)\n",
    "file_.close()\n",
    "\n",
    "print(' Dims. Básicas '.center(35, '-'))\n",
    "print('rows:'.ljust(10, ' ') + f'{futbol_df.shape[0]:_.0f}')\n",
    "print('cols:'.ljust(10, ' ') + f'{futbol_df.shape[1]:_.0f}')"
   ]
  },
  {
   "attachments": {},
   "cell_type": "markdown",
   "metadata": {},
   "source": [
    "Formatear los nombres de las columnas a *snake_case*"
   ]
  },
  {
   "cell_type": "code",
   "execution_count": 5,
   "metadata": {},
   "outputs": [],
   "source": [
    "futbol_df.columns = [col_name.lower() for col_name in futbol_df.columns]"
   ]
  },
  {
   "attachments": {},
   "cell_type": "markdown",
   "metadata": {},
   "source": [
    "Se seleccionan únicamente los partidos registrados después del mundial del 2018 en adelante, esto es debido a que se utilizará este como periodo de entrenamiento para los modelos, para posteriormente hacer predicciones para el mundial de Qatar 2022"
   ]
  },
  {
   "cell_type": "code",
   "execution_count": 6,
   "metadata": {},
   "outputs": [
    {
     "data": {
      "text/html": [
       "<div>\n",
       "<style scoped>\n",
       "    .dataframe tbody tr th:only-of-type {\n",
       "        vertical-align: middle;\n",
       "    }\n",
       "\n",
       "    .dataframe tbody tr th {\n",
       "        vertical-align: top;\n",
       "    }\n",
       "\n",
       "    .dataframe thead th {\n",
       "        text-align: right;\n",
       "    }\n",
       "</style>\n",
       "<table border=\"1\" class=\"dataframe\">\n",
       "  <thead>\n",
       "    <tr style=\"text-align: right;\">\n",
       "      <th></th>\n",
       "      <th>day</th>\n",
       "      <th>month</th>\n",
       "      <th>year</th>\n",
       "      <th>tournament</th>\n",
       "      <th>home_team</th>\n",
       "      <th>away_team</th>\n",
       "      <th>neutral_location</th>\n",
       "      <th>home_team_score</th>\n",
       "      <th>away_team_score</th>\n",
       "      <th>home_team_fifa_rank</th>\n",
       "      <th>away_team_fifa_rank</th>\n",
       "    </tr>\n",
       "  </thead>\n",
       "  <tbody>\n",
       "    <tr>\n",
       "      <th>0</th>\n",
       "      <td>2</td>\n",
       "      <td>1</td>\n",
       "      <td>2019</td>\n",
       "      <td>Friendly</td>\n",
       "      <td>Oman</td>\n",
       "      <td>Thailand</td>\n",
       "      <td>True</td>\n",
       "      <td>2</td>\n",
       "      <td>0</td>\n",
       "      <td>82</td>\n",
       "      <td>118</td>\n",
       "    </tr>\n",
       "    <tr>\n",
       "      <th>1</th>\n",
       "      <td>5</td>\n",
       "      <td>1</td>\n",
       "      <td>2019</td>\n",
       "      <td>AFC Asian Cup</td>\n",
       "      <td>United Arab Emirates</td>\n",
       "      <td>Bahrain</td>\n",
       "      <td>False</td>\n",
       "      <td>1</td>\n",
       "      <td>1</td>\n",
       "      <td>79</td>\n",
       "      <td>113</td>\n",
       "    </tr>\n",
       "    <tr>\n",
       "      <th>2</th>\n",
       "      <td>6</td>\n",
       "      <td>1</td>\n",
       "      <td>2019</td>\n",
       "      <td>AFC Asian Cup</td>\n",
       "      <td>Thailand</td>\n",
       "      <td>India</td>\n",
       "      <td>True</td>\n",
       "      <td>1</td>\n",
       "      <td>4</td>\n",
       "      <td>118</td>\n",
       "      <td>97</td>\n",
       "    </tr>\n",
       "    <tr>\n",
       "      <th>3</th>\n",
       "      <td>6</td>\n",
       "      <td>1</td>\n",
       "      <td>2019</td>\n",
       "      <td>AFC Asian Cup</td>\n",
       "      <td>Australia</td>\n",
       "      <td>Jordan</td>\n",
       "      <td>True</td>\n",
       "      <td>0</td>\n",
       "      <td>1</td>\n",
       "      <td>41</td>\n",
       "      <td>109</td>\n",
       "    </tr>\n",
       "    <tr>\n",
       "      <th>4</th>\n",
       "      <td>6</td>\n",
       "      <td>1</td>\n",
       "      <td>2019</td>\n",
       "      <td>AFC Asian Cup</td>\n",
       "      <td>Syria</td>\n",
       "      <td>Palestine</td>\n",
       "      <td>True</td>\n",
       "      <td>0</td>\n",
       "      <td>0</td>\n",
       "      <td>74</td>\n",
       "      <td>99</td>\n",
       "    </tr>\n",
       "    <tr>\n",
       "      <th>...</th>\n",
       "      <td>...</td>\n",
       "      <td>...</td>\n",
       "      <td>...</td>\n",
       "      <td>...</td>\n",
       "      <td>...</td>\n",
       "      <td>...</td>\n",
       "      <td>...</td>\n",
       "      <td>...</td>\n",
       "      <td>...</td>\n",
       "      <td>...</td>\n",
       "      <td>...</td>\n",
       "    </tr>\n",
       "    <tr>\n",
       "      <th>3016</th>\n",
       "      <td>14</td>\n",
       "      <td>6</td>\n",
       "      <td>2022</td>\n",
       "      <td>UEFA Nations League</td>\n",
       "      <td>Moldova</td>\n",
       "      <td>Andorra</td>\n",
       "      <td>False</td>\n",
       "      <td>2</td>\n",
       "      <td>1</td>\n",
       "      <td>180</td>\n",
       "      <td>153</td>\n",
       "    </tr>\n",
       "    <tr>\n",
       "      <th>3017</th>\n",
       "      <td>14</td>\n",
       "      <td>6</td>\n",
       "      <td>2022</td>\n",
       "      <td>UEFA Nations League</td>\n",
       "      <td>Liechtenstein</td>\n",
       "      <td>Latvia</td>\n",
       "      <td>False</td>\n",
       "      <td>0</td>\n",
       "      <td>2</td>\n",
       "      <td>192</td>\n",
       "      <td>135</td>\n",
       "    </tr>\n",
       "    <tr>\n",
       "      <th>3018</th>\n",
       "      <td>14</td>\n",
       "      <td>6</td>\n",
       "      <td>2022</td>\n",
       "      <td>Kirin Cup</td>\n",
       "      <td>Chile</td>\n",
       "      <td>Ghana</td>\n",
       "      <td>True</td>\n",
       "      <td>0</td>\n",
       "      <td>0</td>\n",
       "      <td>28</td>\n",
       "      <td>60</td>\n",
       "    </tr>\n",
       "    <tr>\n",
       "      <th>3019</th>\n",
       "      <td>14</td>\n",
       "      <td>6</td>\n",
       "      <td>2022</td>\n",
       "      <td>Kirin Cup</td>\n",
       "      <td>Japan</td>\n",
       "      <td>Tunisia</td>\n",
       "      <td>False</td>\n",
       "      <td>0</td>\n",
       "      <td>3</td>\n",
       "      <td>23</td>\n",
       "      <td>35</td>\n",
       "    </tr>\n",
       "    <tr>\n",
       "      <th>3020</th>\n",
       "      <td>14</td>\n",
       "      <td>6</td>\n",
       "      <td>2022</td>\n",
       "      <td>Friendly</td>\n",
       "      <td>Korea Republic</td>\n",
       "      <td>Egypt</td>\n",
       "      <td>False</td>\n",
       "      <td>4</td>\n",
       "      <td>1</td>\n",
       "      <td>29</td>\n",
       "      <td>32</td>\n",
       "    </tr>\n",
       "  </tbody>\n",
       "</table>\n",
       "<p>3021 rows × 11 columns</p>\n",
       "</div>"
      ],
      "text/plain": [
       "      day  month  year           tournament             home_team  away_team   \n",
       "0       2      1  2019             Friendly                  Oman   Thailand  \\\n",
       "1       5      1  2019        AFC Asian Cup  United Arab Emirates    Bahrain   \n",
       "2       6      1  2019        AFC Asian Cup              Thailand      India   \n",
       "3       6      1  2019        AFC Asian Cup             Australia     Jordan   \n",
       "4       6      1  2019        AFC Asian Cup                 Syria  Palestine   \n",
       "...   ...    ...   ...                  ...                   ...        ...   \n",
       "3016   14      6  2022  UEFA Nations League               Moldova    Andorra   \n",
       "3017   14      6  2022  UEFA Nations League         Liechtenstein     Latvia   \n",
       "3018   14      6  2022            Kirin Cup                 Chile      Ghana   \n",
       "3019   14      6  2022            Kirin Cup                 Japan    Tunisia   \n",
       "3020   14      6  2022             Friendly        Korea Republic      Egypt   \n",
       "\n",
       "      neutral_location  home_team_score  away_team_score  home_team_fifa_rank   \n",
       "0                 True                2                0                   82  \\\n",
       "1                False                1                1                   79   \n",
       "2                 True                1                4                  118   \n",
       "3                 True                0                1                   41   \n",
       "4                 True                0                0                   74   \n",
       "...                ...              ...              ...                  ...   \n",
       "3016             False                2                1                  180   \n",
       "3017             False                0                2                  192   \n",
       "3018              True                0                0                   28   \n",
       "3019             False                0                3                   23   \n",
       "3020             False                4                1                   29   \n",
       "\n",
       "      away_team_fifa_rank  \n",
       "0                     118  \n",
       "1                     113  \n",
       "2                      97  \n",
       "3                     109  \n",
       "4                      99  \n",
       "...                   ...  \n",
       "3016                  153  \n",
       "3017                  135  \n",
       "3018                   60  \n",
       "3019                   35  \n",
       "3020                   32  \n",
       "\n",
       "[3021 rows x 11 columns]"
      ]
     },
     "execution_count": 6,
     "metadata": {},
     "output_type": "execute_result"
    }
   ],
   "source": [
    "futbol_mask = (\n",
    "    futbol_df\n",
    "    .query('year > 2018')\n",
    "    .filter(items=[\n",
    "        'day'\n",
    "        ,'month'\n",
    "        ,'year'\n",
    "        ,'tournament'\n",
    "        ,'home_team'\n",
    "        ,'away_team'\n",
    "        ,'neutral_location'\n",
    "        ,'home_team_score'\n",
    "        ,'away_team_score'\n",
    "        ,'home_team_fifa_rank'\n",
    "        ,'away_team_fifa_rank'])\n",
    "    .reset_index(drop=True)\n",
    ")\n",
    "\n",
    "futbol_mask"
   ]
  },
  {
   "cell_type": "code",
   "execution_count": null,
   "metadata": {},
   "outputs": [],
   "source": []
  },
  {
   "cell_type": "code",
   "execution_count": null,
   "metadata": {},
   "outputs": [],
   "source": []
  },
  {
   "cell_type": "code",
   "execution_count": null,
   "metadata": {},
   "outputs": [],
   "source": []
  },
  {
   "cell_type": "code",
   "execution_count": null,
   "metadata": {},
   "outputs": [],
   "source": []
  },
  {
   "cell_type": "code",
   "execution_count": null,
   "metadata": {},
   "outputs": [],
   "source": []
  },
  {
   "cell_type": "code",
   "execution_count": 8,
   "metadata": {},
   "outputs": [],
   "source": [
    "# Directorios a archivos de stan\n",
    "INPUT_DIR = os.path.join(ROOT, config['modelos']['inputs'])\n",
    "OUTPUT_DIR = os.path.join(ROOT, config['modelos']['outputs'])\n",
    "\n",
    "# Rutas de modelos de stan\n",
    "FILE_NAME = 'futbol_jerarquico.stan'\n",
    "INPUT_ = os.path.join(INPUT_DIR, FILE_NAME)\n",
    "OUTPUT_ = os.path.join(OUTPUT_DIR, FILE_NAME)\n"
   ]
  },
  {
   "cell_type": "code",
   "execution_count": 9,
   "metadata": {},
   "outputs": [],
   "source": [
    "model_ = CmdStanModel(\n",
    "    stan_file=INPUT_\n",
    "    ,exe_file=OUTPUT_\n",
    "    ,compile=True)"
   ]
  },
  {
   "cell_type": "code",
   "execution_count": null,
   "metadata": {},
   "outputs": [],
   "source": []
  }
 ],
 "metadata": {
  "kernelspec": {
   "display_name": "stan",
   "language": "python",
   "name": "python3"
  },
  "language_info": {
   "codemirror_mode": {
    "name": "ipython",
    "version": 3
   },
   "file_extension": ".py",
   "mimetype": "text/x-python",
   "name": "python",
   "nbconvert_exporter": "python",
   "pygments_lexer": "ipython3",
   "version": "3.11.3"
  },
  "orig_nbformat": 4
 },
 "nbformat": 4,
 "nbformat_minor": 2
}
